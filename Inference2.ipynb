{
 "cells": [
  {
   "cell_type": "code",
   "execution_count": 1,
   "id": "5a36e890",
   "metadata": {},
   "outputs": [],
   "source": [
    "import pandas as pd"
   ]
  },
  {
   "cell_type": "code",
   "execution_count": 2,
   "id": "3449d740",
   "metadata": {},
   "outputs": [],
   "source": [
    "import numpy as np"
   ]
  },
  {
   "cell_type": "code",
   "execution_count": 3,
   "id": "ef20aa2e",
   "metadata": {},
   "outputs": [],
   "source": [
    "def read_test_data():\n",
    "    Dfs = []\n",
    "    train_df = []\n",
    "    coords = pd.read_csv(\"data_phase_one/coords.csv\", header=None)\n",
    "    for name in [\"mslp\", \"sst\", \"ssta\", \"t2m\"]:\n",
    "        df = pd.read_csv(f\"./data_phase_one/test_input_{name}_phase_one.csv\", header=None)\n",
    "        print(\"Shape df\", df.shape)\n",
    "        Dfs.append(df)\n",
    "        #Dfs.append(df.T.reset_index(drop=True))\n",
    "    j = 0\n",
    "    for i in range(0, df.shape[0], 12):\n",
    "        feat = pd.concat([coords, Dfs[0].iloc[i:i+12], Dfs[1].iloc[i:i+12], Dfs[2].iloc[i:i+12], Dfs[3].iloc[i:i+12]], axis=0).reset_index(drop=True)\n",
    "        feat = feat.T.reset_index(drop=True)\n",
    "        feat.columns = [f\"feat_{k}\" for k in range(feat.shape[1])]\n",
    "        if j < 3:\n",
    "            print(feat.columns)\n",
    "        train_df.append(feat)\n",
    "        j += 1\n",
    "    train_df = pd.concat(train_df, axis=0)\n",
    "    return train_df"
   ]
  },
  {
   "cell_type": "code",
   "execution_count": 4,
   "id": "558c5d17",
   "metadata": {},
   "outputs": [
    {
     "name": "stdout",
     "output_type": "stream",
     "text": [
      "Shape df (852, 5774)\n",
      "Shape df (852, 5774)\n",
      "Shape df (852, 5774)\n",
      "Shape df (852, 5774)\n",
      "Index(['feat_0', 'feat_1', 'feat_2', 'feat_3', 'feat_4', 'feat_5', 'feat_6',\n",
      "       'feat_7', 'feat_8', 'feat_9', 'feat_10', 'feat_11', 'feat_12',\n",
      "       'feat_13', 'feat_14', 'feat_15', 'feat_16', 'feat_17', 'feat_18',\n",
      "       'feat_19', 'feat_20', 'feat_21', 'feat_22', 'feat_23', 'feat_24',\n",
      "       'feat_25', 'feat_26', 'feat_27', 'feat_28', 'feat_29', 'feat_30',\n",
      "       'feat_31', 'feat_32', 'feat_33', 'feat_34', 'feat_35', 'feat_36',\n",
      "       'feat_37', 'feat_38', 'feat_39', 'feat_40', 'feat_41', 'feat_42',\n",
      "       'feat_43', 'feat_44', 'feat_45', 'feat_46', 'feat_47', 'feat_48',\n",
      "       'feat_49'],\n",
      "      dtype='object')\n",
      "Index(['feat_0', 'feat_1', 'feat_2', 'feat_3', 'feat_4', 'feat_5', 'feat_6',\n",
      "       'feat_7', 'feat_8', 'feat_9', 'feat_10', 'feat_11', 'feat_12',\n",
      "       'feat_13', 'feat_14', 'feat_15', 'feat_16', 'feat_17', 'feat_18',\n",
      "       'feat_19', 'feat_20', 'feat_21', 'feat_22', 'feat_23', 'feat_24',\n",
      "       'feat_25', 'feat_26', 'feat_27', 'feat_28', 'feat_29', 'feat_30',\n",
      "       'feat_31', 'feat_32', 'feat_33', 'feat_34', 'feat_35', 'feat_36',\n",
      "       'feat_37', 'feat_38', 'feat_39', 'feat_40', 'feat_41', 'feat_42',\n",
      "       'feat_43', 'feat_44', 'feat_45', 'feat_46', 'feat_47', 'feat_48',\n",
      "       'feat_49'],\n",
      "      dtype='object')\n",
      "Index(['feat_0', 'feat_1', 'feat_2', 'feat_3', 'feat_4', 'feat_5', 'feat_6',\n",
      "       'feat_7', 'feat_8', 'feat_9', 'feat_10', 'feat_11', 'feat_12',\n",
      "       'feat_13', 'feat_14', 'feat_15', 'feat_16', 'feat_17', 'feat_18',\n",
      "       'feat_19', 'feat_20', 'feat_21', 'feat_22', 'feat_23', 'feat_24',\n",
      "       'feat_25', 'feat_26', 'feat_27', 'feat_28', 'feat_29', 'feat_30',\n",
      "       'feat_31', 'feat_32', 'feat_33', 'feat_34', 'feat_35', 'feat_36',\n",
      "       'feat_37', 'feat_38', 'feat_39', 'feat_40', 'feat_41', 'feat_42',\n",
      "       'feat_43', 'feat_44', 'feat_45', 'feat_46', 'feat_47', 'feat_48',\n",
      "       'feat_49'],\n",
      "      dtype='object')\n"
     ]
    }
   ],
   "source": [
    "test_data = read_test_data()"
   ]
  },
  {
   "cell_type": "code",
   "execution_count": 5,
   "id": "312d31c0",
   "metadata": {},
   "outputs": [
    {
     "data": {
      "text/plain": [
       "(409954, 50)"
      ]
     },
     "execution_count": 5,
     "metadata": {},
     "output_type": "execute_result"
    }
   ],
   "source": [
    "test_data.shape"
   ]
  },
  {
   "cell_type": "code",
   "execution_count": 6,
   "id": "5cde8c0f-746b-4956-864a-c11d76c686a3",
   "metadata": {},
   "outputs": [],
   "source": [
    "monthly_stats = np.load(\"monthly_stats.npy\")"
   ]
  },
  {
   "cell_type": "code",
   "execution_count": 7,
   "id": "1d1815ba-2386-4c1e-b1e3-8ba34a879cb0",
   "metadata": {},
   "outputs": [],
   "source": [
    "monthly_stats = np.tile(monthly_stats,(len(test_data)//5774,1))"
   ]
  },
  {
   "cell_type": "code",
   "execution_count": 8,
   "id": "d08bfdb3-c5fd-4c6d-9bcd-e46b8cd46d52",
   "metadata": {},
   "outputs": [],
   "source": [
    "monthly_stats_df = pd.DataFrame(monthly_stats, columns=[f\"add_feat_{i}\" for i in range(24)])"
   ]
  },
  {
   "cell_type": "code",
   "execution_count": 9,
   "id": "eefc628b-a121-4358-8539-92e0a95cd508",
   "metadata": {},
   "outputs": [],
   "source": [
    "data_rich = pd.concat([test_data.reset_index(drop=True), monthly_stats_df], axis=1)"
   ]
  },
  {
   "cell_type": "code",
   "execution_count": 10,
   "id": "b6da04d8",
   "metadata": {},
   "outputs": [],
   "source": [
    "import joblib"
   ]
  },
  {
   "cell_type": "code",
   "execution_count": 11,
   "id": "8190de16",
   "metadata": {},
   "outputs": [],
   "source": [
    "#lgb_model = joblib.load(\"./trained_models/lgb_model.joblib\")\n",
    "#catb_model = joblib.load(\"./trained_models/catb_model.joblib\")"
   ]
  },
  {
   "cell_type": "code",
   "execution_count": 12,
   "id": "dbfb2c23",
   "metadata": {},
   "outputs": [],
   "source": [
    "#y_pred1 = lgb_model.predict(test_data.values)\n",
    "#y_pred2 = catb_model.predict(test_data.values)"
   ]
  },
  {
   "cell_type": "code",
   "execution_count": 13,
   "id": "3e8465f1",
   "metadata": {},
   "outputs": [],
   "source": [
    "#y_pred = 0.2*y_pred1 + 0.8*y_pred2 ==> -0.06\n",
    "#y_pred = 0.55*y_pred1 + 0.45*y_pred2 ==> -0.03\n",
    "#y_pred = 0.8*y_pred1 + 0.2*y_pred2 ==> -0.01\n",
    "#y_pred = 0.95*y_pred1 + 0.05*y_pred2 ==> -0.0012\n",
    "#y_pred = 0.99*y_pred1 - 0.01*y_pred2 ==> 0.0032"
   ]
  },
  {
   "cell_type": "code",
   "execution_count": 14,
   "id": "57ddca55",
   "metadata": {},
   "outputs": [],
   "source": [
    "#y_pred = 0.99*y_pred1 - 0.01*y_pred2"
   ]
  },
  {
   "cell_type": "code",
   "execution_count": 15,
   "id": "7a4838ec",
   "metadata": {},
   "outputs": [],
   "source": [
    "#pred_df = pd.DataFrame(y_pred.reshape(71, 5774))"
   ]
  },
  {
   "cell_type": "code",
   "execution_count": 16,
   "id": "86442c29",
   "metadata": {},
   "outputs": [],
   "source": [
    "#pred_df"
   ]
  },
  {
   "cell_type": "code",
   "execution_count": 17,
   "id": "17d6ac3e",
   "metadata": {},
   "outputs": [],
   "source": [
    "#pred_df.to_csv(\"./predictions.csv\", index=False, header=False)"
   ]
  },
  {
   "cell_type": "code",
   "execution_count": null,
   "id": "882bcd37",
   "metadata": {},
   "outputs": [],
   "source": []
  },
  {
   "cell_type": "markdown",
   "id": "df42da6f-9404-4730-9ff7-ac86867595bf",
   "metadata": {},
   "source": [
    "## K-Fold Predictions"
   ]
  },
  {
   "cell_type": "code",
   "execution_count": 18,
   "id": "ddb27b95-fe3c-408d-83dc-987ada831937",
   "metadata": {},
   "outputs": [],
   "source": [
    "import os\n",
    "from sklearn.base import BaseEstimator, RegressorMixin\n",
    "from sklearn.preprocessing import StandardScaler"
   ]
  },
  {
   "cell_type": "code",
   "execution_count": 19,
   "id": "b439ec0d-b38a-4240-86c8-b15a2ac345ed",
   "metadata": {},
   "outputs": [],
   "source": [
    "class VotingModel(BaseEstimator, RegressorMixin):\n",
    "    def __init__(self, estimators, coeffs):\n",
    "        super().__init__()\n",
    "        self.estimators = estimators\n",
    "        self.coeffs = coeffs\n",
    "        \n",
    "    def fit(self, X, y=None):\n",
    "        return self\n",
    "    \n",
    "    def predict(self, X):\n",
    "        y_preds = [coeff*estimator.predict(X) for estimator, coeff in zip(self.estimators, self.coeffs)]\n",
    "        return np.sum(y_preds, axis=0)"
   ]
  },
  {
   "cell_type": "code",
   "execution_count": 20,
   "id": "a5146e98-b70b-49f1-9e5b-68e91a01420d",
   "metadata": {},
   "outputs": [],
   "source": [
    "def load_boosting_models(path, num_folds=5):\n",
    "    Models = []\n",
    "    for fold in range(num_folds):\n",
    "        for model_name in [\"catb\", \"lgb\"]:\n",
    "            for trained_model_path in os.listdir(path):\n",
    "                if trained_model_path.startswith(\".\"): continue\n",
    "                if model_name in trained_model_path and f'fold{fold}' in trained_model_path:\n",
    "                    model = joblib.load(f'{path}/{trained_model_path}')\n",
    "                    Models.append(model)\n",
    "    return Models"
   ]
  },
  {
   "cell_type": "code",
   "execution_count": 45,
   "id": "871c9008-4407-4942-8687-6d626a2f83b9",
   "metadata": {},
   "outputs": [],
   "source": [
    "def load_xgb_models(path, num_folds=5):\n",
    "    Models = []\n",
    "    for fold in range(num_folds):\n",
    "        for model_name in [\"xgb\"]:\n",
    "            for trained_model_path in os.listdir(path):\n",
    "                if trained_model_path.startswith(\".\"): continue\n",
    "                if model_name in trained_model_path and f'fold{fold}' in trained_model_path:\n",
    "                    model = joblib.load(f'{path}/{trained_model_path}')\n",
    "                    Models.append(model)\n",
    "    return Models"
   ]
  },
  {
   "cell_type": "code",
   "execution_count": 46,
   "id": "3810addb-ecb7-4749-87ff-2b253134c145",
   "metadata": {},
   "outputs": [],
   "source": [
    "boosting_models = load_boosting_models(\"./kfold_trained2/\", 5)\n",
    "coeffs = [0.1, 0.1, 0.1, 0.1, 0.1, 0.1, 0.1, 0.1, 0.1, 0.1]\n",
    "assert sum(coeffs) == 1\n",
    "boosting_models = VotingModel(boosting_models, coeffs)"
   ]
  },
  {
   "cell_type": "code",
   "execution_count": 47,
   "id": "0aafb5af-47cf-4c8a-80d8-ac0cb9191498",
   "metadata": {},
   "outputs": [],
   "source": [
    "add_feat_boosting_models = VotingModel(load_boosting_models(\"./trained3/\"), coeffs)"
   ]
  },
  {
   "cell_type": "code",
   "execution_count": 24,
   "id": "237ed586-6d28-4fec-a4f1-5c85238ae1fd",
   "metadata": {},
   "outputs": [],
   "source": [
    "#scaler = joblib.load(\"./kfold_trained_preproc/Scaler.joblib\")"
   ]
  },
  {
   "cell_type": "code",
   "execution_count": 25,
   "id": "dcb300e8-8277-4e72-9f2f-51ac8bbcb91f",
   "metadata": {},
   "outputs": [],
   "source": [
    "from pytorch_implementation.dataset import Dataset\n",
    "from pytorch_implementation.helper_funcs import *"
   ]
  },
  {
   "cell_type": "code",
   "execution_count": 48,
   "id": "ef3f547d-dda3-4a4f-bc92-bece15f62c96",
   "metadata": {},
   "outputs": [],
   "source": [
    "trained_nn_models = load_trained(\"./trained_models_nn\")"
   ]
  },
  {
   "cell_type": "code",
   "execution_count": 49,
   "id": "23fbc2cc-d3cf-4b69-92e0-71d4395f6df4",
   "metadata": {},
   "outputs": [],
   "source": [
    "#y_pred_xgb = xgb_models.predict(test_data.values)"
   ]
  },
  {
   "cell_type": "code",
   "execution_count": 50,
   "id": "b0e1458a-1f0e-4943-9865-e12690792d74",
   "metadata": {},
   "outputs": [],
   "source": [
    "y_pred_boost = boosting_models.predict(test_data.values)\n",
    "y_pred_add_feat = add_feat_boosting_models.predict(data_rich.values)\n",
    "y_pred_gru = average_prediction(test_data.values, trained_nn_models[0::2])\n",
    "y_pred_lstm = average_prediction(test_data.values, trained_nn_models[1::2])"
   ]
  },
  {
   "cell_type": "code",
   "execution_count": 51,
   "id": "8008c8e1-94c8-4b38-855e-cffa8e6328a7",
   "metadata": {},
   "outputs": [
    {
     "data": {
      "text/plain": [
       "array([0.41890305, 0.60527185, 0.47927709, ..., 0.1407996 , 0.12893621,\n",
       "       0.67350551])"
      ]
     },
     "execution_count": 51,
     "metadata": {},
     "output_type": "execute_result"
    }
   ],
   "source": [
    "y_pred_add_feat"
   ]
  },
  {
   "cell_type": "code",
   "execution_count": 52,
   "id": "70095e42-e584-4c0f-9075-7d1de2d9e369",
   "metadata": {},
   "outputs": [
    {
     "data": {
      "text/plain": [
       "array([[0.408053  ],\n",
       "       [0.55129457],\n",
       "       [0.4076072 ],\n",
       "       ...,\n",
       "       [0.21938394],\n",
       "       [0.18747286],\n",
       "       [0.5706732 ]], dtype=float32)"
      ]
     },
     "execution_count": 52,
     "metadata": {},
     "output_type": "execute_result"
    }
   ],
   "source": [
    "y_pred_lstm"
   ]
  },
  {
   "cell_type": "code",
   "execution_count": 53,
   "id": "6cf7d37d-6ddd-4eb6-b332-a473c3e02c6a",
   "metadata": {},
   "outputs": [
    {
     "data": {
      "text/plain": [
       "array([[0.3978323 ],\n",
       "       [0.5199488 ],\n",
       "       [0.41578475],\n",
       "       ...,\n",
       "       [0.12658595],\n",
       "       [0.09968101],\n",
       "       [0.3182867 ]], dtype=float32)"
      ]
     },
     "execution_count": 53,
     "metadata": {},
     "output_type": "execute_result"
    }
   ],
   "source": [
    "y_pred_gru"
   ]
  },
  {
   "cell_type": "code",
   "execution_count": 54,
   "id": "16c3d162-61ce-4233-86f9-69c68d7de049",
   "metadata": {},
   "outputs": [
    {
     "data": {
      "text/plain": [
       "array([0.41524715, 0.60974182, 0.50326399, ..., 0.16638249, 0.1230431 ,\n",
       "       0.5932267 ])"
      ]
     },
     "execution_count": 54,
     "metadata": {},
     "output_type": "execute_result"
    }
   ],
   "source": [
    "y_pred_boost"
   ]
  },
  {
   "cell_type": "code",
   "execution_count": 55,
   "id": "a5ec46c9-bec7-429c-a1f1-179791e48eb8",
   "metadata": {},
   "outputs": [],
   "source": [
    "#y_pred = 0.15*y_pred_preproc + 0.85*(0.9*y_pred_boost + 0.03*y_pred_gru.squeeze() + 0.07*y_pred_lstm.squeeze())\n",
    "y_pred = 0.28*y_pred_add_feat + 0.95*(0.92*y_pred_boost + 0.01*y_pred_gru.squeeze() + 0.09*y_pred_lstm.squeeze())"
   ]
  },
  {
   "cell_type": "code",
   "execution_count": 56,
   "id": "e615865b-b682-43c6-b1cb-f1753fd7de9c",
   "metadata": {},
   "outputs": [],
   "source": [
    "pred_df = pd.DataFrame(y_pred.reshape(71, 5774))"
   ]
  },
  {
   "cell_type": "code",
   "execution_count": 57,
   "id": "d2f1d10b-c505-445e-ad70-a2b7eabfba48",
   "metadata": {},
   "outputs": [
    {
     "data": {
      "text/html": [
       "<div>\n",
       "<style scoped>\n",
       "    .dataframe tbody tr th:only-of-type {\n",
       "        vertical-align: middle;\n",
       "    }\n",
       "\n",
       "    .dataframe tbody tr th {\n",
       "        vertical-align: top;\n",
       "    }\n",
       "\n",
       "    .dataframe thead th {\n",
       "        text-align: right;\n",
       "    }\n",
       "</style>\n",
       "<table border=\"1\" class=\"dataframe\">\n",
       "  <thead>\n",
       "    <tr style=\"text-align: right;\">\n",
       "      <th></th>\n",
       "      <th>0</th>\n",
       "      <th>1</th>\n",
       "      <th>2</th>\n",
       "      <th>3</th>\n",
       "      <th>4</th>\n",
       "      <th>5</th>\n",
       "      <th>6</th>\n",
       "      <th>7</th>\n",
       "      <th>8</th>\n",
       "      <th>9</th>\n",
       "      <th>...</th>\n",
       "      <th>5764</th>\n",
       "      <th>5765</th>\n",
       "      <th>5766</th>\n",
       "      <th>5767</th>\n",
       "      <th>5768</th>\n",
       "      <th>5769</th>\n",
       "      <th>5770</th>\n",
       "      <th>5771</th>\n",
       "      <th>5772</th>\n",
       "      <th>5773</th>\n",
       "    </tr>\n",
       "  </thead>\n",
       "  <tbody>\n",
       "    <tr>\n",
       "      <th>0</th>\n",
       "      <td>0.518887</td>\n",
       "      <td>0.754466</td>\n",
       "      <td>0.612851</td>\n",
       "      <td>0.326934</td>\n",
       "      <td>0.249195</td>\n",
       "      <td>0.241115</td>\n",
       "      <td>0.208641</td>\n",
       "      <td>0.247317</td>\n",
       "      <td>0.213735</td>\n",
       "      <td>0.209538</td>\n",
       "      <td>...</td>\n",
       "      <td>0.027983</td>\n",
       "      <td>-0.007126</td>\n",
       "      <td>0.192913</td>\n",
       "      <td>0.150446</td>\n",
       "      <td>0.063116</td>\n",
       "      <td>0.137229</td>\n",
       "      <td>0.348811</td>\n",
       "      <td>0.158748</td>\n",
       "      <td>0.664158</td>\n",
       "      <td>0.938543</td>\n",
       "    </tr>\n",
       "    <tr>\n",
       "      <th>1</th>\n",
       "      <td>-0.563742</td>\n",
       "      <td>-0.612001</td>\n",
       "      <td>-0.582615</td>\n",
       "      <td>-0.578963</td>\n",
       "      <td>-0.751111</td>\n",
       "      <td>-0.645697</td>\n",
       "      <td>-0.526236</td>\n",
       "      <td>-0.456318</td>\n",
       "      <td>-0.402992</td>\n",
       "      <td>-0.493958</td>\n",
       "      <td>...</td>\n",
       "      <td>-0.263092</td>\n",
       "      <td>-0.265421</td>\n",
       "      <td>0.070233</td>\n",
       "      <td>0.195173</td>\n",
       "      <td>0.293732</td>\n",
       "      <td>0.348755</td>\n",
       "      <td>0.403343</td>\n",
       "      <td>0.436000</td>\n",
       "      <td>0.581960</td>\n",
       "      <td>1.015695</td>\n",
       "    </tr>\n",
       "    <tr>\n",
       "      <th>2</th>\n",
       "      <td>-0.121760</td>\n",
       "      <td>-0.072309</td>\n",
       "      <td>-0.037488</td>\n",
       "      <td>-0.085996</td>\n",
       "      <td>-0.079602</td>\n",
       "      <td>-0.081767</td>\n",
       "      <td>-0.072804</td>\n",
       "      <td>-0.058444</td>\n",
       "      <td>-0.056422</td>\n",
       "      <td>-0.060485</td>\n",
       "      <td>...</td>\n",
       "      <td>0.027962</td>\n",
       "      <td>0.032348</td>\n",
       "      <td>0.282928</td>\n",
       "      <td>0.362873</td>\n",
       "      <td>0.412671</td>\n",
       "      <td>0.400874</td>\n",
       "      <td>0.514729</td>\n",
       "      <td>0.422171</td>\n",
       "      <td>0.526793</td>\n",
       "      <td>0.503655</td>\n",
       "    </tr>\n",
       "    <tr>\n",
       "      <th>3</th>\n",
       "      <td>-0.162525</td>\n",
       "      <td>-0.233230</td>\n",
       "      <td>-0.128964</td>\n",
       "      <td>-0.149708</td>\n",
       "      <td>-0.108982</td>\n",
       "      <td>-0.043341</td>\n",
       "      <td>-0.026862</td>\n",
       "      <td>-0.033304</td>\n",
       "      <td>-0.026308</td>\n",
       "      <td>-0.030664</td>\n",
       "      <td>...</td>\n",
       "      <td>-0.402386</td>\n",
       "      <td>-0.307914</td>\n",
       "      <td>-0.197391</td>\n",
       "      <td>-0.132606</td>\n",
       "      <td>-0.059198</td>\n",
       "      <td>0.036104</td>\n",
       "      <td>-0.082673</td>\n",
       "      <td>-0.121003</td>\n",
       "      <td>0.008406</td>\n",
       "      <td>-0.041994</td>\n",
       "    </tr>\n",
       "    <tr>\n",
       "      <th>4</th>\n",
       "      <td>-0.657148</td>\n",
       "      <td>-0.404857</td>\n",
       "      <td>-0.409061</td>\n",
       "      <td>-0.555781</td>\n",
       "      <td>-0.546314</td>\n",
       "      <td>-0.426795</td>\n",
       "      <td>-0.333510</td>\n",
       "      <td>-0.312369</td>\n",
       "      <td>-0.477824</td>\n",
       "      <td>-0.501491</td>\n",
       "      <td>...</td>\n",
       "      <td>-0.563327</td>\n",
       "      <td>-0.607224</td>\n",
       "      <td>-0.351501</td>\n",
       "      <td>-0.167355</td>\n",
       "      <td>-0.019708</td>\n",
       "      <td>0.065263</td>\n",
       "      <td>-0.030173</td>\n",
       "      <td>0.142362</td>\n",
       "      <td>0.406454</td>\n",
       "      <td>0.090964</td>\n",
       "    </tr>\n",
       "    <tr>\n",
       "      <th>...</th>\n",
       "      <td>...</td>\n",
       "      <td>...</td>\n",
       "      <td>...</td>\n",
       "      <td>...</td>\n",
       "      <td>...</td>\n",
       "      <td>...</td>\n",
       "      <td>...</td>\n",
       "      <td>...</td>\n",
       "      <td>...</td>\n",
       "      <td>...</td>\n",
       "      <td>...</td>\n",
       "      <td>...</td>\n",
       "      <td>...</td>\n",
       "      <td>...</td>\n",
       "      <td>...</td>\n",
       "      <td>...</td>\n",
       "      <td>...</td>\n",
       "      <td>...</td>\n",
       "      <td>...</td>\n",
       "      <td>...</td>\n",
       "      <td>...</td>\n",
       "    </tr>\n",
       "    <tr>\n",
       "      <th>66</th>\n",
       "      <td>0.635850</td>\n",
       "      <td>0.501437</td>\n",
       "      <td>0.438266</td>\n",
       "      <td>0.278632</td>\n",
       "      <td>0.112218</td>\n",
       "      <td>0.070116</td>\n",
       "      <td>0.093378</td>\n",
       "      <td>0.180282</td>\n",
       "      <td>0.140607</td>\n",
       "      <td>0.144490</td>\n",
       "      <td>...</td>\n",
       "      <td>-0.222255</td>\n",
       "      <td>-0.265818</td>\n",
       "      <td>0.105858</td>\n",
       "      <td>0.254848</td>\n",
       "      <td>0.309418</td>\n",
       "      <td>0.434448</td>\n",
       "      <td>0.466764</td>\n",
       "      <td>0.389369</td>\n",
       "      <td>0.647557</td>\n",
       "      <td>0.400223</td>\n",
       "    </tr>\n",
       "    <tr>\n",
       "      <th>67</th>\n",
       "      <td>0.201048</td>\n",
       "      <td>0.243728</td>\n",
       "      <td>0.273268</td>\n",
       "      <td>0.149850</td>\n",
       "      <td>0.111102</td>\n",
       "      <td>0.079377</td>\n",
       "      <td>0.095234</td>\n",
       "      <td>0.089624</td>\n",
       "      <td>0.089231</td>\n",
       "      <td>0.056123</td>\n",
       "      <td>...</td>\n",
       "      <td>-0.177734</td>\n",
       "      <td>-0.074737</td>\n",
       "      <td>0.196390</td>\n",
       "      <td>0.348160</td>\n",
       "      <td>0.393102</td>\n",
       "      <td>0.431962</td>\n",
       "      <td>0.563236</td>\n",
       "      <td>0.333645</td>\n",
       "      <td>0.542545</td>\n",
       "      <td>0.465794</td>\n",
       "    </tr>\n",
       "    <tr>\n",
       "      <th>68</th>\n",
       "      <td>-0.310698</td>\n",
       "      <td>-0.285322</td>\n",
       "      <td>-0.292745</td>\n",
       "      <td>-0.322902</td>\n",
       "      <td>-0.281545</td>\n",
       "      <td>-0.357596</td>\n",
       "      <td>-0.282389</td>\n",
       "      <td>-0.216150</td>\n",
       "      <td>-0.250274</td>\n",
       "      <td>-0.212650</td>\n",
       "      <td>...</td>\n",
       "      <td>0.538765</td>\n",
       "      <td>0.539444</td>\n",
       "      <td>0.688987</td>\n",
       "      <td>0.716118</td>\n",
       "      <td>0.597762</td>\n",
       "      <td>0.569429</td>\n",
       "      <td>0.889669</td>\n",
       "      <td>0.733776</td>\n",
       "      <td>0.829854</td>\n",
       "      <td>0.568447</td>\n",
       "    </tr>\n",
       "    <tr>\n",
       "      <th>69</th>\n",
       "      <td>0.057670</td>\n",
       "      <td>-0.019896</td>\n",
       "      <td>0.076914</td>\n",
       "      <td>0.058267</td>\n",
       "      <td>0.059332</td>\n",
       "      <td>0.052044</td>\n",
       "      <td>0.057404</td>\n",
       "      <td>0.050053</td>\n",
       "      <td>0.037636</td>\n",
       "      <td>0.003254</td>\n",
       "      <td>...</td>\n",
       "      <td>-0.136896</td>\n",
       "      <td>-0.054151</td>\n",
       "      <td>0.397138</td>\n",
       "      <td>0.439309</td>\n",
       "      <td>0.456047</td>\n",
       "      <td>0.378451</td>\n",
       "      <td>0.435175</td>\n",
       "      <td>0.175373</td>\n",
       "      <td>0.313118</td>\n",
       "      <td>-0.057834</td>\n",
       "    </tr>\n",
       "    <tr>\n",
       "      <th>70</th>\n",
       "      <td>-0.100135</td>\n",
       "      <td>-0.210451</td>\n",
       "      <td>-0.170730</td>\n",
       "      <td>-0.131344</td>\n",
       "      <td>-0.069684</td>\n",
       "      <td>-0.011339</td>\n",
       "      <td>0.001640</td>\n",
       "      <td>0.011397</td>\n",
       "      <td>-0.001625</td>\n",
       "      <td>-0.017701</td>\n",
       "      <td>...</td>\n",
       "      <td>0.024134</td>\n",
       "      <td>0.024861</td>\n",
       "      <td>0.193490</td>\n",
       "      <td>0.287253</td>\n",
       "      <td>0.364970</td>\n",
       "      <td>0.395819</td>\n",
       "      <td>0.510556</td>\n",
       "      <td>0.204802</td>\n",
       "      <td>0.160618</td>\n",
       "      <td>0.758878</td>\n",
       "    </tr>\n",
       "  </tbody>\n",
       "</table>\n",
       "<p>71 rows × 5774 columns</p>\n",
       "</div>"
      ],
      "text/plain": [
       "        0         1         2         3         4         5         6     \\\n",
       "0   0.518887  0.754466  0.612851  0.326934  0.249195  0.241115  0.208641   \n",
       "1  -0.563742 -0.612001 -0.582615 -0.578963 -0.751111 -0.645697 -0.526236   \n",
       "2  -0.121760 -0.072309 -0.037488 -0.085996 -0.079602 -0.081767 -0.072804   \n",
       "3  -0.162525 -0.233230 -0.128964 -0.149708 -0.108982 -0.043341 -0.026862   \n",
       "4  -0.657148 -0.404857 -0.409061 -0.555781 -0.546314 -0.426795 -0.333510   \n",
       "..       ...       ...       ...       ...       ...       ...       ...   \n",
       "66  0.635850  0.501437  0.438266  0.278632  0.112218  0.070116  0.093378   \n",
       "67  0.201048  0.243728  0.273268  0.149850  0.111102  0.079377  0.095234   \n",
       "68 -0.310698 -0.285322 -0.292745 -0.322902 -0.281545 -0.357596 -0.282389   \n",
       "69  0.057670 -0.019896  0.076914  0.058267  0.059332  0.052044  0.057404   \n",
       "70 -0.100135 -0.210451 -0.170730 -0.131344 -0.069684 -0.011339  0.001640   \n",
       "\n",
       "        7         8         9     ...      5764      5765      5766      5767  \\\n",
       "0   0.247317  0.213735  0.209538  ...  0.027983 -0.007126  0.192913  0.150446   \n",
       "1  -0.456318 -0.402992 -0.493958  ... -0.263092 -0.265421  0.070233  0.195173   \n",
       "2  -0.058444 -0.056422 -0.060485  ...  0.027962  0.032348  0.282928  0.362873   \n",
       "3  -0.033304 -0.026308 -0.030664  ... -0.402386 -0.307914 -0.197391 -0.132606   \n",
       "4  -0.312369 -0.477824 -0.501491  ... -0.563327 -0.607224 -0.351501 -0.167355   \n",
       "..       ...       ...       ...  ...       ...       ...       ...       ...   \n",
       "66  0.180282  0.140607  0.144490  ... -0.222255 -0.265818  0.105858  0.254848   \n",
       "67  0.089624  0.089231  0.056123  ... -0.177734 -0.074737  0.196390  0.348160   \n",
       "68 -0.216150 -0.250274 -0.212650  ...  0.538765  0.539444  0.688987  0.716118   \n",
       "69  0.050053  0.037636  0.003254  ... -0.136896 -0.054151  0.397138  0.439309   \n",
       "70  0.011397 -0.001625 -0.017701  ...  0.024134  0.024861  0.193490  0.287253   \n",
       "\n",
       "        5768      5769      5770      5771      5772      5773  \n",
       "0   0.063116  0.137229  0.348811  0.158748  0.664158  0.938543  \n",
       "1   0.293732  0.348755  0.403343  0.436000  0.581960  1.015695  \n",
       "2   0.412671  0.400874  0.514729  0.422171  0.526793  0.503655  \n",
       "3  -0.059198  0.036104 -0.082673 -0.121003  0.008406 -0.041994  \n",
       "4  -0.019708  0.065263 -0.030173  0.142362  0.406454  0.090964  \n",
       "..       ...       ...       ...       ...       ...       ...  \n",
       "66  0.309418  0.434448  0.466764  0.389369  0.647557  0.400223  \n",
       "67  0.393102  0.431962  0.563236  0.333645  0.542545  0.465794  \n",
       "68  0.597762  0.569429  0.889669  0.733776  0.829854  0.568447  \n",
       "69  0.456047  0.378451  0.435175  0.175373  0.313118 -0.057834  \n",
       "70  0.364970  0.395819  0.510556  0.204802  0.160618  0.758878  \n",
       "\n",
       "[71 rows x 5774 columns]"
      ]
     },
     "execution_count": 57,
     "metadata": {},
     "output_type": "execute_result"
    }
   ],
   "source": [
    "pred_df"
   ]
  },
  {
   "cell_type": "code",
   "execution_count": 58,
   "id": "c4c32d90-4fa0-46ed-a1eb-c856587474b9",
   "metadata": {},
   "outputs": [],
   "source": [
    "pred_df.to_csv(\"./predictions.csv\", index=False, header=False)"
   ]
  },
  {
   "cell_type": "code",
   "execution_count": 59,
   "id": "b99b2987-d71d-4a8b-bed5-433f12666963",
   "metadata": {},
   "outputs": [],
   "source": [
    "best_sub = pd.read_csv(f\"./submissions/predictions12.zip\", header=None)"
   ]
  },
  {
   "cell_type": "code",
   "execution_count": 60,
   "id": "d903ef1d-21a1-49b7-80ff-4391c8cc95f3",
   "metadata": {},
   "outputs": [
    {
     "data": {
      "text/html": [
       "<div>\n",
       "<style scoped>\n",
       "    .dataframe tbody tr th:only-of-type {\n",
       "        vertical-align: middle;\n",
       "    }\n",
       "\n",
       "    .dataframe tbody tr th {\n",
       "        vertical-align: top;\n",
       "    }\n",
       "\n",
       "    .dataframe thead th {\n",
       "        text-align: right;\n",
       "    }\n",
       "</style>\n",
       "<table border=\"1\" class=\"dataframe\">\n",
       "  <thead>\n",
       "    <tr style=\"text-align: right;\">\n",
       "      <th></th>\n",
       "      <th>0</th>\n",
       "      <th>1</th>\n",
       "      <th>2</th>\n",
       "      <th>3</th>\n",
       "      <th>4</th>\n",
       "      <th>5</th>\n",
       "      <th>6</th>\n",
       "      <th>7</th>\n",
       "      <th>8</th>\n",
       "      <th>9</th>\n",
       "      <th>...</th>\n",
       "      <th>5764</th>\n",
       "      <th>5765</th>\n",
       "      <th>5766</th>\n",
       "      <th>5767</th>\n",
       "      <th>5768</th>\n",
       "      <th>5769</th>\n",
       "      <th>5770</th>\n",
       "      <th>5771</th>\n",
       "      <th>5772</th>\n",
       "      <th>5773</th>\n",
       "    </tr>\n",
       "  </thead>\n",
       "  <tbody>\n",
       "    <tr>\n",
       "      <th>0</th>\n",
       "      <td>0.413519</td>\n",
       "      <td>0.610221</td>\n",
       "      <td>0.499384</td>\n",
       "      <td>0.261020</td>\n",
       "      <td>0.199013</td>\n",
       "      <td>0.194932</td>\n",
       "      <td>0.173647</td>\n",
       "      <td>0.204035</td>\n",
       "      <td>0.173151</td>\n",
       "      <td>0.168073</td>\n",
       "      <td>...</td>\n",
       "      <td>0.024862</td>\n",
       "      <td>-0.002499</td>\n",
       "      <td>0.151940</td>\n",
       "      <td>0.115988</td>\n",
       "      <td>0.048577</td>\n",
       "      <td>0.114184</td>\n",
       "      <td>0.286915</td>\n",
       "      <td>0.133223</td>\n",
       "      <td>0.542846</td>\n",
       "      <td>0.747106</td>\n",
       "    </tr>\n",
       "    <tr>\n",
       "      <th>1</th>\n",
       "      <td>-0.452064</td>\n",
       "      <td>-0.495839</td>\n",
       "      <td>-0.472238</td>\n",
       "      <td>-0.467548</td>\n",
       "      <td>-0.600497</td>\n",
       "      <td>-0.517502</td>\n",
       "      <td>-0.423907</td>\n",
       "      <td>-0.365181</td>\n",
       "      <td>-0.319681</td>\n",
       "      <td>-0.393909</td>\n",
       "      <td>...</td>\n",
       "      <td>-0.210361</td>\n",
       "      <td>-0.209763</td>\n",
       "      <td>0.051806</td>\n",
       "      <td>0.154276</td>\n",
       "      <td>0.231007</td>\n",
       "      <td>0.285622</td>\n",
       "      <td>0.324772</td>\n",
       "      <td>0.353552</td>\n",
       "      <td>0.472415</td>\n",
       "      <td>0.868721</td>\n",
       "    </tr>\n",
       "    <tr>\n",
       "      <th>2</th>\n",
       "      <td>-0.098479</td>\n",
       "      <td>-0.062061</td>\n",
       "      <td>-0.031402</td>\n",
       "      <td>-0.070501</td>\n",
       "      <td>-0.066312</td>\n",
       "      <td>-0.068666</td>\n",
       "      <td>-0.061480</td>\n",
       "      <td>-0.049271</td>\n",
       "      <td>-0.046419</td>\n",
       "      <td>-0.048812</td>\n",
       "      <td>...</td>\n",
       "      <td>0.032404</td>\n",
       "      <td>0.033227</td>\n",
       "      <td>0.238023</td>\n",
       "      <td>0.295192</td>\n",
       "      <td>0.332893</td>\n",
       "      <td>0.342720</td>\n",
       "      <td>0.420706</td>\n",
       "      <td>0.350446</td>\n",
       "      <td>0.431909</td>\n",
       "      <td>0.386909</td>\n",
       "    </tr>\n",
       "    <tr>\n",
       "      <th>3</th>\n",
       "      <td>-0.126822</td>\n",
       "      <td>-0.187531</td>\n",
       "      <td>-0.105933</td>\n",
       "      <td>-0.117853</td>\n",
       "      <td>-0.084037</td>\n",
       "      <td>-0.032493</td>\n",
       "      <td>-0.018411</td>\n",
       "      <td>-0.026380</td>\n",
       "      <td>-0.018053</td>\n",
       "      <td>-0.022163</td>\n",
       "      <td>...</td>\n",
       "      <td>-0.328681</td>\n",
       "      <td>-0.255022</td>\n",
       "      <td>-0.169168</td>\n",
       "      <td>-0.114252</td>\n",
       "      <td>-0.053195</td>\n",
       "      <td>0.030705</td>\n",
       "      <td>-0.072592</td>\n",
       "      <td>-0.096501</td>\n",
       "      <td>0.006179</td>\n",
       "      <td>-0.035856</td>\n",
       "    </tr>\n",
       "    <tr>\n",
       "      <th>4</th>\n",
       "      <td>-0.536948</td>\n",
       "      <td>-0.334909</td>\n",
       "      <td>-0.339579</td>\n",
       "      <td>-0.455822</td>\n",
       "      <td>-0.442817</td>\n",
       "      <td>-0.349786</td>\n",
       "      <td>-0.273940</td>\n",
       "      <td>-0.252942</td>\n",
       "      <td>-0.389090</td>\n",
       "      <td>-0.405370</td>\n",
       "      <td>...</td>\n",
       "      <td>-0.449169</td>\n",
       "      <td>-0.482486</td>\n",
       "      <td>-0.279273</td>\n",
       "      <td>-0.134238</td>\n",
       "      <td>-0.017018</td>\n",
       "      <td>0.054762</td>\n",
       "      <td>-0.022953</td>\n",
       "      <td>0.118007</td>\n",
       "      <td>0.331882</td>\n",
       "      <td>0.063182</td>\n",
       "    </tr>\n",
       "    <tr>\n",
       "      <th>...</th>\n",
       "      <td>...</td>\n",
       "      <td>...</td>\n",
       "      <td>...</td>\n",
       "      <td>...</td>\n",
       "      <td>...</td>\n",
       "      <td>...</td>\n",
       "      <td>...</td>\n",
       "      <td>...</td>\n",
       "      <td>...</td>\n",
       "      <td>...</td>\n",
       "      <td>...</td>\n",
       "      <td>...</td>\n",
       "      <td>...</td>\n",
       "      <td>...</td>\n",
       "      <td>...</td>\n",
       "      <td>...</td>\n",
       "      <td>...</td>\n",
       "      <td>...</td>\n",
       "      <td>...</td>\n",
       "      <td>...</td>\n",
       "      <td>...</td>\n",
       "    </tr>\n",
       "    <tr>\n",
       "      <th>66</th>\n",
       "      <td>0.519552</td>\n",
       "      <td>0.410995</td>\n",
       "      <td>0.358057</td>\n",
       "      <td>0.223648</td>\n",
       "      <td>0.094411</td>\n",
       "      <td>0.064560</td>\n",
       "      <td>0.083027</td>\n",
       "      <td>0.149745</td>\n",
       "      <td>0.117536</td>\n",
       "      <td>0.122499</td>\n",
       "      <td>...</td>\n",
       "      <td>-0.179646</td>\n",
       "      <td>-0.212669</td>\n",
       "      <td>0.087145</td>\n",
       "      <td>0.206457</td>\n",
       "      <td>0.247627</td>\n",
       "      <td>0.358802</td>\n",
       "      <td>0.381744</td>\n",
       "      <td>0.324395</td>\n",
       "      <td>0.529960</td>\n",
       "      <td>0.348364</td>\n",
       "    </tr>\n",
       "    <tr>\n",
       "      <th>67</th>\n",
       "      <td>0.167025</td>\n",
       "      <td>0.197994</td>\n",
       "      <td>0.220118</td>\n",
       "      <td>0.122964</td>\n",
       "      <td>0.086943</td>\n",
       "      <td>0.061327</td>\n",
       "      <td>0.075242</td>\n",
       "      <td>0.071843</td>\n",
       "      <td>0.070730</td>\n",
       "      <td>0.044062</td>\n",
       "      <td>...</td>\n",
       "      <td>-0.142170</td>\n",
       "      <td>-0.062521</td>\n",
       "      <td>0.156058</td>\n",
       "      <td>0.279388</td>\n",
       "      <td>0.314744</td>\n",
       "      <td>0.354872</td>\n",
       "      <td>0.456533</td>\n",
       "      <td>0.264167</td>\n",
       "      <td>0.435926</td>\n",
       "      <td>0.348064</td>\n",
       "    </tr>\n",
       "    <tr>\n",
       "      <th>68</th>\n",
       "      <td>-0.247008</td>\n",
       "      <td>-0.236514</td>\n",
       "      <td>-0.240609</td>\n",
       "      <td>-0.267419</td>\n",
       "      <td>-0.228312</td>\n",
       "      <td>-0.291850</td>\n",
       "      <td>-0.229150</td>\n",
       "      <td>-0.173707</td>\n",
       "      <td>-0.200420</td>\n",
       "      <td>-0.167777</td>\n",
       "      <td>...</td>\n",
       "      <td>0.431649</td>\n",
       "      <td>0.433571</td>\n",
       "      <td>0.556033</td>\n",
       "      <td>0.574702</td>\n",
       "      <td>0.478248</td>\n",
       "      <td>0.468813</td>\n",
       "      <td>0.741000</td>\n",
       "      <td>0.602561</td>\n",
       "      <td>0.687212</td>\n",
       "      <td>0.458889</td>\n",
       "    </tr>\n",
       "    <tr>\n",
       "      <th>69</th>\n",
       "      <td>0.040434</td>\n",
       "      <td>-0.021600</td>\n",
       "      <td>0.059565</td>\n",
       "      <td>0.044246</td>\n",
       "      <td>0.041899</td>\n",
       "      <td>0.040521</td>\n",
       "      <td>0.044695</td>\n",
       "      <td>0.038863</td>\n",
       "      <td>0.029103</td>\n",
       "      <td>0.000747</td>\n",
       "      <td>...</td>\n",
       "      <td>-0.109956</td>\n",
       "      <td>-0.048006</td>\n",
       "      <td>0.315147</td>\n",
       "      <td>0.347591</td>\n",
       "      <td>0.362124</td>\n",
       "      <td>0.303917</td>\n",
       "      <td>0.348851</td>\n",
       "      <td>0.132392</td>\n",
       "      <td>0.240881</td>\n",
       "      <td>-0.080829</td>\n",
       "    </tr>\n",
       "    <tr>\n",
       "      <th>70</th>\n",
       "      <td>-0.087525</td>\n",
       "      <td>-0.179967</td>\n",
       "      <td>-0.147725</td>\n",
       "      <td>-0.118073</td>\n",
       "      <td>-0.061423</td>\n",
       "      <td>-0.014335</td>\n",
       "      <td>-0.004744</td>\n",
       "      <td>0.003100</td>\n",
       "      <td>-0.005156</td>\n",
       "      <td>-0.018924</td>\n",
       "      <td>...</td>\n",
       "      <td>0.030515</td>\n",
       "      <td>0.030127</td>\n",
       "      <td>0.170846</td>\n",
       "      <td>0.244861</td>\n",
       "      <td>0.301860</td>\n",
       "      <td>0.338352</td>\n",
       "      <td>0.416422</td>\n",
       "      <td>0.176479</td>\n",
       "      <td>0.134068</td>\n",
       "      <td>0.593875</td>\n",
       "    </tr>\n",
       "  </tbody>\n",
       "</table>\n",
       "<p>71 rows × 5774 columns</p>\n",
       "</div>"
      ],
      "text/plain": [
       "        0         1         2         3         4         5         6     \\\n",
       "0   0.413519  0.610221  0.499384  0.261020  0.199013  0.194932  0.173647   \n",
       "1  -0.452064 -0.495839 -0.472238 -0.467548 -0.600497 -0.517502 -0.423907   \n",
       "2  -0.098479 -0.062061 -0.031402 -0.070501 -0.066312 -0.068666 -0.061480   \n",
       "3  -0.126822 -0.187531 -0.105933 -0.117853 -0.084037 -0.032493 -0.018411   \n",
       "4  -0.536948 -0.334909 -0.339579 -0.455822 -0.442817 -0.349786 -0.273940   \n",
       "..       ...       ...       ...       ...       ...       ...       ...   \n",
       "66  0.519552  0.410995  0.358057  0.223648  0.094411  0.064560  0.083027   \n",
       "67  0.167025  0.197994  0.220118  0.122964  0.086943  0.061327  0.075242   \n",
       "68 -0.247008 -0.236514 -0.240609 -0.267419 -0.228312 -0.291850 -0.229150   \n",
       "69  0.040434 -0.021600  0.059565  0.044246  0.041899  0.040521  0.044695   \n",
       "70 -0.087525 -0.179967 -0.147725 -0.118073 -0.061423 -0.014335 -0.004744   \n",
       "\n",
       "        7         8         9     ...      5764      5765      5766      5767  \\\n",
       "0   0.204035  0.173151  0.168073  ...  0.024862 -0.002499  0.151940  0.115988   \n",
       "1  -0.365181 -0.319681 -0.393909  ... -0.210361 -0.209763  0.051806  0.154276   \n",
       "2  -0.049271 -0.046419 -0.048812  ...  0.032404  0.033227  0.238023  0.295192   \n",
       "3  -0.026380 -0.018053 -0.022163  ... -0.328681 -0.255022 -0.169168 -0.114252   \n",
       "4  -0.252942 -0.389090 -0.405370  ... -0.449169 -0.482486 -0.279273 -0.134238   \n",
       "..       ...       ...       ...  ...       ...       ...       ...       ...   \n",
       "66  0.149745  0.117536  0.122499  ... -0.179646 -0.212669  0.087145  0.206457   \n",
       "67  0.071843  0.070730  0.044062  ... -0.142170 -0.062521  0.156058  0.279388   \n",
       "68 -0.173707 -0.200420 -0.167777  ...  0.431649  0.433571  0.556033  0.574702   \n",
       "69  0.038863  0.029103  0.000747  ... -0.109956 -0.048006  0.315147  0.347591   \n",
       "70  0.003100 -0.005156 -0.018924  ...  0.030515  0.030127  0.170846  0.244861   \n",
       "\n",
       "        5768      5769      5770      5771      5772      5773  \n",
       "0   0.048577  0.114184  0.286915  0.133223  0.542846  0.747106  \n",
       "1   0.231007  0.285622  0.324772  0.353552  0.472415  0.868721  \n",
       "2   0.332893  0.342720  0.420706  0.350446  0.431909  0.386909  \n",
       "3  -0.053195  0.030705 -0.072592 -0.096501  0.006179 -0.035856  \n",
       "4  -0.017018  0.054762 -0.022953  0.118007  0.331882  0.063182  \n",
       "..       ...       ...       ...       ...       ...       ...  \n",
       "66  0.247627  0.358802  0.381744  0.324395  0.529960  0.348364  \n",
       "67  0.314744  0.354872  0.456533  0.264167  0.435926  0.348064  \n",
       "68  0.478248  0.468813  0.741000  0.602561  0.687212  0.458889  \n",
       "69  0.362124  0.303917  0.348851  0.132392  0.240881 -0.080829  \n",
       "70  0.301860  0.338352  0.416422  0.176479  0.134068  0.593875  \n",
       "\n",
       "[71 rows x 5774 columns]"
      ]
     },
     "execution_count": 60,
     "metadata": {},
     "output_type": "execute_result"
    }
   ],
   "source": [
    "best_sub"
   ]
  },
  {
   "cell_type": "code",
   "execution_count": 61,
   "id": "46cc34a7-fad5-422b-9554-ffdceee4cd50",
   "metadata": {},
   "outputs": [],
   "source": [
    "import matplotlib.pyplot as plt"
   ]
  },
  {
   "cell_type": "code",
   "execution_count": 62,
   "id": "1a6eebb3-23d1-4fa4-9239-2547e85b211a",
   "metadata": {},
   "outputs": [],
   "source": [
    "cols = [0, 1003, 273]"
   ]
  },
  {
   "cell_type": "code",
   "execution_count": 63,
   "id": "1bd461a0-4231-467d-8c54-13fd576f9f38",
   "metadata": {},
   "outputs": [
    {
     "data": {
      "image/png": "[encoded data removed]",
      "text/plain": [
       "<Figure size 640x480 with 1 Axes>"
      ]
     },
     "metadata": {},
     "output_type": "display_data"
    }
   ],
   "source": [
    "plt.plot(best_sub[cols[0]])\n",
    "plt.plot(pred_df[cols[0]])\n",
    "\n",
    "plt.legend([f\"best_{cols[0]}\", f\"pred_{cols[0]}\"])\n",
    "plt.show()"
   ]
  },
  {
   "cell_type": "code",
   "execution_count": 64,
   "id": "6951c0ae-5a7a-4f13-8af0-89b156c130d2",
   "metadata": {},
   "outputs": [
    {
     "data": {
      "image/png": "[encoded data removed]",
      "text/plain": [
       "<Figure size 640x480 with 1 Axes>"
      ]
     },
     "metadata": {},
     "output_type": "display_data"
    }
   ],
   "source": [
    "plt.plot(best_sub[cols[1]])\n",
    "plt.plot(pred_df[cols[1]])\n",
    "\n",
    "plt.legend([f\"best_{cols[1]}\", f\"pred_{cols[1]}\"])\n",
    "plt.show()"
   ]
  },
  {
   "cell_type": "code",
   "execution_count": 65,
   "id": "8b27f713-4e5e-400c-9728-23f78f447d72",
   "metadata": {},
   "outputs": [
    {
     "data": {
      "image/png": "[encoded data removed]",
      "text/plain": [
       "<Figure size 640x480 with 1 Axes>"
      ]
     },
     "metadata": {},
     "output_type": "display_data"
    }
   ],
   "source": [
    "plt.plot(best_sub[cols[2]])\n",
    "plt.plot(pred_df[cols[2]])\n",
    "\n",
    "plt.legend([f\"best_{cols[2]}\", f\"pred_{cols[2]}\"])\n",
    "plt.show()"
   ]
  },
  {
   "cell_type": "markdown",
   "id": "e8cbbcbf-9a38-4955-b6a3-5b8a4250d02b",
   "metadata": {},
   "source": [
    "## kfold_trained2 is current best"
   ]
  },
  {
   "cell_type": "code",
   "execution_count": 44,
   "id": "717875d9-b593-434b-9882-f876b0e3e54b",
   "metadata": {},
   "outputs": [],
   "source": [
    "# KFold\n",
    "\n",
    "# catb 500 estimators, lgbm 1000 estimators\n",
    "# [0.05, 0.15, 0.05, 0.15, 0.05, 0.15, 0.05, 0.15, 0.05, 0.15] ==> 0.093\n",
    "\n",
    "# catb and lgb 1000 estimators\n",
    "# [0.1, 0.1, 0.1, 0.1, 0.1, 0.1, 0.1, 0.1, 0.1, 0.1] ==> 0.094\n",
    "\n",
    "# catb and lgb 1000 estimators\n",
    "# ([0.08, 0.12, 0.08, 0.12, 0.1, 0.1, 0.1, 0.1, 0.06, 0.14])*0.91 + 0.01*gru + 0.09*lstm ==> 0.0951\n",
    "# y_pred = 0.25*y_pred_add_feat + 0.90*(0.91*y_pred_boost + 0.02*y_pred_gru.squeeze() + 0.10*y_pred_lstm.squeeze()) ==> 0.0985\n",
    "# y_pred = 0.28*y_pred_add_feat + 0.95*(0.92*y_pred_boost + 0.01*y_pred_gru.squeeze() + 0.09*y_pred_lstm.squeeze()) ==> 0.09862\n",
    "# y_pred = 0.91*y_pred_boost + 0.01*y_pred_gru.squeeze() + 0.09*y_pred_lstm.squeeze()"
   ]
  },
  {
   "cell_type": "code",
   "execution_count": null,
   "id": "08ce3b23-5b89-46e4-892b-bd50314a88ef",
   "metadata": {},
   "outputs": [],
   "source": []
  }
 ],
 "metadata": {
  "kernelspec": {
   "display_name": "ecmldeep",
   "language": "python",
   "name": "ecmldeep"
  },
  "language_info": {
   "codemirror_mode": {
    "name": "ipython",
    "version": 3
   },
   "file_extension": ".py",
   "mimetype": "text/x-python",
   "name": "python",
   "nbconvert_exporter": "python",
   "pygments_lexer": "ipython3",
   "version": "3.12.3"
  }
 },
 "nbformat": 4,
 "nbformat_minor": 5
}
