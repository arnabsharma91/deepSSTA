{
 "cells": [
  {
   "cell_type": "code",
   "execution_count": 1,
   "id": "14a759b1",
   "metadata": {},
   "outputs": [],
   "source": [
    "from sklearn.linear_model import SGDRegressor\n",
    "import pandas as pd\n",
    "import joblib\n",
    "import numpy as np\n",
    "import random"
   ]
  },
  {
   "cell_type": "code",
   "execution_count": 2,
   "id": "4d01ed76",
   "metadata": {},
   "outputs": [],
   "source": [
    "np.random.seed(42)\n",
    "random.seed(42)"
   ]
  },
  {
   "cell_type": "code",
   "execution_count": 3,
   "id": "0d6a5cae",
   "metadata": {},
   "outputs": [],
   "source": [
    "def read_merge_data(data_type=\"training\"):\n",
    "    #\n",
    "    Dfs = []\n",
    "    train_df = []\n",
    "    train_output = pd.read_csv(\"./data_phase_one/training_output.csv\", header=None)\n",
    "    coords = pd.read_csv(\"data_phase_one/coords.csv\", header=None)\n",
    "    for name in [\"mslp\", \"sst\", \"ssta\", \"t2m\"]:\n",
    "        df = pd.read_csv(f\"./data_phase_one/{data_type}_input_{name}.csv\", header=None)\n",
    "        print(\"Shape df\", df.shape)\n",
    "        Dfs.append(df)\n",
    "    j = 0\n",
    "    for i in range(0, df.shape[0]-12, 1):\n",
    "        feat = pd.concat([coords, Dfs[0].iloc[i:i+12], Dfs[1].iloc[i:i+12], Dfs[2].iloc[i:i+12], Dfs[3].iloc[i:i+12]], axis=0).reset_index(drop=True)\n",
    "        tgt = train_output.iloc[i+11]\n",
    "        tgt = tgt.T.reset_index(drop=True)\n",
    "        feat = feat.T.reset_index(drop=True)\n",
    "        feat = pd.concat([feat, tgt], axis=1)\n",
    "        assert feat.shape[1]==51\n",
    "        feat.columns = [f\"feat_{k}\" for k in range(feat.shape[1]-1)] + [\"target\"]\n",
    "        if j < 3:\n",
    "            print(feat.columns)\n",
    "        train_df.append(feat)\n",
    "        j += 1\n",
    "    train_df = pd.concat(train_df, axis=0)\n",
    "    #Dfs.index = [f\"col_{i}\" for i in range(848)]\n",
    "    return train_df"
   ]
  },
  {
   "cell_type": "code",
   "execution_count": 4,
   "id": "ddcbec4d",
   "metadata": {},
   "outputs": [
    {
     "name": "stdout",
     "output_type": "stream",
     "text": [
      "Shape df (849, 5774)\n",
      "Shape df (849, 5774)\n",
      "Shape df (849, 5774)\n",
      "Shape df (849, 5774)\n",
      "Index(['feat_0', 'feat_1', 'feat_2', 'feat_3', 'feat_4', 'feat_5', 'feat_6',\n",
      "       'feat_7', 'feat_8', 'feat_9', 'feat_10', 'feat_11', 'feat_12',\n",
      "       'feat_13', 'feat_14', 'feat_15', 'feat_16', 'feat_17', 'feat_18',\n",
      "       'feat_19', 'feat_20', 'feat_21', 'feat_22', 'feat_23', 'feat_24',\n",
      "       'feat_25', 'feat_26', 'feat_27', 'feat_28', 'feat_29', 'feat_30',\n",
      "       'feat_31', 'feat_32', 'feat_33', 'feat_34', 'feat_35', 'feat_36',\n",
      "       'feat_37', 'feat_38', 'feat_39', 'feat_40', 'feat_41', 'feat_42',\n",
      "       'feat_43', 'feat_44', 'feat_45', 'feat_46', 'feat_47', 'feat_48',\n",
      "       'feat_49', 'target'],\n",
      "      dtype='object')\n",
      "Index(['feat_0', 'feat_1', 'feat_2', 'feat_3', 'feat_4', 'feat_5', 'feat_6',\n",
      "       'feat_7', 'feat_8', 'feat_9', 'feat_10', 'feat_11', 'feat_12',\n",
      "       'feat_13', 'feat_14', 'feat_15', 'feat_16', 'feat_17', 'feat_18',\n",
      "       'feat_19', 'feat_20', 'feat_21', 'feat_22', 'feat_23', 'feat_24',\n",
      "       'feat_25', 'feat_26', 'feat_27', 'feat_28', 'feat_29', 'feat_30',\n",
      "       'feat_31', 'feat_32', 'feat_33', 'feat_34', 'feat_35', 'feat_36',\n",
      "       'feat_37', 'feat_38', 'feat_39', 'feat_40', 'feat_41', 'feat_42',\n",
      "       'feat_43', 'feat_44', 'feat_45', 'feat_46', 'feat_47', 'feat_48',\n",
      "       'feat_49', 'target'],\n",
      "      dtype='object')\n",
      "Index(['feat_0', 'feat_1', 'feat_2', 'feat_3', 'feat_4', 'feat_5', 'feat_6',\n",
      "       'feat_7', 'feat_8', 'feat_9', 'feat_10', 'feat_11', 'feat_12',\n",
      "       'feat_13', 'feat_14', 'feat_15', 'feat_16', 'feat_17', 'feat_18',\n",
      "       'feat_19', 'feat_20', 'feat_21', 'feat_22', 'feat_23', 'feat_24',\n",
      "       'feat_25', 'feat_26', 'feat_27', 'feat_28', 'feat_29', 'feat_30',\n",
      "       'feat_31', 'feat_32', 'feat_33', 'feat_34', 'feat_35', 'feat_36',\n",
      "       'feat_37', 'feat_38', 'feat_39', 'feat_40', 'feat_41', 'feat_42',\n",
      "       'feat_43', 'feat_44', 'feat_45', 'feat_46', 'feat_47', 'feat_48',\n",
      "       'feat_49', 'target'],\n",
      "      dtype='object')\n"
     ]
    }
   ],
   "source": [
    "data = read_merge_data()"
   ]
  },
  {
   "cell_type": "code",
   "execution_count": 14,
   "id": "32af0872",
   "metadata": {},
   "outputs": [],
   "source": [
    "from sklearn.model_selection import train_test_split\n",
    "from sklearn.model_selection import KFold\n",
    "from sklearn.preprocessing import StandardScaler"
   ]
  },
  {
   "cell_type": "code",
   "execution_count": 15,
   "id": "9bd40054",
   "metadata": {},
   "outputs": [],
   "source": [
    "def normalize_data(X_train, X_val):\n",
    "    Scaler = StandardScaler()\n",
    "    data1 = Scaler.fit_transform(X_train)\n",
    "    data2 = Scaler.fit_transform(X_val)\n",
    "    return data1, data2"
   ]
  },
  {
   "cell_type": "code",
   "execution_count": 6,
   "id": "63df69ca",
   "metadata": {},
   "outputs": [],
   "source": [
    "cv = KFold(n_splits=5, shuffle=True)"
   ]
  },
  {
   "cell_type": "code",
   "execution_count": 83,
   "id": "b7ae5184",
   "metadata": {},
   "outputs": [],
   "source": [
    "params_sgd = {\n",
    "    \"verbose\": 1,\n",
    "    #\"alpha\": 0.0001,\n",
    "    \"max_iter\": 10000,\n",
    "    #\"learning_rate\": 0.01,\n",
    "    \"warm_start\": True\n",
    "    }"
   ]
  },
  {
   "cell_type": "code",
   "execution_count": 84,
   "id": "0a47523a",
   "metadata": {},
   "outputs": [
    {
     "name": "stdout",
     "output_type": "stream",
     "text": [
      "\n",
      "Train: 3866270, Val: 966568\n",
      "\n",
      "-- Epoch 1\n",
      "Norm: 0.43, NNZs: 50, Bias: -0.117040, T: 3866270, Avg. loss: 0.149977\n",
      "Total training time: 1.39 seconds.\n",
      "-- Epoch 2\n",
      "Norm: 0.47, NNZs: 50, Bias: -0.106615, T: 7732540, Avg. loss: 0.149547\n",
      "Total training time: 3.38 seconds.\n",
      "-- Epoch 3\n",
      "Norm: 0.48, NNZs: 50, Bias: -0.110029, T: 11598810, Avg. loss: 0.149440\n",
      "Total training time: 4.47 seconds.\n",
      "-- Epoch 4\n",
      "Norm: 0.50, NNZs: 50, Bias: -0.115914, T: 15465080, Avg. loss: 0.149383\n",
      "Total training time: 5.54 seconds.\n",
      "-- Epoch 5\n",
      "Norm: 0.52, NNZs: 50, Bias: -0.114566, T: 19331350, Avg. loss: 0.149335\n",
      "Total training time: 6.63 seconds.\n",
      "-- Epoch 6\n",
      "Norm: 0.53, NNZs: 50, Bias: -0.118121, T: 23197620, Avg. loss: 0.149298\n",
      "Total training time: 7.69 seconds.\n",
      "Convergence after 6 epochs took 7.70 seconds\n",
      "\n",
      "Train: 3866270, Val: 966568\n",
      "\n",
      "-- Epoch 1\n",
      "Norm: 0.44, NNZs: 50, Bias: -0.116473, T: 3866270, Avg. loss: 0.149948\n",
      "Total training time: 2.07 seconds.\n",
      "-- Epoch 2\n",
      "Norm: 0.46, NNZs: 50, Bias: -0.113492, T: 7732540, Avg. loss: 0.149535\n",
      "Total training time: 4.13 seconds.\n",
      "-- Epoch 3\n",
      "Norm: 0.49, NNZs: 50, Bias: -0.117245, T: 11598810, Avg. loss: 0.149429\n",
      "Total training time: 6.18 seconds.\n",
      "-- Epoch 4\n",
      "Norm: 0.50, NNZs: 50, Bias: -0.120032, T: 15465080, Avg. loss: 0.149340\n",
      "Total training time: 8.21 seconds.\n",
      "-- Epoch 5\n",
      "Norm: 0.52, NNZs: 50, Bias: -0.110538, T: 19331350, Avg. loss: 0.149310\n",
      "Total training time: 9.89 seconds.\n",
      "-- Epoch 6\n",
      "Norm: 0.53, NNZs: 50, Bias: -0.117560, T: 23197620, Avg. loss: 0.149261\n",
      "Total training time: 11.03 seconds.\n",
      "Convergence after 6 epochs took 11.03 seconds\n",
      "\n",
      "Train: 3866270, Val: 966568\n",
      "\n",
      "-- Epoch 1\n",
      "Norm: 0.43, NNZs: 50, Bias: -0.114984, T: 3866270, Avg. loss: 0.149937\n",
      "Total training time: 1.98 seconds.\n",
      "-- Epoch 2\n",
      "Norm: 0.46, NNZs: 50, Bias: -0.112468, T: 7732540, Avg. loss: 0.149515\n",
      "Total training time: 3.91 seconds.\n",
      "-- Epoch 3\n",
      "Norm: 0.48, NNZs: 50, Bias: -0.115986, T: 11598810, Avg. loss: 0.149415\n",
      "Total training time: 5.81 seconds.\n",
      "-- Epoch 4\n",
      "Norm: 0.49, NNZs: 50, Bias: -0.114982, T: 15465080, Avg. loss: 0.149332\n",
      "Total training time: 7.74 seconds.\n",
      "-- Epoch 5\n",
      "Norm: 0.51, NNZs: 50, Bias: -0.119172, T: 19331350, Avg. loss: 0.149302\n",
      "Total training time: 9.45 seconds.\n",
      "-- Epoch 6\n",
      "Norm: 0.51, NNZs: 50, Bias: -0.107237, T: 23197620, Avg. loss: 0.149264\n",
      "Total training time: 11.61 seconds.\n",
      "Convergence after 6 epochs took 11.61 seconds\n",
      "\n",
      "Train: 3866271, Val: 966567\n",
      "\n",
      "-- Epoch 1\n",
      "Norm: 0.44, NNZs: 50, Bias: -0.117693, T: 3866271, Avg. loss: 0.149863\n",
      "Total training time: 1.15 seconds.\n",
      "-- Epoch 2\n",
      "Norm: 0.47, NNZs: 50, Bias: -0.120507, T: 7732542, Avg. loss: 0.149438\n",
      "Total training time: 2.72 seconds.\n",
      "-- Epoch 3\n",
      "Norm: 0.49, NNZs: 50, Bias: -0.114544, T: 11598813, Avg. loss: 0.149319\n",
      "Total training time: 4.76 seconds.\n",
      "-- Epoch 4\n",
      "Norm: 0.51, NNZs: 50, Bias: -0.115907, T: 15465084, Avg. loss: 0.149261\n",
      "Total training time: 6.84 seconds.\n",
      "-- Epoch 5\n",
      "Norm: 0.52, NNZs: 50, Bias: -0.116057, T: 19331355, Avg. loss: 0.149198\n",
      "Total training time: 8.91 seconds.\n",
      "-- Epoch 6\n",
      "Norm: 0.53, NNZs: 50, Bias: -0.108975, T: 23197626, Avg. loss: 0.149175\n",
      "Total training time: 11.02 seconds.\n",
      "Convergence after 6 epochs took 11.02 seconds\n",
      "\n",
      "Train: 3866271, Val: 966567\n",
      "\n",
      "-- Epoch 1\n",
      "Norm: 0.43, NNZs: 50, Bias: -0.116500, T: 3866271, Avg. loss: 0.149844\n",
      "Total training time: 1.38 seconds.\n",
      "-- Epoch 2\n",
      "Norm: 0.47, NNZs: 50, Bias: -0.115557, T: 7732542, Avg. loss: 0.149427\n",
      "Total training time: 2.46 seconds.\n",
      "-- Epoch 3\n",
      "Norm: 0.48, NNZs: 50, Bias: -0.121656, T: 11598813, Avg. loss: 0.149301\n",
      "Total training time: 4.07 seconds.\n",
      "-- Epoch 4\n",
      "Norm: 0.50, NNZs: 50, Bias: -0.120889, T: 15465084, Avg. loss: 0.149241\n",
      "Total training time: 6.17 seconds.\n",
      "-- Epoch 5\n",
      "Norm: 0.51, NNZs: 50, Bias: -0.109758, T: 19331355, Avg. loss: 0.149192\n",
      "Total training time: 7.53 seconds.\n",
      "-- Epoch 6\n",
      "Norm: 0.52, NNZs: 50, Bias: -0.118716, T: 23197626, Avg. loss: 0.149157\n",
      "Total training time: 8.59 seconds.\n",
      "Convergence after 6 epochs took 8.59 seconds\n"
     ]
    }
   ],
   "source": [
    "for state, (train_idx, val_idx) in enumerate(cv.split(data)):\n",
    "    X_train = data.drop(columns=[\"target\"]).iloc[train_idx].values\n",
    "    X_val = data.drop(columns=[\"target\"]).iloc[val_idx].values\n",
    "    y_train = data[\"target\"].iloc[train_idx].values\n",
    "    y_val = data[\"target\"].iloc[val_idx].values\n",
    "    X_train, X_val = normalize_data(X_train, X_val)\n",
    "    print(f\"\\nTrain: {len(y_train)}, Val: {len(y_val)}\\n\")\n",
    "    sgd_model = SGDRegressor(**params_sgd, random_state=state)\n",
    "    sgd_model.fit(X_train, y_train)\n",
    "    joblib.dump(sgd_model, f\"./kfold_trained/sgd_model_fold{state}.joblib\")"
   ]
  },
  {
   "cell_type": "code",
   "execution_count": 85,
   "id": "28a389d0",
   "metadata": {},
   "outputs": [],
   "source": [
    "n = 200"
   ]
  },
  {
   "cell_type": "code",
   "execution_count": 86,
   "id": "fe74f902",
   "metadata": {},
   "outputs": [],
   "source": [
    "pred_sgd = sgd_model.predict(X_val[:n])"
   ]
  },
  {
   "cell_type": "code",
   "execution_count": 87,
   "id": "46378a40",
   "metadata": {},
   "outputs": [
    {
     "name": "stdout",
     "output_type": "stream",
     "text": [
      "sgd error: 5.464192206027521\n"
     ]
    }
   ],
   "source": [
    "print(\"sgd error:\", np.linalg.norm(y_val[:n]-pred_sgd))"
   ]
  },
  {
   "cell_type": "code",
   "execution_count": 68,
   "id": "dde8bb8c",
   "metadata": {},
   "outputs": [],
   "source": [
    "import matplotlib.pyplot as plt"
   ]
  },
  {
   "cell_type": "code",
   "execution_count": 89,
   "id": "80439e9e",
   "metadata": {},
   "outputs": [
    {
     "data": {
      "image/png": "[encoded data removed]",
      "text/plain": [
       "<Figure size 432x288 with 1 Axes>"
      ]
     },
     "metadata": {
      "needs_background": "light"
     },
     "output_type": "display_data"
    }
   ],
   "source": [
    "plt.plot(y_val[:n])\n",
    "plt.plot(pred_sgd)\n",
    "plt.legend([\"true\", \"pred_sgd\",])\n",
    "plt.show()"
   ]
  },
  {
   "cell_type": "code",
   "execution_count": null,
   "id": "3f060f41",
   "metadata": {},
   "outputs": [],
   "source": []
  }
 ],
 "metadata": {
  "kernelspec": {
   "display_name": "Python 3",
   "language": "python",
   "name": "python3"
  },
  "language_info": {
   "codemirror_mode": {
    "name": "ipython",
    "version": 3
   },
   "file_extension": ".py",
   "mimetype": "text/x-python",
   "name": "python",
   "nbconvert_exporter": "python",
   "pygments_lexer": "ipython3",
   "version": "3.8.8"
  }
 },
 "nbformat": 4,
 "nbformat_minor": 5
}
