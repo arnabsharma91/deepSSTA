{
 "cells": [
  {
   "cell_type": "code",
   "execution_count": 1,
   "id": "fallen-poultry",
   "metadata": {},
   "outputs": [],
   "source": [
    "import lightgbm as lgb, catboost as cat"
   ]
  },
  {
   "cell_type": "code",
   "execution_count": 2,
   "id": "fourth-watson",
   "metadata": {},
   "outputs": [],
   "source": [
    "import pandas as pd\n",
    "import joblib"
   ]
  },
  {
   "cell_type": "code",
   "execution_count": 3,
   "id": "chinese-steel",
   "metadata": {},
   "outputs": [],
   "source": [
    "import numpy as np\n",
    "import random"
   ]
  },
  {
   "cell_type": "code",
   "execution_count": 4,
   "id": "pediatric-postcard",
   "metadata": {},
   "outputs": [],
   "source": [
    "np.random.seed(42)\n",
    "random.seed(42)"
   ]
  },
  {
   "cell_type": "code",
   "execution_count": 5,
   "id": "prospective-makeup",
   "metadata": {},
   "outputs": [],
   "source": [
    "def read_merge_data(data_type=\"training\"):\n",
    "    #\n",
    "    Dfs = []\n",
    "    train_df = []\n",
    "    train_output = pd.read_csv(\"./data_phase_one/training_output.csv\", header=None)\n",
    "    coords = pd.read_csv(\"data_phase_one/coords.csv\", header=None)\n",
    "    for name in [\"mslp\", \"sst\", \"ssta\", \"t2m\"]:\n",
    "        df = pd.read_csv(f\"./data_phase_one/{data_type}_input_{name}.csv\", header=None)\n",
    "        print(\"Shape df\", df.shape)\n",
    "        Dfs.append(df)\n",
    "    j = 0\n",
    "    for i in range(0, df.shape[0]-12, 1):\n",
    "        feat = pd.concat([coords, Dfs[0].iloc[i:i+12], Dfs[1].iloc[i:i+12], Dfs[2].iloc[i:i+12], Dfs[3].iloc[i:i+12]], axis=0).reset_index(drop=True)\n",
    "        tgt = train_output.iloc[i+11]\n",
    "        tgt = tgt.T.reset_index(drop=True)\n",
    "        feat = feat.T.reset_index(drop=True)\n",
    "        feat = pd.concat([feat, tgt], axis=1)\n",
    "        assert feat.shape[1]==51\n",
    "        feat.columns = [f\"feat_{k}\" for k in range(feat.shape[1]-1)] + [\"target\"]\n",
    "        if j < 3:\n",
    "            print(feat.columns)\n",
    "        train_df.append(feat)\n",
    "        j += 1\n",
    "    train_df = pd.concat(train_df, axis=0)\n",
    "    #Dfs.index = [f\"col_{i}\" for i in range(848)]\n",
    "    return train_df"
   ]
  },
  {
   "cell_type": "code",
   "execution_count": 6,
   "id": "c211f069-42fd-45d5-90b7-2b52b4f0bc70",
   "metadata": {},
   "outputs": [],
   "source": [
    "#pd.read_csv(\"data_phase_one/coords.csv\", header=None)"
   ]
  },
  {
   "cell_type": "code",
   "execution_count": 7,
   "id": "minus-occasion",
   "metadata": {},
   "outputs": [
    {
     "name": "stdout",
     "output_type": "stream",
     "text": [
      "Shape df (849, 5774)\n",
      "Shape df (849, 5774)\n",
      "Shape df (849, 5774)\n",
      "Shape df (849, 5774)\n",
      "Index(['feat_0', 'feat_1', 'feat_2', 'feat_3', 'feat_4', 'feat_5', 'feat_6',\n",
      "       'feat_7', 'feat_8', 'feat_9', 'feat_10', 'feat_11', 'feat_12',\n",
      "       'feat_13', 'feat_14', 'feat_15', 'feat_16', 'feat_17', 'feat_18',\n",
      "       'feat_19', 'feat_20', 'feat_21', 'feat_22', 'feat_23', 'feat_24',\n",
      "       'feat_25', 'feat_26', 'feat_27', 'feat_28', 'feat_29', 'feat_30',\n",
      "       'feat_31', 'feat_32', 'feat_33', 'feat_34', 'feat_35', 'feat_36',\n",
      "       'feat_37', 'feat_38', 'feat_39', 'feat_40', 'feat_41', 'feat_42',\n",
      "       'feat_43', 'feat_44', 'feat_45', 'feat_46', 'feat_47', 'feat_48',\n",
      "       'feat_49', 'target'],\n",
      "      dtype='object')\n",
      "Index(['feat_0', 'feat_1', 'feat_2', 'feat_3', 'feat_4', 'feat_5', 'feat_6',\n",
      "       'feat_7', 'feat_8', 'feat_9', 'feat_10', 'feat_11', 'feat_12',\n",
      "       'feat_13', 'feat_14', 'feat_15', 'feat_16', 'feat_17', 'feat_18',\n",
      "       'feat_19', 'feat_20', 'feat_21', 'feat_22', 'feat_23', 'feat_24',\n",
      "       'feat_25', 'feat_26', 'feat_27', 'feat_28', 'feat_29', 'feat_30',\n",
      "       'feat_31', 'feat_32', 'feat_33', 'feat_34', 'feat_35', 'feat_36',\n",
      "       'feat_37', 'feat_38', 'feat_39', 'feat_40', 'feat_41', 'feat_42',\n",
      "       'feat_43', 'feat_44', 'feat_45', 'feat_46', 'feat_47', 'feat_48',\n",
      "       'feat_49', 'target'],\n",
      "      dtype='object')\n",
      "Index(['feat_0', 'feat_1', 'feat_2', 'feat_3', 'feat_4', 'feat_5', 'feat_6',\n",
      "       'feat_7', 'feat_8', 'feat_9', 'feat_10', 'feat_11', 'feat_12',\n",
      "       'feat_13', 'feat_14', 'feat_15', 'feat_16', 'feat_17', 'feat_18',\n",
      "       'feat_19', 'feat_20', 'feat_21', 'feat_22', 'feat_23', 'feat_24',\n",
      "       'feat_25', 'feat_26', 'feat_27', 'feat_28', 'feat_29', 'feat_30',\n",
      "       'feat_31', 'feat_32', 'feat_33', 'feat_34', 'feat_35', 'feat_36',\n",
      "       'feat_37', 'feat_38', 'feat_39', 'feat_40', 'feat_41', 'feat_42',\n",
      "       'feat_43', 'feat_44', 'feat_45', 'feat_46', 'feat_47', 'feat_48',\n",
      "       'feat_49', 'target'],\n",
      "      dtype='object')\n"
     ]
    }
   ],
   "source": [
    "data = read_merge_data()"
   ]
  },
  {
   "cell_type": "code",
   "execution_count": 8,
   "id": "earned-pioneer",
   "metadata": {},
   "outputs": [],
   "source": [
    "#y = train_df[\"target\"]"
   ]
  },
  {
   "cell_type": "code",
   "execution_count": 9,
   "id": "separate-european",
   "metadata": {},
   "outputs": [],
   "source": [
    "from sklearn.model_selection import train_test_split\n",
    "from sklearn.model_selection import KFold"
   ]
  },
  {
   "cell_type": "code",
   "execution_count": 10,
   "id": "senior-bikini",
   "metadata": {},
   "outputs": [],
   "source": [
    "cv = KFold(n_splits=5, shuffle=True)"
   ]
  },
  {
   "cell_type": "code",
   "execution_count": 11,
   "id": "8457aba3-ea77-4a31-9159-e74cc97cfc81",
   "metadata": {},
   "outputs": [],
   "source": [
    "params_lgb = {\n",
    "    \"boosting_type\": \"gbdt\",\n",
    "    \"objective\": \"regression\",\n",
    "    \"metric\": \"rmse\",\n",
    "    \"max_depth\": 8,\n",
    "    'num_leaves': 255,\n",
    "    \"learning_rate\": 0.01,\n",
    "    \"n_estimators\": 2000,\n",
    "    #\"colsample_bytree\": 0.8, \n",
    "    #\"colsample_bynode\": 0.8,\n",
    "    \"verbose\": -1,\n",
    "    \"device\": \"gpu\",\n",
    "    \"gpu_device_id\": 1}"
   ]
  },
  {
   "cell_type": "code",
   "execution_count": 16,
   "id": "a91e3823-abb8-493d-b7ec-129a4651d158",
   "metadata": {},
   "outputs": [],
   "source": [
    "params_catb = dict(\n",
    "task_type=\"GPU\",\n",
    "devices='1',\n",
    "reg_lambda=0.438, learning_rate=0.1,\n",
    "max_depth=8, min_data_in_leaf=50,\n",
    "n_estimators=2000, verbose=50,\n",
    "objective='RMSE')"
   ]
  },
  {
   "cell_type": "code",
   "execution_count": 13,
   "id": "015bdeab-6c4d-4fec-a1ee-7a143d46cf76",
   "metadata": {},
   "outputs": [
    {
     "data": {
      "text/plain": [
       "{'task_type': 'GPU',\n",
       " 'devices': '1',\n",
       " 'reg_lambda': 0.438,\n",
       " 'learning_rate': 0.01,\n",
       " 'max_depth': 8,\n",
       " 'min_data_in_leaf': 50,\n",
       " 'n_estimators': 2000,\n",
       " 'verbose': 50,\n",
       " 'objective': 'RMSE'}"
      ]
     },
     "execution_count": 13,
     "metadata": {},
     "output_type": "execute_result"
    }
   ],
   "source": [
    "params_catb"
   ]
  },
  {
   "cell_type": "code",
   "execution_count": 14,
   "id": "3f2208f8-28fb-41a0-95ff-a515b37aadab",
   "metadata": {},
   "outputs": [
    {
     "name": "stdout",
     "output_type": "stream",
     "text": [
      "\n",
      "Train: 3866270, Val: 966568\n",
      "\n",
      "\n",
      "Train: 3866270, Val: 966568\n",
      "\n",
      "\n",
      "Train: 3866270, Val: 966568\n",
      "\n",
      "\n",
      "Train: 3866271, Val: 966567\n",
      "\n",
      "\n",
      "Train: 3866271, Val: 966567\n",
      "\n"
     ]
    }
   ],
   "source": [
    "for state, (train_idx, val_idx) in enumerate(cv.split(data)):\n",
    "    X_train = data.drop(columns=[\"target\"]).iloc[train_idx].values\n",
    "    X_val = data.drop(columns=[\"target\"]).iloc[val_idx].values\n",
    "    y_train = data[\"target\"].iloc[train_idx].values\n",
    "    y_val = data[\"target\"].iloc[val_idx].values\n",
    "    print(f\"\\nTrain: {len(y_train)}, Val: {len(y_val)}\\n\")\n",
    "    lgb_model = lgb.LGBMRegressor(**params_lgb, random_state=state)\n",
    "    lgb_model.fit(\n",
    "        X_train, y_train,\n",
    "        eval_set=[(X_val, y_val)])\n",
    "    joblib.dump(lgb_model, f\"./kfold_trained2/lgb_model_fold{state}.joblib\")"
   ]
  },
  {
   "cell_type": "code",
   "execution_count": 17,
   "id": "e816cfa1-aff7-4cc0-8947-fe8bd61e824c",
   "metadata": {},
   "outputs": [
    {
     "name": "stdout",
     "output_type": "stream",
     "text": [
      "\n",
      "Train: 3866270, Val: 966568\n",
      "\n",
      "0:\tlearn: 0.6051317\ttest: 0.6054069\tbest: 0.6054069 (0)\ttotal: 20.7ms\tremaining: 41.5s\n",
      "50:\tlearn: 0.5306695\ttest: 0.5316948\tbest: 0.5316948 (50)\ttotal: 1.02s\tremaining: 39.1s\n",
      "100:\tlearn: 0.5259155\ttest: 0.5272421\tbest: 0.5272421 (100)\ttotal: 2.09s\tremaining: 39.2s\n",
      "150:\tlearn: 0.5229300\ttest: 0.5246307\tbest: 0.5246307 (150)\ttotal: 3.15s\tremaining: 38.6s\n",
      "200:\tlearn: 0.5206516\ttest: 0.5227018\tbest: 0.5227018 (200)\ttotal: 4.22s\tremaining: 37.7s\n",
      "250:\tlearn: 0.5186621\ttest: 0.5210165\tbest: 0.5210165 (250)\ttotal: 5.28s\tremaining: 36.8s\n",
      "300:\tlearn: 0.5168155\ttest: 0.5195444\tbest: 0.5195444 (300)\ttotal: 6.31s\tremaining: 35.6s\n",
      "350:\tlearn: 0.5152835\ttest: 0.5183324\tbest: 0.5183324 (350)\ttotal: 7.36s\tremaining: 34.6s\n",
      "400:\tlearn: 0.5138776\ttest: 0.5172323\tbest: 0.5172323 (400)\ttotal: 8.43s\tremaining: 33.6s\n",
      "450:\tlearn: 0.5124955\ttest: 0.5161393\tbest: 0.5161393 (450)\ttotal: 9.46s\tremaining: 32.5s\n",
      "500:\tlearn: 0.5111608\ttest: 0.5151730\tbest: 0.5151730 (500)\ttotal: 10.5s\tremaining: 31.5s\n",
      "550:\tlearn: 0.5098768\ttest: 0.5142501\tbest: 0.5142501 (550)\ttotal: 11.6s\tremaining: 30.5s\n",
      "600:\tlearn: 0.5086196\ttest: 0.5133339\tbest: 0.5133339 (600)\ttotal: 12.6s\tremaining: 29.4s\n",
      "650:\tlearn: 0.5074780\ttest: 0.5124746\tbest: 0.5124746 (650)\ttotal: 13.7s\tremaining: 28.4s\n",
      "700:\tlearn: 0.5064412\ttest: 0.5117544\tbest: 0.5117544 (700)\ttotal: 14.7s\tremaining: 27.3s\n",
      "750:\tlearn: 0.5053315\ttest: 0.5109533\tbest: 0.5109533 (750)\ttotal: 15.8s\tremaining: 26.2s\n",
      "800:\tlearn: 0.5043343\ttest: 0.5102630\tbest: 0.5102630 (800)\ttotal: 16.8s\tremaining: 25.2s\n",
      "850:\tlearn: 0.5033656\ttest: 0.5096034\tbest: 0.5096034 (850)\ttotal: 17.9s\tremaining: 24.1s\n",
      "900:\tlearn: 0.5023897\ttest: 0.5089264\tbest: 0.5089264 (900)\ttotal: 18.9s\tremaining: 23.1s\n",
      "950:\tlearn: 0.5013747\ttest: 0.5082498\tbest: 0.5082498 (950)\ttotal: 20s\tremaining: 22.1s\n",
      "1000:\tlearn: 0.5004100\ttest: 0.5075915\tbest: 0.5075915 (1000)\ttotal: 21s\tremaining: 21s\n",
      "1050:\tlearn: 0.4994831\ttest: 0.5069847\tbest: 0.5069847 (1050)\ttotal: 22.1s\tremaining: 19.9s\n",
      "1100:\tlearn: 0.4985970\ttest: 0.5063967\tbest: 0.5063967 (1100)\ttotal: 23.1s\tremaining: 18.9s\n",
      "1150:\tlearn: 0.4976566\ttest: 0.5057412\tbest: 0.5057412 (1150)\ttotal: 24.2s\tremaining: 17.8s\n",
      "1200:\tlearn: 0.4967707\ttest: 0.5051457\tbest: 0.5051457 (1200)\ttotal: 25.2s\tremaining: 16.8s\n",
      "1250:\tlearn: 0.4958812\ttest: 0.5045569\tbest: 0.5045569 (1250)\ttotal: 26.3s\tremaining: 15.7s\n",
      "1300:\tlearn: 0.4950855\ttest: 0.5040444\tbest: 0.5040444 (1300)\ttotal: 27.4s\tremaining: 14.7s\n",
      "1350:\tlearn: 0.4942434\ttest: 0.5034996\tbest: 0.5034996 (1350)\ttotal: 28.4s\tremaining: 13.7s\n",
      "1400:\tlearn: 0.4933994\ttest: 0.5029223\tbest: 0.5029223 (1400)\ttotal: 29.5s\tremaining: 12.6s\n",
      "1450:\tlearn: 0.4926119\ttest: 0.5023935\tbest: 0.5023935 (1450)\ttotal: 30.5s\tremaining: 11.6s\n",
      "1500:\tlearn: 0.4918025\ttest: 0.5018519\tbest: 0.5018519 (1500)\ttotal: 31.6s\tremaining: 10.5s\n",
      "1550:\tlearn: 0.4910720\ttest: 0.5013859\tbest: 0.5013859 (1550)\ttotal: 32.7s\tremaining: 9.45s\n",
      "1600:\tlearn: 0.4903602\ttest: 0.5009505\tbest: 0.5009505 (1600)\ttotal: 33.7s\tremaining: 8.4s\n",
      "1650:\tlearn: 0.4896364\ttest: 0.5005242\tbest: 0.5005242 (1650)\ttotal: 34.8s\tremaining: 7.35s\n",
      "1700:\tlearn: 0.4888888\ttest: 0.5000370\tbest: 0.5000370 (1700)\ttotal: 35.9s\tremaining: 6.3s\n",
      "1750:\tlearn: 0.4881492\ttest: 0.4995683\tbest: 0.4995683 (1750)\ttotal: 36.9s\tremaining: 5.25s\n",
      "1800:\tlearn: 0.4874368\ttest: 0.4991381\tbest: 0.4991381 (1800)\ttotal: 38s\tremaining: 4.19s\n",
      "1850:\tlearn: 0.4867191\ttest: 0.4986805\tbest: 0.4986805 (1850)\ttotal: 39s\tremaining: 3.14s\n",
      "1900:\tlearn: 0.4860318\ttest: 0.4982523\tbest: 0.4982523 (1900)\ttotal: 40.1s\tremaining: 2.09s\n",
      "1950:\tlearn: 0.4853114\ttest: 0.4978089\tbest: 0.4978089 (1950)\ttotal: 41.1s\tremaining: 1.03s\n",
      "1999:\tlearn: 0.4846365\ttest: 0.4974076\tbest: 0.4974076 (1999)\ttotal: 42.1s\tremaining: 0us\n",
      "bestTest = 0.4974076007\n",
      "bestIteration = 1999\n",
      "\n",
      "Train: 3866270, Val: 966568\n",
      "\n",
      "0:\tlearn: 0.6051072\ttest: 0.6055479\tbest: 0.6055479 (0)\ttotal: 20.5ms\tremaining: 41s\n",
      "50:\tlearn: 0.5308059\ttest: 0.5317036\tbest: 0.5317036 (50)\ttotal: 1.03s\tremaining: 39.4s\n",
      "100:\tlearn: 0.5260266\ttest: 0.5273165\tbest: 0.5273165 (100)\ttotal: 2.09s\tremaining: 39.3s\n",
      "150:\tlearn: 0.5231161\ttest: 0.5248438\tbest: 0.5248438 (150)\ttotal: 3.16s\tremaining: 38.7s\n",
      "200:\tlearn: 0.5206587\ttest: 0.5228071\tbest: 0.5228071 (200)\ttotal: 4.23s\tremaining: 37.9s\n",
      "250:\tlearn: 0.5185896\ttest: 0.5211065\tbest: 0.5211065 (250)\ttotal: 5.29s\tremaining: 36.9s\n",
      "300:\tlearn: 0.5167653\ttest: 0.5196241\tbest: 0.5196241 (300)\ttotal: 6.36s\tremaining: 35.9s\n",
      "350:\tlearn: 0.5152435\ttest: 0.5184513\tbest: 0.5184513 (350)\ttotal: 7.41s\tremaining: 34.8s\n",
      "400:\tlearn: 0.5137309\ttest: 0.5172737\tbest: 0.5172737 (400)\ttotal: 8.47s\tremaining: 33.8s\n",
      "450:\tlearn: 0.5123520\ttest: 0.5162355\tbest: 0.5162355 (450)\ttotal: 9.53s\tremaining: 32.7s\n",
      "500:\tlearn: 0.5110749\ttest: 0.5152495\tbest: 0.5152495 (500)\ttotal: 10.6s\tremaining: 31.7s\n",
      "550:\tlearn: 0.5098458\ttest: 0.5143442\tbest: 0.5143442 (550)\ttotal: 11.7s\tremaining: 30.6s\n",
      "600:\tlearn: 0.5087003\ttest: 0.5135552\tbest: 0.5135552 (600)\ttotal: 12.7s\tremaining: 29.6s\n",
      "650:\tlearn: 0.5074994\ttest: 0.5126674\tbest: 0.5126674 (650)\ttotal: 13.8s\tremaining: 28.5s\n",
      "700:\tlearn: 0.5063464\ttest: 0.5118386\tbest: 0.5118386 (700)\ttotal: 14.8s\tremaining: 27.5s\n",
      "750:\tlearn: 0.5052360\ttest: 0.5110460\tbest: 0.5110460 (750)\ttotal: 15.9s\tremaining: 26.4s\n",
      "800:\tlearn: 0.5042763\ttest: 0.5104179\tbest: 0.5104179 (800)\ttotal: 16.9s\tremaining: 25.3s\n",
      "850:\tlearn: 0.5032547\ttest: 0.5097451\tbest: 0.5097451 (850)\ttotal: 18s\tremaining: 24.3s\n",
      "900:\tlearn: 0.5022911\ttest: 0.5091041\tbest: 0.5091041 (900)\ttotal: 19.1s\tremaining: 23.3s\n",
      "950:\tlearn: 0.5013423\ttest: 0.5084305\tbest: 0.5084305 (950)\ttotal: 20.1s\tremaining: 22.2s\n",
      "1000:\tlearn: 0.5004205\ttest: 0.5077848\tbest: 0.5077848 (1000)\ttotal: 21.2s\tremaining: 21.1s\n",
      "1050:\tlearn: 0.4995235\ttest: 0.5072015\tbest: 0.5072015 (1050)\ttotal: 22.2s\tremaining: 20.1s\n",
      "1100:\tlearn: 0.4986041\ttest: 0.5065769\tbest: 0.5065769 (1100)\ttotal: 23.3s\tremaining: 19s\n",
      "1150:\tlearn: 0.4977201\ttest: 0.5059959\tbest: 0.5059959 (1150)\ttotal: 24.3s\tremaining: 18s\n",
      "1200:\tlearn: 0.4968565\ttest: 0.5054051\tbest: 0.5054051 (1200)\ttotal: 25.4s\tremaining: 16.9s\n",
      "1250:\tlearn: 0.4960296\ttest: 0.5048525\tbest: 0.5048525 (1250)\ttotal: 26.5s\tremaining: 15.9s\n",
      "1300:\tlearn: 0.4951371\ttest: 0.5042471\tbest: 0.5042471 (1300)\ttotal: 27.6s\tremaining: 14.8s\n",
      "1350:\tlearn: 0.4943214\ttest: 0.5037123\tbest: 0.5037123 (1350)\ttotal: 28.6s\tremaining: 13.7s\n",
      "1400:\tlearn: 0.4935267\ttest: 0.5032080\tbest: 0.5032080 (1400)\ttotal: 29.7s\tremaining: 12.7s\n",
      "1450:\tlearn: 0.4927144\ttest: 0.5027004\tbest: 0.5027004 (1450)\ttotal: 30.7s\tremaining: 11.6s\n",
      "1500:\tlearn: 0.4919736\ttest: 0.5022496\tbest: 0.5022496 (1500)\ttotal: 31.8s\tremaining: 10.6s\n",
      "1550:\tlearn: 0.4911640\ttest: 0.5017408\tbest: 0.5017408 (1550)\ttotal: 32.8s\tremaining: 9.51s\n",
      "1600:\tlearn: 0.4904260\ttest: 0.5012717\tbest: 0.5012717 (1600)\ttotal: 33.9s\tremaining: 8.44s\n",
      "1650:\tlearn: 0.4896803\ttest: 0.5007845\tbest: 0.5007845 (1650)\ttotal: 34.9s\tremaining: 7.39s\n",
      "1700:\tlearn: 0.4889728\ttest: 0.5003421\tbest: 0.5003421 (1700)\ttotal: 36s\tremaining: 6.33s\n",
      "1750:\tlearn: 0.4882339\ttest: 0.4998581\tbest: 0.4998581 (1750)\ttotal: 37.1s\tremaining: 5.27s\n",
      "1800:\tlearn: 0.4874829\ttest: 0.4993395\tbest: 0.4993395 (1800)\ttotal: 38.2s\tremaining: 4.22s\n",
      "1850:\tlearn: 0.4868166\ttest: 0.4989045\tbest: 0.4989045 (1850)\ttotal: 39.2s\tremaining: 3.16s\n",
      "1900:\tlearn: 0.4861001\ttest: 0.4984594\tbest: 0.4984594 (1900)\ttotal: 40.3s\tremaining: 2.1s\n",
      "1950:\tlearn: 0.4854188\ttest: 0.4980442\tbest: 0.4980442 (1950)\ttotal: 41.4s\tremaining: 1.04s\n",
      "1999:\tlearn: 0.4847319\ttest: 0.4975891\tbest: 0.4975891 (1999)\ttotal: 42.4s\tremaining: 0us\n",
      "bestTest = 0.4975890604\n",
      "bestIteration = 1999\n",
      "\n",
      "Train: 3866270, Val: 966568\n",
      "\n",
      "0:\tlearn: 0.6053403\ttest: 0.6047093\tbest: 0.6047093 (0)\ttotal: 19.2ms\tremaining: 38.4s\n",
      "50:\tlearn: 0.5311215\ttest: 0.5306927\tbest: 0.5306927 (50)\ttotal: 1.02s\tremaining: 39.2s\n",
      "100:\tlearn: 0.5262754\ttest: 0.5261754\tbest: 0.5261754 (100)\ttotal: 2.08s\tremaining: 39.2s\n",
      "150:\tlearn: 0.5234381\ttest: 0.5237057\tbest: 0.5237057 (150)\ttotal: 3.15s\tremaining: 38.5s\n",
      "200:\tlearn: 0.5209974\ttest: 0.5216088\tbest: 0.5216088 (200)\ttotal: 4.22s\tremaining: 37.8s\n",
      "250:\tlearn: 0.5190188\ttest: 0.5199470\tbest: 0.5199470 (250)\ttotal: 5.26s\tremaining: 36.7s\n",
      "300:\tlearn: 0.5173203\ttest: 0.5186491\tbest: 0.5186491 (300)\ttotal: 6.32s\tremaining: 35.7s\n",
      "350:\tlearn: 0.5156475\ttest: 0.5173043\tbest: 0.5173043 (350)\ttotal: 7.38s\tremaining: 34.7s\n",
      "400:\tlearn: 0.5140908\ttest: 0.5160783\tbest: 0.5160783 (400)\ttotal: 8.41s\tremaining: 33.5s\n",
      "450:\tlearn: 0.5127248\ttest: 0.5151061\tbest: 0.5151061 (450)\ttotal: 9.44s\tremaining: 32.4s\n",
      "500:\tlearn: 0.5113686\ttest: 0.5140675\tbest: 0.5140675 (500)\ttotal: 10.5s\tremaining: 31.4s\n",
      "550:\tlearn: 0.5101815\ttest: 0.5132166\tbest: 0.5132166 (550)\ttotal: 11.5s\tremaining: 30.4s\n",
      "600:\tlearn: 0.5089901\ttest: 0.5124104\tbest: 0.5124104 (600)\ttotal: 12.6s\tremaining: 29.3s\n",
      "650:\tlearn: 0.5078568\ttest: 0.5116083\tbest: 0.5116083 (650)\ttotal: 13.7s\tremaining: 28.3s\n",
      "700:\tlearn: 0.5067309\ttest: 0.5108069\tbest: 0.5108069 (700)\ttotal: 14.7s\tremaining: 27.3s\n",
      "750:\tlearn: 0.5056472\ttest: 0.5100668\tbest: 0.5100668 (750)\ttotal: 15.8s\tremaining: 26.2s\n",
      "800:\tlearn: 0.5046494\ttest: 0.5093946\tbest: 0.5093946 (800)\ttotal: 16.8s\tremaining: 25.2s\n",
      "850:\tlearn: 0.5036152\ttest: 0.5086446\tbest: 0.5086446 (850)\ttotal: 17.9s\tremaining: 24.2s\n",
      "900:\tlearn: 0.5026045\ttest: 0.5079092\tbest: 0.5079092 (900)\ttotal: 18.9s\tremaining: 23.1s\n",
      "950:\tlearn: 0.5015541\ttest: 0.5071918\tbest: 0.5071918 (950)\ttotal: 20s\tremaining: 22.1s\n",
      "1000:\tlearn: 0.5006910\ttest: 0.5066129\tbest: 0.5066129 (1000)\ttotal: 21.1s\tremaining: 21s\n",
      "1050:\tlearn: 0.4997366\ttest: 0.5059882\tbest: 0.5059882 (1050)\ttotal: 22.1s\tremaining: 20s\n",
      "1100:\tlearn: 0.4988367\ttest: 0.5054003\tbest: 0.5054003 (1100)\ttotal: 23.2s\tremaining: 18.9s\n",
      "1150:\tlearn: 0.4979586\ttest: 0.5047965\tbest: 0.5047965 (1150)\ttotal: 24.2s\tremaining: 17.9s\n",
      "1200:\tlearn: 0.4971574\ttest: 0.5042721\tbest: 0.5042721 (1200)\ttotal: 25.3s\tremaining: 16.8s\n",
      "1250:\tlearn: 0.4962807\ttest: 0.5036910\tbest: 0.5036910 (1250)\ttotal: 26.3s\tremaining: 15.8s\n",
      "1300:\tlearn: 0.4954112\ttest: 0.5031006\tbest: 0.5031006 (1300)\ttotal: 27.4s\tremaining: 14.7s\n",
      "1350:\tlearn: 0.4946047\ttest: 0.5025638\tbest: 0.5025638 (1350)\ttotal: 28.5s\tremaining: 13.7s\n",
      "1400:\tlearn: 0.4938295\ttest: 0.5020466\tbest: 0.5020466 (1400)\ttotal: 29.5s\tremaining: 12.6s\n",
      "1450:\tlearn: 0.4930263\ttest: 0.5015330\tbest: 0.5015330 (1450)\ttotal: 30.5s\tremaining: 11.6s\n",
      "1500:\tlearn: 0.4922116\ttest: 0.5009807\tbest: 0.5009807 (1500)\ttotal: 31.6s\tremaining: 10.5s\n",
      "1550:\tlearn: 0.4914503\ttest: 0.5004979\tbest: 0.5004979 (1550)\ttotal: 32.7s\tremaining: 9.45s\n",
      "1600:\tlearn: 0.4906413\ttest: 0.4999442\tbest: 0.4999442 (1600)\ttotal: 33.7s\tremaining: 8.4s\n",
      "1650:\tlearn: 0.4899082\ttest: 0.4994673\tbest: 0.4994673 (1650)\ttotal: 34.7s\tremaining: 7.34s\n",
      "1700:\tlearn: 0.4891548\ttest: 0.4989724\tbest: 0.4989724 (1700)\ttotal: 35.8s\tremaining: 6.29s\n",
      "1750:\tlearn: 0.4884532\ttest: 0.4985181\tbest: 0.4985181 (1750)\ttotal: 36.9s\tremaining: 5.24s\n",
      "1800:\tlearn: 0.4877245\ttest: 0.4980720\tbest: 0.4980720 (1800)\ttotal: 37.9s\tremaining: 4.19s\n",
      "1850:\tlearn: 0.4870236\ttest: 0.4976397\tbest: 0.4976397 (1850)\ttotal: 39s\tremaining: 3.14s\n",
      "1900:\tlearn: 0.4862966\ttest: 0.4971699\tbest: 0.4971699 (1900)\ttotal: 40s\tremaining: 2.08s\n",
      "1950:\tlearn: 0.4856236\ttest: 0.4967476\tbest: 0.4967476 (1950)\ttotal: 41.1s\tremaining: 1.03s\n",
      "1999:\tlearn: 0.4849521\ttest: 0.4963214\tbest: 0.4963214 (1999)\ttotal: 42.1s\tremaining: 0us\n",
      "bestTest = 0.4963214226\n",
      "bestIteration = 1999\n",
      "\n",
      "Train: 3866271, Val: 966567\n",
      "\n",
      "0:\tlearn: 0.6054156\ttest: 0.6043520\tbest: 0.6043520 (0)\ttotal: 19.3ms\tremaining: 38.7s\n",
      "50:\tlearn: 0.5309325\ttest: 0.5304027\tbest: 0.5304027 (50)\ttotal: 1.01s\tremaining: 38.5s\n",
      "100:\tlearn: 0.5262153\ttest: 0.5261016\tbest: 0.5261016 (100)\ttotal: 2.08s\tremaining: 39s\n",
      "150:\tlearn: 0.5234183\ttest: 0.5237256\tbest: 0.5237256 (150)\ttotal: 3.12s\tremaining: 38.2s\n",
      "200:\tlearn: 0.5209546\ttest: 0.5216801\tbest: 0.5216801 (200)\ttotal: 4.17s\tremaining: 37.4s\n",
      "250:\tlearn: 0.5189682\ttest: 0.5200717\tbest: 0.5200717 (250)\ttotal: 5.24s\tremaining: 36.5s\n",
      "300:\tlearn: 0.5170946\ttest: 0.5185379\tbest: 0.5185379 (300)\ttotal: 6.3s\tremaining: 35.6s\n",
      "350:\tlearn: 0.5155208\ttest: 0.5173522\tbest: 0.5173522 (350)\ttotal: 7.35s\tremaining: 34.5s\n",
      "400:\tlearn: 0.5139994\ttest: 0.5161728\tbest: 0.5161728 (400)\ttotal: 8.4s\tremaining: 33.5s\n",
      "450:\tlearn: 0.5126109\ttest: 0.5151273\tbest: 0.5151273 (450)\ttotal: 9.45s\tremaining: 32.4s\n",
      "500:\tlearn: 0.5113280\ttest: 0.5142070\tbest: 0.5142070 (500)\ttotal: 10.5s\tremaining: 31.4s\n",
      "550:\tlearn: 0.5100749\ttest: 0.5132996\tbest: 0.5132996 (550)\ttotal: 11.5s\tremaining: 30.3s\n",
      "600:\tlearn: 0.5088976\ttest: 0.5124799\tbest: 0.5124799 (600)\ttotal: 12.6s\tremaining: 29.4s\n",
      "650:\tlearn: 0.5077753\ttest: 0.5117025\tbest: 0.5117025 (650)\ttotal: 13.7s\tremaining: 28.4s\n",
      "700:\tlearn: 0.5066857\ttest: 0.5109568\tbest: 0.5109568 (700)\ttotal: 14.7s\tremaining: 27.3s\n",
      "750:\tlearn: 0.5055782\ttest: 0.5102023\tbest: 0.5102023 (750)\ttotal: 15.8s\tremaining: 26.3s\n",
      "800:\tlearn: 0.5045197\ttest: 0.5094590\tbest: 0.5094590 (800)\ttotal: 16.9s\tremaining: 25.3s\n",
      "850:\tlearn: 0.5035078\ttest: 0.5087610\tbest: 0.5087610 (850)\ttotal: 17.9s\tremaining: 24.2s\n",
      "900:\tlearn: 0.5025394\ttest: 0.5081129\tbest: 0.5081129 (900)\ttotal: 19s\tremaining: 23.2s\n",
      "950:\tlearn: 0.5015809\ttest: 0.5074627\tbest: 0.5074627 (950)\ttotal: 20s\tremaining: 22.1s\n",
      "1000:\tlearn: 0.5006407\ttest: 0.5068513\tbest: 0.5068513 (1000)\ttotal: 21.1s\tremaining: 21s\n",
      "1050:\tlearn: 0.4996874\ttest: 0.5062031\tbest: 0.5062031 (1050)\ttotal: 22.1s\tremaining: 20s\n",
      "1100:\tlearn: 0.4988269\ttest: 0.5056276\tbest: 0.5056276 (1100)\ttotal: 23.2s\tremaining: 18.9s\n",
      "1150:\tlearn: 0.4979843\ttest: 0.5050936\tbest: 0.5050936 (1150)\ttotal: 24.2s\tremaining: 17.9s\n",
      "1200:\tlearn: 0.4971067\ttest: 0.5045406\tbest: 0.5045406 (1200)\ttotal: 25.3s\tremaining: 16.8s\n",
      "1250:\tlearn: 0.4962684\ttest: 0.5040068\tbest: 0.5040068 (1250)\ttotal: 26.3s\tremaining: 15.8s\n",
      "1300:\tlearn: 0.4954573\ttest: 0.5034747\tbest: 0.5034747 (1300)\ttotal: 27.4s\tremaining: 14.7s\n",
      "1350:\tlearn: 0.4946360\ttest: 0.5029490\tbest: 0.5029490 (1350)\ttotal: 28.5s\tremaining: 13.7s\n",
      "1400:\tlearn: 0.4937805\ttest: 0.5023980\tbest: 0.5023980 (1400)\ttotal: 29.5s\tremaining: 12.6s\n",
      "1450:\tlearn: 0.4929760\ttest: 0.5018899\tbest: 0.5018899 (1450)\ttotal: 30.5s\tremaining: 11.6s\n",
      "1500:\tlearn: 0.4921832\ttest: 0.5013872\tbest: 0.5013872 (1500)\ttotal: 31.6s\tremaining: 10.5s\n",
      "1550:\tlearn: 0.4914340\ttest: 0.5008993\tbest: 0.5008993 (1550)\ttotal: 32.7s\tremaining: 9.45s\n",
      "1600:\tlearn: 0.4906635\ttest: 0.5004091\tbest: 0.5004091 (1600)\ttotal: 33.7s\tremaining: 8.4s\n",
      "1650:\tlearn: 0.4898705\ttest: 0.4998920\tbest: 0.4998920 (1650)\ttotal: 34.8s\tremaining: 7.35s\n",
      "1700:\tlearn: 0.4891091\ttest: 0.4994131\tbest: 0.4994131 (1700)\ttotal: 35.8s\tremaining: 6.3s\n",
      "1750:\tlearn: 0.4884348\ttest: 0.4990302\tbest: 0.4990302 (1750)\ttotal: 36.9s\tremaining: 5.25s\n",
      "1800:\tlearn: 0.4876956\ttest: 0.4985810\tbest: 0.4985810 (1800)\ttotal: 38s\tremaining: 4.2s\n",
      "1850:\tlearn: 0.4869350\ttest: 0.4981122\tbest: 0.4981122 (1850)\ttotal: 39s\tremaining: 3.14s\n",
      "1900:\tlearn: 0.4861728\ttest: 0.4976116\tbest: 0.4976116 (1900)\ttotal: 40.1s\tremaining: 2.09s\n",
      "1950:\tlearn: 0.4854828\ttest: 0.4971924\tbest: 0.4971924 (1950)\ttotal: 41.1s\tremaining: 1.03s\n",
      "1999:\tlearn: 0.4847773\ttest: 0.4967336\tbest: 0.4967336 (1999)\ttotal: 42.2s\tremaining: 0us\n",
      "bestTest = 0.4967335583\n",
      "bestIteration = 1999\n",
      "\n",
      "Train: 3866271, Val: 966567\n",
      "\n",
      "0:\tlearn: 0.6050139\ttest: 0.6060239\tbest: 0.6060239 (0)\ttotal: 19.1ms\tremaining: 38.3s\n",
      "50:\tlearn: 0.5307238\ttest: 0.5317547\tbest: 0.5317547 (50)\ttotal: 1.01s\tremaining: 38.8s\n",
      "100:\tlearn: 0.5258858\ttest: 0.5273281\tbest: 0.5273281 (100)\ttotal: 2.08s\tremaining: 39.1s\n",
      "150:\tlearn: 0.5229926\ttest: 0.5248466\tbest: 0.5248466 (150)\ttotal: 3.13s\tremaining: 38.4s\n",
      "200:\tlearn: 0.5206336\ttest: 0.5228477\tbest: 0.5228477 (200)\ttotal: 4.17s\tremaining: 37.4s\n",
      "250:\tlearn: 0.5186369\ttest: 0.5211804\tbest: 0.5211804 (250)\ttotal: 5.21s\tremaining: 36.3s\n",
      "300:\tlearn: 0.5168821\ttest: 0.5197424\tbest: 0.5197424 (300)\ttotal: 6.31s\tremaining: 35.6s\n",
      "350:\tlearn: 0.5153612\ttest: 0.5185606\tbest: 0.5185606 (350)\ttotal: 7.37s\tremaining: 34.6s\n",
      "400:\tlearn: 0.5138405\ttest: 0.5173641\tbest: 0.5173641 (400)\ttotal: 8.45s\tremaining: 33.7s\n",
      "450:\tlearn: 0.5125016\ttest: 0.5163508\tbest: 0.5163508 (450)\ttotal: 9.53s\tremaining: 32.7s\n",
      "500:\tlearn: 0.5112019\ttest: 0.5154016\tbest: 0.5154016 (500)\ttotal: 10.6s\tremaining: 31.6s\n",
      "550:\tlearn: 0.5099073\ttest: 0.5144445\tbest: 0.5144445 (550)\ttotal: 11.6s\tremaining: 30.6s\n",
      "600:\tlearn: 0.5086522\ttest: 0.5134945\tbest: 0.5134945 (600)\ttotal: 12.7s\tremaining: 29.5s\n",
      "650:\tlearn: 0.5074938\ttest: 0.5126834\tbest: 0.5126834 (650)\ttotal: 13.8s\tremaining: 28.5s\n",
      "700:\tlearn: 0.5063690\ttest: 0.5118879\tbest: 0.5118879 (700)\ttotal: 14.8s\tremaining: 27.4s\n",
      "750:\tlearn: 0.5053129\ttest: 0.5111484\tbest: 0.5111484 (750)\ttotal: 15.9s\tremaining: 26.4s\n",
      "800:\tlearn: 0.5042337\ttest: 0.5103804\tbest: 0.5103804 (800)\ttotal: 16.9s\tremaining: 25.3s\n",
      "850:\tlearn: 0.5032213\ttest: 0.5096864\tbest: 0.5096864 (850)\ttotal: 18s\tremaining: 24.3s\n",
      "900:\tlearn: 0.5023063\ttest: 0.5090592\tbest: 0.5090592 (900)\ttotal: 19s\tremaining: 23.2s\n",
      "950:\tlearn: 0.5013498\ttest: 0.5084209\tbest: 0.5084209 (950)\ttotal: 20.1s\tremaining: 22.1s\n",
      "1000:\tlearn: 0.5003823\ttest: 0.5077761\tbest: 0.5077761 (1000)\ttotal: 21.1s\tremaining: 21.1s\n",
      "1050:\tlearn: 0.4993883\ttest: 0.5070614\tbest: 0.5070614 (1050)\ttotal: 22.2s\tremaining: 20s\n",
      "1100:\tlearn: 0.4984901\ttest: 0.5064993\tbest: 0.5064993 (1100)\ttotal: 23.2s\tremaining: 19s\n",
      "1150:\tlearn: 0.4976335\ttest: 0.5059173\tbest: 0.5059173 (1150)\ttotal: 24.3s\tremaining: 17.9s\n",
      "1200:\tlearn: 0.4967241\ttest: 0.5053382\tbest: 0.5053382 (1200)\ttotal: 25.4s\tremaining: 16.9s\n",
      "1250:\tlearn: 0.4958097\ttest: 0.5047025\tbest: 0.5047025 (1250)\ttotal: 26.4s\tremaining: 15.8s\n",
      "1300:\tlearn: 0.4949777\ttest: 0.5041537\tbest: 0.5041537 (1300)\ttotal: 27.5s\tremaining: 14.7s\n",
      "1350:\tlearn: 0.4941330\ttest: 0.5036012\tbest: 0.5036012 (1350)\ttotal: 28.5s\tremaining: 13.7s\n",
      "1400:\tlearn: 0.4933085\ttest: 0.5030502\tbest: 0.5030502 (1400)\ttotal: 29.6s\tremaining: 12.6s\n",
      "1450:\tlearn: 0.4925045\ttest: 0.5025545\tbest: 0.5025545 (1450)\ttotal: 30.6s\tremaining: 11.6s\n",
      "1500:\tlearn: 0.4917290\ttest: 0.5020541\tbest: 0.5020541 (1500)\ttotal: 31.7s\tremaining: 10.5s\n",
      "1550:\tlearn: 0.4909669\ttest: 0.5015710\tbest: 0.5015710 (1550)\ttotal: 32.7s\tremaining: 9.47s\n",
      "1600:\tlearn: 0.4902224\ttest: 0.5010926\tbest: 0.5010926 (1600)\ttotal: 33.8s\tremaining: 8.42s\n",
      "1650:\tlearn: 0.4894570\ttest: 0.5005638\tbest: 0.5005638 (1650)\ttotal: 34.8s\tremaining: 7.36s\n",
      "1700:\tlearn: 0.4887675\ttest: 0.5001554\tbest: 0.5001554 (1700)\ttotal: 35.9s\tremaining: 6.3s\n",
      "1750:\tlearn: 0.4880460\ttest: 0.4997101\tbest: 0.4997101 (1750)\ttotal: 36.9s\tremaining: 5.25s\n",
      "1800:\tlearn: 0.4873358\ttest: 0.4992686\tbest: 0.4992686 (1800)\ttotal: 38s\tremaining: 4.2s\n",
      "1850:\tlearn: 0.4866461\ttest: 0.4988507\tbest: 0.4988507 (1850)\ttotal: 39s\tremaining: 3.14s\n",
      "1900:\tlearn: 0.4859509\ttest: 0.4984462\tbest: 0.4984462 (1900)\ttotal: 40.1s\tremaining: 2.09s\n",
      "1950:\tlearn: 0.4852800\ttest: 0.4980163\tbest: 0.4980163 (1950)\ttotal: 41.2s\tremaining: 1.03s\n",
      "1999:\tlearn: 0.4846139\ttest: 0.4976109\tbest: 0.4976109 (1999)\ttotal: 42.2s\tremaining: 0us\n",
      "bestTest = 0.4976109216\n",
      "bestIteration = 1999\n"
     ]
    }
   ],
   "source": [
    "for state, (train_idx, val_idx) in enumerate(cv.split(data)):\n",
    "    X_train = data.drop(columns=[\"target\"]).iloc[train_idx].values\n",
    "    X_val = data.drop(columns=[\"target\"]).iloc[val_idx].values\n",
    "    y_train = data[\"target\"].iloc[train_idx].values\n",
    "    y_val = data[\"target\"].iloc[val_idx].values\n",
    "    print(f\"\\nTrain: {len(y_train)}, Val: {len(y_val)}\\n\")\n",
    "    catb_model = cat.CatBoostRegressor(**params_catb, random_state=state)\n",
    "    catb_model.fit(\n",
    "    X_train, y_train,\n",
    "    eval_set=[(X_val, y_val)])\n",
    "    joblib.dump(catb_model, f\"./kfold_trained2/catb_model_fold{state}.joblib\")"
   ]
  },
  {
   "cell_type": "code",
   "execution_count": 18,
   "id": "instructional-pearl",
   "metadata": {},
   "outputs": [],
   "source": [
    "pred_lgb = lgb_model.predict(X_val[:200])\n",
    "pred_catb = catb_model.predict(X_val[:200])"
   ]
  },
  {
   "cell_type": "code",
   "execution_count": 19,
   "id": "thirty-ebony",
   "metadata": {},
   "outputs": [
    {
     "name": "stdout",
     "output_type": "stream",
     "text": [
      "lgbm error: 4.852459555035922\n",
      "catboost error: 4.8074272450669975\n"
     ]
    }
   ],
   "source": [
    "print(\"lgbm error:\", np.linalg.norm(y_val[:200]-pred_lgb))\n",
    "print(\"catboost error:\", np.linalg.norm(y_val[:200]-pred_catb))"
   ]
  },
  {
   "cell_type": "code",
   "execution_count": 20,
   "id": "brief-praise",
   "metadata": {},
   "outputs": [],
   "source": [
    "import matplotlib.pyplot as plt"
   ]
  },
  {
   "cell_type": "code",
   "execution_count": 21,
   "id": "conscious-weight",
   "metadata": {},
   "outputs": [
    {
     "data": {
      "image/png": "[encoded data removed]",
      "text/plain": [
       "<Figure size 640x480 with 1 Axes>"
      ]
     },
     "metadata": {},
     "output_type": "display_data"
    }
   ],
   "source": [
    "plt.plot(y_val[:10])\n",
    "plt.plot(pred_lgb)\n",
    "plt.plot(pred_catb)\n",
    "plt.legend([\"true\", \"pred_lgbm\", \"pred_catb\"])\n",
    "plt.show()"
   ]
  },
  {
   "cell_type": "code",
   "execution_count": null,
   "id": "e8386ce0-c58e-4d3f-ad79-fc645de7490c",
   "metadata": {},
   "outputs": [],
   "source": []
  }
 ],
 "metadata": {
  "kernelspec": {
   "display_name": "ecmldeep",
   "language": "python",
   "name": "ecmldeep"
  },
  "language_info": {
   "codemirror_mode": {
    "name": "ipython",
    "version": 3
   },
   "file_extension": ".py",
   "mimetype": "text/x-python",
   "name": "python",
   "nbconvert_exporter": "python",
   "pygments_lexer": "ipython3",
   "version": "3.12.3"
  }
 },
 "nbformat": 4,
 "nbformat_minor": 5
}
