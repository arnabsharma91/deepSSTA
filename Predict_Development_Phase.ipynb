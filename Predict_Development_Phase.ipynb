{
 "cells": [
  {
   "cell_type": "code",
   "execution_count": 1,
   "id": "sticky-operation",
   "metadata": {},
   "outputs": [],
   "source": [
    "import pandas as pd"
   ]
  },
  {
   "cell_type": "code",
   "execution_count": 2,
   "id": "military-release",
   "metadata": {},
   "outputs": [],
   "source": [
    "import numpy as np\n",
    "import warnings\n",
    "warnings.filterwarnings('ignore')"
   ]
  },
  {
   "cell_type": "code",
   "execution_count": 3,
   "id": "timely-vehicle",
   "metadata": {},
   "outputs": [],
   "source": [
    "def read_test_data():\n",
    "    Dfs = []\n",
    "    train_df = []\n",
    "    coords = pd.read_csv(\"data_phase_one/coords.csv\", header=None)\n",
    "    for name in [\"mslp\", \"sst\", \"ssta\", \"t2m\"]:\n",
    "        df = pd.read_csv(f\"./data_phase_one/test_input_{name}_phase_one.csv\", header=None)\n",
    "        print(\"Shape df\", df.shape)\n",
    "        Dfs.append(df)\n",
    "        #Dfs.append(df.T.reset_index(drop=True))\n",
    "    j = 0\n",
    "    for i in range(0, df.shape[0], 12):\n",
    "        feat = pd.concat([coords, Dfs[0].iloc[i:i+12], Dfs[1].iloc[i:i+12], Dfs[2].iloc[i:i+12], Dfs[3].iloc[i:i+12]], axis=0).reset_index(drop=True)\n",
    "        feat = feat.T.reset_index(drop=True)\n",
    "        feat.columns = [f\"feat_{k}\" for k in range(feat.shape[1])]\n",
    "        if j < 3:\n",
    "            print(feat.columns)\n",
    "        train_df.append(feat)\n",
    "        j += 1\n",
    "    train_df = pd.concat(train_df, axis=0)\n",
    "    return train_df"
   ]
  },
  {
   "cell_type": "code",
   "execution_count": 4,
   "id": "faced-youth",
   "metadata": {},
   "outputs": [
    {
     "name": "stdout",
     "output_type": "stream",
     "text": [
      "Shape df (852, 5774)\n",
      "Shape df (852, 5774)\n",
      "Shape df (852, 5774)\n",
      "Shape df (852, 5774)\n",
      "Index(['feat_0', 'feat_1', 'feat_2', 'feat_3', 'feat_4', 'feat_5', 'feat_6',\n",
      "       'feat_7', 'feat_8', 'feat_9', 'feat_10', 'feat_11', 'feat_12',\n",
      "       'feat_13', 'feat_14', 'feat_15', 'feat_16', 'feat_17', 'feat_18',\n",
      "       'feat_19', 'feat_20', 'feat_21', 'feat_22', 'feat_23', 'feat_24',\n",
      "       'feat_25', 'feat_26', 'feat_27', 'feat_28', 'feat_29', 'feat_30',\n",
      "       'feat_31', 'feat_32', 'feat_33', 'feat_34', 'feat_35', 'feat_36',\n",
      "       'feat_37', 'feat_38', 'feat_39', 'feat_40', 'feat_41', 'feat_42',\n",
      "       'feat_43', 'feat_44', 'feat_45', 'feat_46', 'feat_47', 'feat_48',\n",
      "       'feat_49'],\n",
      "      dtype='object')\n",
      "Index(['feat_0', 'feat_1', 'feat_2', 'feat_3', 'feat_4', 'feat_5', 'feat_6',\n",
      "       'feat_7', 'feat_8', 'feat_9', 'feat_10', 'feat_11', 'feat_12',\n",
      "       'feat_13', 'feat_14', 'feat_15', 'feat_16', 'feat_17', 'feat_18',\n",
      "       'feat_19', 'feat_20', 'feat_21', 'feat_22', 'feat_23', 'feat_24',\n",
      "       'feat_25', 'feat_26', 'feat_27', 'feat_28', 'feat_29', 'feat_30',\n",
      "       'feat_31', 'feat_32', 'feat_33', 'feat_34', 'feat_35', 'feat_36',\n",
      "       'feat_37', 'feat_38', 'feat_39', 'feat_40', 'feat_41', 'feat_42',\n",
      "       'feat_43', 'feat_44', 'feat_45', 'feat_46', 'feat_47', 'feat_48',\n",
      "       'feat_49'],\n",
      "      dtype='object')\n",
      "Index(['feat_0', 'feat_1', 'feat_2', 'feat_3', 'feat_4', 'feat_5', 'feat_6',\n",
      "       'feat_7', 'feat_8', 'feat_9', 'feat_10', 'feat_11', 'feat_12',\n",
      "       'feat_13', 'feat_14', 'feat_15', 'feat_16', 'feat_17', 'feat_18',\n",
      "       'feat_19', 'feat_20', 'feat_21', 'feat_22', 'feat_23', 'feat_24',\n",
      "       'feat_25', 'feat_26', 'feat_27', 'feat_28', 'feat_29', 'feat_30',\n",
      "       'feat_31', 'feat_32', 'feat_33', 'feat_34', 'feat_35', 'feat_36',\n",
      "       'feat_37', 'feat_38', 'feat_39', 'feat_40', 'feat_41', 'feat_42',\n",
      "       'feat_43', 'feat_44', 'feat_45', 'feat_46', 'feat_47', 'feat_48',\n",
      "       'feat_49'],\n",
      "      dtype='object')\n"
     ]
    }
   ],
   "source": [
    "test_data = read_test_data()"
   ]
  },
  {
   "cell_type": "code",
   "execution_count": 5,
   "id": "superior-middle",
   "metadata": {},
   "outputs": [
    {
     "data": {
      "text/plain": [
       "feat_0       -64.000000\n",
       "feat_1      -180.000000\n",
       "feat_2     99176.120000\n",
       "feat_3     98542.055000\n",
       "feat_4     98359.820000\n",
       "feat_5     97829.700000\n",
       "feat_6     99006.510000\n",
       "feat_7     97562.234000\n",
       "feat_8     97707.880000\n",
       "feat_9     98543.330000\n",
       "feat_10    99169.880000\n",
       "feat_11    99348.850000\n",
       "feat_12    99290.570000\n",
       "feat_13    98475.400000\n",
       "feat_14      275.143520\n",
       "feat_15      274.579800\n",
       "feat_16      274.154660\n",
       "feat_17      273.443020\n",
       "feat_18      273.121250\n",
       "feat_19      273.019170\n",
       "feat_20      272.024100\n",
       "feat_21      271.832280\n",
       "feat_22      272.920750\n",
       "feat_23      274.846500\n",
       "feat_24      276.528440\n",
       "feat_25      276.241940\n",
       "feat_26        0.067444\n",
       "feat_27        0.104553\n",
       "feat_28        0.400635\n",
       "feat_29        0.594055\n",
       "feat_30        0.967865\n",
       "feat_31        1.129730\n",
       "feat_32        0.217712\n",
       "feat_33       -0.106354\n",
       "feat_34        0.565674\n",
       "feat_35        1.453430\n",
       "feat_36        1.628693\n",
       "feat_37        0.743347\n",
       "feat_38      275.346500\n",
       "feat_39      273.610320\n",
       "feat_40      270.154240\n",
       "feat_41      270.456880\n",
       "feat_42      271.073060\n",
       "feat_43      268.044680\n",
       "feat_44      265.949650\n",
       "feat_45      269.641330\n",
       "feat_46      272.153200\n",
       "feat_47      275.194270\n",
       "feat_48      276.114930\n",
       "feat_49      275.776030\n",
       "Name: 0, dtype: float64"
      ]
     },
     "execution_count": 5,
     "metadata": {},
     "output_type": "execute_result"
    }
   ],
   "source": [
    "test_data.iloc[0]"
   ]
  },
  {
   "cell_type": "code",
   "execution_count": 6,
   "id": "deadly-armstrong",
   "metadata": {},
   "outputs": [
    {
     "data": {
      "text/plain": [
       "(409954, 50)"
      ]
     },
     "execution_count": 6,
     "metadata": {},
     "output_type": "execute_result"
    }
   ],
   "source": [
    "test_data.shape"
   ]
  },
  {
   "cell_type": "code",
   "execution_count": 7,
   "id": "altered-federation",
   "metadata": {},
   "outputs": [],
   "source": [
    "monthly_stats = np.load(\"monthly_stats.npy\")"
   ]
  },
  {
   "cell_type": "code",
   "execution_count": 8,
   "id": "recent-thursday",
   "metadata": {},
   "outputs": [],
   "source": [
    "monthly_stats = np.tile(monthly_stats,(len(test_data)//5774,1))"
   ]
  },
  {
   "cell_type": "code",
   "execution_count": 9,
   "id": "polar-colors",
   "metadata": {},
   "outputs": [],
   "source": [
    "monthly_stats_df = pd.DataFrame(monthly_stats, columns=[f\"add_feat_{i}\" for i in range(24)])"
   ]
  },
  {
   "cell_type": "code",
   "execution_count": 10,
   "id": "presidential-windsor",
   "metadata": {},
   "outputs": [],
   "source": [
    "data_rich = pd.concat([test_data.reset_index(drop=True), monthly_stats_df], axis=1)"
   ]
  },
  {
   "cell_type": "code",
   "execution_count": 11,
   "id": "traditional-bible",
   "metadata": {},
   "outputs": [],
   "source": [
    "import joblib"
   ]
  },
  {
   "cell_type": "code",
   "execution_count": 12,
   "id": "steady-retail",
   "metadata": {},
   "outputs": [],
   "source": [
    "#lgb_model = joblib.load(\"./trained_models/lgb_model.joblib\")\n",
    "#catb_model = joblib.load(\"./trained_models/catb_model.joblib\")"
   ]
  },
  {
   "cell_type": "code",
   "execution_count": 13,
   "id": "reported-county",
   "metadata": {},
   "outputs": [],
   "source": [
    "#y_pred1 = lgb_model.predict(test_data.values)\n",
    "#y_pred2 = catb_model.predict(test_data.values)"
   ]
  },
  {
   "cell_type": "code",
   "execution_count": 14,
   "id": "binary-gravity",
   "metadata": {},
   "outputs": [],
   "source": [
    "#y_pred = 0.2*y_pred1 + 0.8*y_pred2 ==> -0.06\n",
    "#y_pred = 0.55*y_pred1 + 0.45*y_pred2 ==> -0.03\n",
    "#y_pred = 0.8*y_pred1 + 0.2*y_pred2 ==> -0.01\n",
    "#y_pred = 0.95*y_pred1 + 0.05*y_pred2 ==> -0.0012\n",
    "#y_pred = 0.99*y_pred1 - 0.01*y_pred2 ==> 0.0032"
   ]
  },
  {
   "cell_type": "code",
   "execution_count": 15,
   "id": "persistent-attack",
   "metadata": {},
   "outputs": [],
   "source": [
    "#y_pred = 0.99*y_pred1 - 0.01*y_pred2"
   ]
  },
  {
   "cell_type": "code",
   "execution_count": 16,
   "id": "unauthorized-cutting",
   "metadata": {},
   "outputs": [],
   "source": [
    "#pred_df = pd.DataFrame(y_pred.reshape(71, 5774))"
   ]
  },
  {
   "cell_type": "code",
   "execution_count": 17,
   "id": "favorite-director",
   "metadata": {},
   "outputs": [],
   "source": [
    "#pred_df"
   ]
  },
  {
   "cell_type": "code",
   "execution_count": 18,
   "id": "classified-impression",
   "metadata": {},
   "outputs": [],
   "source": [
    "#pred_df.to_csv(\"./predictions.csv\", index=False, header=False)"
   ]
  },
  {
   "cell_type": "code",
   "execution_count": null,
   "id": "disturbed-google",
   "metadata": {},
   "outputs": [],
   "source": []
  },
  {
   "cell_type": "markdown",
   "id": "innovative-modeling",
   "metadata": {},
   "source": [
    "## K-Fold Predictions"
   ]
  },
  {
   "cell_type": "code",
   "execution_count": 19,
   "id": "thousand-average",
   "metadata": {},
   "outputs": [],
   "source": [
    "import os\n",
    "from sklearn.base import BaseEstimator, RegressorMixin\n",
    "from sklearn.preprocessing import StandardScaler"
   ]
  },
  {
   "cell_type": "code",
   "execution_count": 20,
   "id": "discrete-trader",
   "metadata": {},
   "outputs": [],
   "source": [
    "class VotingModel(BaseEstimator, RegressorMixin):\n",
    "    def __init__(self, estimators, coeffs):\n",
    "        super().__init__()\n",
    "        self.estimators = estimators\n",
    "        self.coeffs = coeffs\n",
    "        \n",
    "    def fit(self, X, y=None):\n",
    "        return self\n",
    "    \n",
    "    def predict(self, X):\n",
    "        y_preds = [coeff*estimator.predict(X) for estimator, coeff in zip(self.estimators, self.coeffs)]\n",
    "        return np.sum(y_preds, axis=0)"
   ]
  },
  {
   "cell_type": "code",
   "execution_count": 21,
   "id": "piano-administration",
   "metadata": {},
   "outputs": [],
   "source": [
    "def load_boosting_models(path, num_folds=5):\n",
    "    Models = []\n",
    "    for fold in range(num_folds):\n",
    "        for model_name in [\"catb\", \"lgb\"]:\n",
    "            for trained_model_path in os.listdir(path):\n",
    "                if trained_model_path.startswith(\".\"): continue\n",
    "                if model_name in trained_model_path and f'fold{fold}' in trained_model_path:\n",
    "                    model = joblib.load(f'{path}/{trained_model_path}')\n",
    "                    Models.append(model)\n",
    "    return Models"
   ]
  },
  {
   "cell_type": "code",
   "execution_count": 22,
   "id": "found-position",
   "metadata": {},
   "outputs": [],
   "source": [
    "def load_xgb_models(path, num_folds=5):\n",
    "    Models = []\n",
    "    for fold in range(num_folds):\n",
    "        for model_name in [\"xgb\"]:\n",
    "            for trained_model_path in os.listdir(path):\n",
    "                if trained_model_path.startswith(\".\"): continue\n",
    "                if model_name in trained_model_path and f'fold{fold}' in trained_model_path:\n",
    "                    model = joblib.load(f'{path}/{trained_model_path}')\n",
    "                    Models.append(model)\n",
    "    return Models"
   ]
  },
  {
   "cell_type": "code",
   "execution_count": 23,
   "id": "sharp-desperate",
   "metadata": {},
   "outputs": [],
   "source": [
    "boosting_models = load_boosting_models(\"./kfold_trained2/\", 5)\n",
    "coeffs = [0.1, 0.1, 0.1, 0.1, 0.1, 0.1, 0.1, 0.1, 0.1, 0.1]\n",
    "boosting_models = VotingModel(boosting_models, coeffs)"
   ]
  },
  {
   "cell_type": "code",
   "execution_count": 24,
   "id": "naked-excellence",
   "metadata": {},
   "outputs": [],
   "source": [
    "add_feat_boosting_models = VotingModel(load_boosting_models(\"./trained3/\"), coeffs)"
   ]
  },
  {
   "cell_type": "code",
   "execution_count": 25,
   "id": "velvet-shame",
   "metadata": {},
   "outputs": [],
   "source": [
    "#scaler = joblib.load(\"./kfold_trained_preproc/Scaler.joblib\")"
   ]
  },
  {
   "cell_type": "code",
   "execution_count": 26,
   "id": "attempted-shield",
   "metadata": {},
   "outputs": [],
   "source": [
    "from pytorch_implementation.dataset import Dataset\n",
    "from pytorch_implementation.helper_funcs import *"
   ]
  },
  {
   "cell_type": "code",
   "execution_count": 27,
   "id": "duplicate-wisdom",
   "metadata": {},
   "outputs": [],
   "source": [
    "trained_nn_models = load_trained(\"./trained_nn2\")"
   ]
  },
  {
   "cell_type": "code",
   "execution_count": 28,
   "id": "close-excellence",
   "metadata": {},
   "outputs": [],
   "source": [
    "#len(trained_nn_models)"
   ]
  },
  {
   "cell_type": "code",
   "execution_count": 29,
   "id": "aging-naples",
   "metadata": {},
   "outputs": [],
   "source": [
    "#y_pred_xgb = xgb_models.predict(test_data.values)"
   ]
  },
  {
   "cell_type": "code",
   "execution_count": 30,
   "id": "annoying-broadway",
   "metadata": {},
   "outputs": [],
   "source": [
    "y_pred_boost = boosting_models.predict(test_data.values)\n",
    "y_pred_add_feat = add_feat_boosting_models.predict(data_rich.values)"
   ]
  },
  {
   "cell_type": "code",
   "execution_count": 31,
   "id": "solar-composer",
   "metadata": {},
   "outputs": [],
   "source": [
    "y_pred_gru = average_prediction(data_rich.values, trained_nn_models[0::2])\n",
    "y_pred_lstm = average_prediction(data_rich.values, trained_nn_models[1::2])"
   ]
  },
  {
   "cell_type": "code",
   "execution_count": 32,
   "id": "arabic-shepherd",
   "metadata": {},
   "outputs": [
    {
     "data": {
      "text/plain": [
       "array([0.41890305, 0.60527185, 0.47927709, ..., 0.1407996 , 0.12893621,\n",
       "       0.67350551])"
      ]
     },
     "execution_count": 32,
     "metadata": {},
     "output_type": "execute_result"
    }
   ],
   "source": [
    "y_pred_add_feat"
   ]
  },
  {
   "cell_type": "code",
   "execution_count": 33,
   "id": "average-plant",
   "metadata": {},
   "outputs": [
    {
     "data": {
      "text/plain": [
       "array([[0.27187973],\n",
       "       [0.38368812],\n",
       "       [0.3253692 ],\n",
       "       ...,\n",
       "       [0.2611992 ],\n",
       "       [0.23153245],\n",
       "       [0.09313384]], dtype=float32)"
      ]
     },
     "execution_count": 33,
     "metadata": {},
     "output_type": "execute_result"
    }
   ],
   "source": [
    "y_pred_lstm"
   ]
  },
  {
   "cell_type": "code",
   "execution_count": 34,
   "id": "artistic-symposium",
   "metadata": {},
   "outputs": [
    {
     "data": {
      "text/plain": [
       "array([[ 0.04392305],\n",
       "       [ 0.24128263],\n",
       "       [ 0.15285024],\n",
       "       ...,\n",
       "       [-0.15570024],\n",
       "       [-0.19454904],\n",
       "       [-0.38507926]], dtype=float32)"
      ]
     },
     "execution_count": 34,
     "metadata": {},
     "output_type": "execute_result"
    }
   ],
   "source": [
    "y_pred_gru"
   ]
  },
  {
   "cell_type": "code",
   "execution_count": 35,
   "id": "indie-internet",
   "metadata": {},
   "outputs": [
    {
     "data": {
      "text/plain": [
       "array([0.41524715, 0.60974182, 0.50326399, ..., 0.16638249, 0.1230431 ,\n",
       "       0.5932267 ])"
      ]
     },
     "execution_count": 35,
     "metadata": {},
     "output_type": "execute_result"
    }
   ],
   "source": [
    "y_pred_boost"
   ]
  },
  {
   "cell_type": "code",
   "execution_count": 36,
   "id": "contrary-ferry",
   "metadata": {},
   "outputs": [],
   "source": [
    "#y_pred = 0.15*y_pred_preproc + 0.85*(0.9*y_pred_boost + 0.03*y_pred_gru.squeeze() + 0.07*y_pred_lstm.squeeze())\n",
    "y_pred = 0.28*y_pred_add_feat + 0.92*(0.92*y_pred_boost + 0.01*y_pred_gru.squeeze() + 0.10*y_pred_lstm.squeeze())"
   ]
  },
  {
   "cell_type": "code",
   "execution_count": 37,
   "id": "listed-introduction",
   "metadata": {},
   "outputs": [],
   "source": [
    "pred_df = pd.DataFrame(y_pred.reshape(71, 5774))"
   ]
  },
  {
   "cell_type": "code",
   "execution_count": 38,
   "id": "equivalent-bristol",
   "metadata": {},
   "outputs": [
    {
     "data": {
      "text/html": [
       "<div>\n",
       "<style scoped>\n",
       "    .dataframe tbody tr th:only-of-type {\n",
       "        vertical-align: middle;\n",
       "    }\n",
       "\n",
       "    .dataframe tbody tr th {\n",
       "        vertical-align: top;\n",
       "    }\n",
       "\n",
       "    .dataframe thead th {\n",
       "        text-align: right;\n",
       "    }\n",
       "</style>\n",
       "<table border=\"1\" class=\"dataframe\">\n",
       "  <thead>\n",
       "    <tr style=\"text-align: right;\">\n",
       "      <th></th>\n",
       "      <th>0</th>\n",
       "      <th>1</th>\n",
       "      <th>2</th>\n",
       "      <th>3</th>\n",
       "      <th>4</th>\n",
       "      <th>5</th>\n",
       "      <th>6</th>\n",
       "      <th>7</th>\n",
       "      <th>8</th>\n",
       "      <th>9</th>\n",
       "      <th>...</th>\n",
       "      <th>5764</th>\n",
       "      <th>5765</th>\n",
       "      <th>5766</th>\n",
       "      <th>5767</th>\n",
       "      <th>5768</th>\n",
       "      <th>5769</th>\n",
       "      <th>5770</th>\n",
       "      <th>5771</th>\n",
       "      <th>5772</th>\n",
       "      <th>5773</th>\n",
       "    </tr>\n",
       "  </thead>\n",
       "  <tbody>\n",
       "    <tr>\n",
       "      <th>0</th>\n",
       "      <td>0.494175</td>\n",
       "      <td>0.723081</td>\n",
       "      <td>0.591500</td>\n",
       "      <td>0.324180</td>\n",
       "      <td>0.251516</td>\n",
       "      <td>0.245146</td>\n",
       "      <td>0.213620</td>\n",
       "      <td>0.249893</td>\n",
       "      <td>0.215699</td>\n",
       "      <td>0.210263</td>\n",
       "      <td>...</td>\n",
       "      <td>0.023452</td>\n",
       "      <td>-0.007247</td>\n",
       "      <td>0.183551</td>\n",
       "      <td>0.144613</td>\n",
       "      <td>0.062039</td>\n",
       "      <td>0.130447</td>\n",
       "      <td>0.335135</td>\n",
       "      <td>0.150713</td>\n",
       "      <td>0.634102</td>\n",
       "      <td>0.896411</td>\n",
       "    </tr>\n",
       "    <tr>\n",
       "      <th>1</th>\n",
       "      <td>-0.531229</td>\n",
       "      <td>-0.574495</td>\n",
       "      <td>-0.544778</td>\n",
       "      <td>-0.529042</td>\n",
       "      <td>-0.692847</td>\n",
       "      <td>-0.591252</td>\n",
       "      <td>-0.475624</td>\n",
       "      <td>-0.407696</td>\n",
       "      <td>-0.366214</td>\n",
       "      <td>-0.448256</td>\n",
       "      <td>...</td>\n",
       "      <td>-0.233259</td>\n",
       "      <td>-0.233780</td>\n",
       "      <td>0.085015</td>\n",
       "      <td>0.204298</td>\n",
       "      <td>0.300743</td>\n",
       "      <td>0.348281</td>\n",
       "      <td>0.404996</td>\n",
       "      <td>0.434149</td>\n",
       "      <td>0.575260</td>\n",
       "      <td>0.973594</td>\n",
       "    </tr>\n",
       "    <tr>\n",
       "      <th>2</th>\n",
       "      <td>-0.106790</td>\n",
       "      <td>-0.048000</td>\n",
       "      <td>-0.013175</td>\n",
       "      <td>-0.070861</td>\n",
       "      <td>-0.072452</td>\n",
       "      <td>-0.075449</td>\n",
       "      <td>-0.064034</td>\n",
       "      <td>-0.048561</td>\n",
       "      <td>-0.050297</td>\n",
       "      <td>-0.054792</td>\n",
       "      <td>...</td>\n",
       "      <td>0.057326</td>\n",
       "      <td>0.062514</td>\n",
       "      <td>0.291002</td>\n",
       "      <td>0.363521</td>\n",
       "      <td>0.411017</td>\n",
       "      <td>0.398797</td>\n",
       "      <td>0.504719</td>\n",
       "      <td>0.418365</td>\n",
       "      <td>0.517167</td>\n",
       "      <td>0.480613</td>\n",
       "    </tr>\n",
       "    <tr>\n",
       "      <th>3</th>\n",
       "      <td>-0.144159</td>\n",
       "      <td>-0.211016</td>\n",
       "      <td>-0.115584</td>\n",
       "      <td>-0.149748</td>\n",
       "      <td>-0.118057</td>\n",
       "      <td>-0.048591</td>\n",
       "      <td>-0.028547</td>\n",
       "      <td>-0.033440</td>\n",
       "      <td>-0.032104</td>\n",
       "      <td>-0.036120</td>\n",
       "      <td>...</td>\n",
       "      <td>-0.386764</td>\n",
       "      <td>-0.293309</td>\n",
       "      <td>-0.192224</td>\n",
       "      <td>-0.128034</td>\n",
       "      <td>-0.053979</td>\n",
       "      <td>0.034273</td>\n",
       "      <td>-0.080855</td>\n",
       "      <td>-0.119894</td>\n",
       "      <td>0.006737</td>\n",
       "      <td>-0.083188</td>\n",
       "    </tr>\n",
       "    <tr>\n",
       "      <th>4</th>\n",
       "      <td>-0.634331</td>\n",
       "      <td>-0.377632</td>\n",
       "      <td>-0.382042</td>\n",
       "      <td>-0.520526</td>\n",
       "      <td>-0.508842</td>\n",
       "      <td>-0.393981</td>\n",
       "      <td>-0.300933</td>\n",
       "      <td>-0.280661</td>\n",
       "      <td>-0.442917</td>\n",
       "      <td>-0.466612</td>\n",
       "      <td>...</td>\n",
       "      <td>-0.533426</td>\n",
       "      <td>-0.578418</td>\n",
       "      <td>-0.332568</td>\n",
       "      <td>-0.153849</td>\n",
       "      <td>-0.010263</td>\n",
       "      <td>0.067957</td>\n",
       "      <td>-0.023659</td>\n",
       "      <td>0.142540</td>\n",
       "      <td>0.397401</td>\n",
       "      <td>0.051792</td>\n",
       "    </tr>\n",
       "    <tr>\n",
       "      <th>...</th>\n",
       "      <td>...</td>\n",
       "      <td>...</td>\n",
       "      <td>...</td>\n",
       "      <td>...</td>\n",
       "      <td>...</td>\n",
       "      <td>...</td>\n",
       "      <td>...</td>\n",
       "      <td>...</td>\n",
       "      <td>...</td>\n",
       "      <td>...</td>\n",
       "      <td>...</td>\n",
       "      <td>...</td>\n",
       "      <td>...</td>\n",
       "      <td>...</td>\n",
       "      <td>...</td>\n",
       "      <td>...</td>\n",
       "      <td>...</td>\n",
       "      <td>...</td>\n",
       "      <td>...</td>\n",
       "      <td>...</td>\n",
       "      <td>...</td>\n",
       "    </tr>\n",
       "    <tr>\n",
       "      <th>66</th>\n",
       "      <td>0.660441</td>\n",
       "      <td>0.509131</td>\n",
       "      <td>0.442081</td>\n",
       "      <td>0.282734</td>\n",
       "      <td>0.119101</td>\n",
       "      <td>0.078653</td>\n",
       "      <td>0.100688</td>\n",
       "      <td>0.181850</td>\n",
       "      <td>0.145658</td>\n",
       "      <td>0.149389</td>\n",
       "      <td>...</td>\n",
       "      <td>-0.194821</td>\n",
       "      <td>-0.235358</td>\n",
       "      <td>0.115708</td>\n",
       "      <td>0.266027</td>\n",
       "      <td>0.320098</td>\n",
       "      <td>0.438959</td>\n",
       "      <td>0.465017</td>\n",
       "      <td>0.391297</td>\n",
       "      <td>0.639155</td>\n",
       "      <td>0.342230</td>\n",
       "    </tr>\n",
       "    <tr>\n",
       "      <th>67</th>\n",
       "      <td>0.196535</td>\n",
       "      <td>0.238813</td>\n",
       "      <td>0.266951</td>\n",
       "      <td>0.145800</td>\n",
       "      <td>0.109243</td>\n",
       "      <td>0.073954</td>\n",
       "      <td>0.089622</td>\n",
       "      <td>0.085892</td>\n",
       "      <td>0.083803</td>\n",
       "      <td>0.049855</td>\n",
       "      <td>...</td>\n",
       "      <td>-0.167736</td>\n",
       "      <td>-0.066393</td>\n",
       "      <td>0.192572</td>\n",
       "      <td>0.337548</td>\n",
       "      <td>0.382741</td>\n",
       "      <td>0.418326</td>\n",
       "      <td>0.545432</td>\n",
       "      <td>0.323371</td>\n",
       "      <td>0.521361</td>\n",
       "      <td>0.411078</td>\n",
       "    </tr>\n",
       "    <tr>\n",
       "      <th>68</th>\n",
       "      <td>-0.307988</td>\n",
       "      <td>-0.278596</td>\n",
       "      <td>-0.284869</td>\n",
       "      <td>-0.304371</td>\n",
       "      <td>-0.268092</td>\n",
       "      <td>-0.332365</td>\n",
       "      <td>-0.262018</td>\n",
       "      <td>-0.199252</td>\n",
       "      <td>-0.231574</td>\n",
       "      <td>-0.200769</td>\n",
       "      <td>...</td>\n",
       "      <td>0.527567</td>\n",
       "      <td>0.529489</td>\n",
       "      <td>0.666388</td>\n",
       "      <td>0.693600</td>\n",
       "      <td>0.582641</td>\n",
       "      <td>0.551058</td>\n",
       "      <td>0.858101</td>\n",
       "      <td>0.713681</td>\n",
       "      <td>0.813521</td>\n",
       "      <td>0.542848</td>\n",
       "    </tr>\n",
       "    <tr>\n",
       "      <th>69</th>\n",
       "      <td>0.058535</td>\n",
       "      <td>-0.014392</td>\n",
       "      <td>0.082270</td>\n",
       "      <td>0.065528</td>\n",
       "      <td>0.061914</td>\n",
       "      <td>0.050955</td>\n",
       "      <td>0.057311</td>\n",
       "      <td>0.054639</td>\n",
       "      <td>0.033105</td>\n",
       "      <td>-0.002359</td>\n",
       "      <td>...</td>\n",
       "      <td>-0.124584</td>\n",
       "      <td>-0.043687</td>\n",
       "      <td>0.387605</td>\n",
       "      <td>0.426481</td>\n",
       "      <td>0.443327</td>\n",
       "      <td>0.365750</td>\n",
       "      <td>0.419546</td>\n",
       "      <td>0.172853</td>\n",
       "      <td>0.304330</td>\n",
       "      <td>-0.081044</td>\n",
       "    </tr>\n",
       "    <tr>\n",
       "      <th>70</th>\n",
       "      <td>-0.090245</td>\n",
       "      <td>-0.183522</td>\n",
       "      <td>-0.147674</td>\n",
       "      <td>-0.117335</td>\n",
       "      <td>-0.070952</td>\n",
       "      <td>-0.022014</td>\n",
       "      <td>-0.012021</td>\n",
       "      <td>-0.000676</td>\n",
       "      <td>-0.020452</td>\n",
       "      <td>-0.035149</td>\n",
       "      <td>...</td>\n",
       "      <td>0.034972</td>\n",
       "      <td>0.036987</td>\n",
       "      <td>0.193626</td>\n",
       "      <td>0.282202</td>\n",
       "      <td>0.357219</td>\n",
       "      <td>0.383013</td>\n",
       "      <td>0.494534</td>\n",
       "      <td>0.202848</td>\n",
       "      <td>0.159757</td>\n",
       "      <td>0.695714</td>\n",
       "    </tr>\n",
       "  </tbody>\n",
       "</table>\n",
       "<p>71 rows × 5774 columns</p>\n",
       "</div>"
      ],
      "text/plain": [
       "        0         1         2         3         4         5         6     \\\n",
       "0   0.494175  0.723081  0.591500  0.324180  0.251516  0.245146  0.213620   \n",
       "1  -0.531229 -0.574495 -0.544778 -0.529042 -0.692847 -0.591252 -0.475624   \n",
       "2  -0.106790 -0.048000 -0.013175 -0.070861 -0.072452 -0.075449 -0.064034   \n",
       "3  -0.144159 -0.211016 -0.115584 -0.149748 -0.118057 -0.048591 -0.028547   \n",
       "4  -0.634331 -0.377632 -0.382042 -0.520526 -0.508842 -0.393981 -0.300933   \n",
       "..       ...       ...       ...       ...       ...       ...       ...   \n",
       "66  0.660441  0.509131  0.442081  0.282734  0.119101  0.078653  0.100688   \n",
       "67  0.196535  0.238813  0.266951  0.145800  0.109243  0.073954  0.089622   \n",
       "68 -0.307988 -0.278596 -0.284869 -0.304371 -0.268092 -0.332365 -0.262018   \n",
       "69  0.058535 -0.014392  0.082270  0.065528  0.061914  0.050955  0.057311   \n",
       "70 -0.090245 -0.183522 -0.147674 -0.117335 -0.070952 -0.022014 -0.012021   \n",
       "\n",
       "        7         8         9     ...      5764      5765      5766      5767  \\\n",
       "0   0.249893  0.215699  0.210263  ...  0.023452 -0.007247  0.183551  0.144613   \n",
       "1  -0.407696 -0.366214 -0.448256  ... -0.233259 -0.233780  0.085015  0.204298   \n",
       "2  -0.048561 -0.050297 -0.054792  ...  0.057326  0.062514  0.291002  0.363521   \n",
       "3  -0.033440 -0.032104 -0.036120  ... -0.386764 -0.293309 -0.192224 -0.128034   \n",
       "4  -0.280661 -0.442917 -0.466612  ... -0.533426 -0.578418 -0.332568 -0.153849   \n",
       "..       ...       ...       ...  ...       ...       ...       ...       ...   \n",
       "66  0.181850  0.145658  0.149389  ... -0.194821 -0.235358  0.115708  0.266027   \n",
       "67  0.085892  0.083803  0.049855  ... -0.167736 -0.066393  0.192572  0.337548   \n",
       "68 -0.199252 -0.231574 -0.200769  ...  0.527567  0.529489  0.666388  0.693600   \n",
       "69  0.054639  0.033105 -0.002359  ... -0.124584 -0.043687  0.387605  0.426481   \n",
       "70 -0.000676 -0.020452 -0.035149  ...  0.034972  0.036987  0.193626  0.282202   \n",
       "\n",
       "        5768      5769      5770      5771      5772      5773  \n",
       "0   0.062039  0.130447  0.335135  0.150713  0.634102  0.896411  \n",
       "1   0.300743  0.348281  0.404996  0.434149  0.575260  0.973594  \n",
       "2   0.411017  0.398797  0.504719  0.418365  0.517167  0.480613  \n",
       "3  -0.053979  0.034273 -0.080855 -0.119894  0.006737 -0.083188  \n",
       "4  -0.010263  0.067957 -0.023659  0.142540  0.397401  0.051792  \n",
       "..       ...       ...       ...       ...       ...       ...  \n",
       "66  0.320098  0.438959  0.465017  0.391297  0.639155  0.342230  \n",
       "67  0.382741  0.418326  0.545432  0.323371  0.521361  0.411078  \n",
       "68  0.582641  0.551058  0.858101  0.713681  0.813521  0.542848  \n",
       "69  0.443327  0.365750  0.419546  0.172853  0.304330 -0.081044  \n",
       "70  0.357219  0.383013  0.494534  0.202848  0.159757  0.695714  \n",
       "\n",
       "[71 rows x 5774 columns]"
      ]
     },
     "execution_count": 38,
     "metadata": {},
     "output_type": "execute_result"
    }
   ],
   "source": [
    "pred_df"
   ]
  },
  {
   "cell_type": "code",
   "execution_count": 39,
   "id": "valid-combine",
   "metadata": {},
   "outputs": [],
   "source": [
    "pred_df.to_csv(\"./predictions_phase_one.csv\", index=False, header=False)"
   ]
  },
  {
   "cell_type": "code",
   "execution_count": 40,
   "id": "premium-heating",
   "metadata": {},
   "outputs": [],
   "source": [
    "target = pd.read_csv(\"target/data_test_output/test_output_phase_two.csv\", header=None)"
   ]
  },
  {
   "cell_type": "code",
   "execution_count": 41,
   "id": "perceived-halifax",
   "metadata": {},
   "outputs": [
    {
     "data": {
      "text/html": [
       "<div>\n",
       "<style scoped>\n",
       "    .dataframe tbody tr th:only-of-type {\n",
       "        vertical-align: middle;\n",
       "    }\n",
       "\n",
       "    .dataframe tbody tr th {\n",
       "        vertical-align: top;\n",
       "    }\n",
       "\n",
       "    .dataframe thead th {\n",
       "        text-align: right;\n",
       "    }\n",
       "</style>\n",
       "<table border=\"1\" class=\"dataframe\">\n",
       "  <thead>\n",
       "    <tr style=\"text-align: right;\">\n",
       "      <th></th>\n",
       "      <th>0</th>\n",
       "      <th>1</th>\n",
       "      <th>2</th>\n",
       "      <th>3</th>\n",
       "      <th>4</th>\n",
       "      <th>5</th>\n",
       "      <th>6</th>\n",
       "      <th>7</th>\n",
       "      <th>8</th>\n",
       "      <th>9</th>\n",
       "      <th>...</th>\n",
       "      <th>5764</th>\n",
       "      <th>5765</th>\n",
       "      <th>5766</th>\n",
       "      <th>5767</th>\n",
       "      <th>5768</th>\n",
       "      <th>5769</th>\n",
       "      <th>5770</th>\n",
       "      <th>5771</th>\n",
       "      <th>5772</th>\n",
       "      <th>5773</th>\n",
       "    </tr>\n",
       "  </thead>\n",
       "  <tbody>\n",
       "    <tr>\n",
       "      <th>0</th>\n",
       "      <td>0.411591</td>\n",
       "      <td>0.157654</td>\n",
       "      <td>0.089264</td>\n",
       "      <td>-0.073944</td>\n",
       "      <td>-0.019226</td>\n",
       "      <td>-0.031738</td>\n",
       "      <td>-0.004822</td>\n",
       "      <td>0.038910</td>\n",
       "      <td>-0.019714</td>\n",
       "      <td>-0.101685</td>\n",
       "      <td>...</td>\n",
       "      <td>0.392609</td>\n",
       "      <td>0.168915</td>\n",
       "      <td>0.570709</td>\n",
       "      <td>0.597748</td>\n",
       "      <td>0.655182</td>\n",
       "      <td>0.762756</td>\n",
       "      <td>0.701508</td>\n",
       "      <td>0.310120</td>\n",
       "      <td>0.853088</td>\n",
       "      <td>0.745392</td>\n",
       "    </tr>\n",
       "    <tr>\n",
       "      <th>1</th>\n",
       "      <td>0.601501</td>\n",
       "      <td>0.649902</td>\n",
       "      <td>0.670837</td>\n",
       "      <td>0.767914</td>\n",
       "      <td>0.668884</td>\n",
       "      <td>0.300964</td>\n",
       "      <td>0.097168</td>\n",
       "      <td>0.245819</td>\n",
       "      <td>0.298950</td>\n",
       "      <td>0.226532</td>\n",
       "      <td>...</td>\n",
       "      <td>0.468079</td>\n",
       "      <td>0.520935</td>\n",
       "      <td>0.657745</td>\n",
       "      <td>0.342499</td>\n",
       "      <td>0.155609</td>\n",
       "      <td>0.258484</td>\n",
       "      <td>0.816315</td>\n",
       "      <td>0.801208</td>\n",
       "      <td>1.828857</td>\n",
       "      <td>4.267487</td>\n",
       "    </tr>\n",
       "    <tr>\n",
       "      <th>2</th>\n",
       "      <td>-0.649170</td>\n",
       "      <td>-0.531006</td>\n",
       "      <td>-0.351196</td>\n",
       "      <td>-0.485901</td>\n",
       "      <td>-0.470581</td>\n",
       "      <td>-0.647430</td>\n",
       "      <td>-0.420715</td>\n",
       "      <td>-0.299103</td>\n",
       "      <td>-0.310059</td>\n",
       "      <td>-0.350311</td>\n",
       "      <td>...</td>\n",
       "      <td>0.291565</td>\n",
       "      <td>0.244598</td>\n",
       "      <td>0.477020</td>\n",
       "      <td>0.241272</td>\n",
       "      <td>0.143097</td>\n",
       "      <td>0.267090</td>\n",
       "      <td>-0.059967</td>\n",
       "      <td>0.206848</td>\n",
       "      <td>0.110291</td>\n",
       "      <td>0.404633</td>\n",
       "    </tr>\n",
       "    <tr>\n",
       "      <th>3</th>\n",
       "      <td>-0.291077</td>\n",
       "      <td>-0.292206</td>\n",
       "      <td>-0.247131</td>\n",
       "      <td>-0.161468</td>\n",
       "      <td>-0.111694</td>\n",
       "      <td>-0.043610</td>\n",
       "      <td>-0.023865</td>\n",
       "      <td>-0.013428</td>\n",
       "      <td>-0.009125</td>\n",
       "      <td>-0.009796</td>\n",
       "      <td>...</td>\n",
       "      <td>-0.348907</td>\n",
       "      <td>-0.287323</td>\n",
       "      <td>-0.204254</td>\n",
       "      <td>0.090363</td>\n",
       "      <td>0.299225</td>\n",
       "      <td>0.359802</td>\n",
       "      <td>0.341278</td>\n",
       "      <td>0.167450</td>\n",
       "      <td>0.164032</td>\n",
       "      <td>0.494781</td>\n",
       "    </tr>\n",
       "    <tr>\n",
       "      <th>4</th>\n",
       "      <td>-0.600769</td>\n",
       "      <td>-0.592987</td>\n",
       "      <td>-0.509125</td>\n",
       "      <td>-0.447723</td>\n",
       "      <td>-0.391144</td>\n",
       "      <td>-0.290405</td>\n",
       "      <td>-0.225128</td>\n",
       "      <td>-0.199341</td>\n",
       "      <td>-0.189880</td>\n",
       "      <td>-0.166657</td>\n",
       "      <td>...</td>\n",
       "      <td>0.117249</td>\n",
       "      <td>0.126831</td>\n",
       "      <td>0.372681</td>\n",
       "      <td>0.431305</td>\n",
       "      <td>0.371765</td>\n",
       "      <td>0.497284</td>\n",
       "      <td>0.329620</td>\n",
       "      <td>0.054565</td>\n",
       "      <td>0.705811</td>\n",
       "      <td>1.399475</td>\n",
       "    </tr>\n",
       "    <tr>\n",
       "      <th>...</th>\n",
       "      <td>...</td>\n",
       "      <td>...</td>\n",
       "      <td>...</td>\n",
       "      <td>...</td>\n",
       "      <td>...</td>\n",
       "      <td>...</td>\n",
       "      <td>...</td>\n",
       "      <td>...</td>\n",
       "      <td>...</td>\n",
       "      <td>...</td>\n",
       "      <td>...</td>\n",
       "      <td>...</td>\n",
       "      <td>...</td>\n",
       "      <td>...</td>\n",
       "      <td>...</td>\n",
       "      <td>...</td>\n",
       "      <td>...</td>\n",
       "      <td>...</td>\n",
       "      <td>...</td>\n",
       "      <td>...</td>\n",
       "      <td>...</td>\n",
       "    </tr>\n",
       "    <tr>\n",
       "      <th>66</th>\n",
       "      <td>1.568756</td>\n",
       "      <td>1.389984</td>\n",
       "      <td>1.385651</td>\n",
       "      <td>1.256775</td>\n",
       "      <td>0.890259</td>\n",
       "      <td>0.372406</td>\n",
       "      <td>0.238464</td>\n",
       "      <td>0.220154</td>\n",
       "      <td>0.179291</td>\n",
       "      <td>0.134735</td>\n",
       "      <td>...</td>\n",
       "      <td>0.946747</td>\n",
       "      <td>0.784760</td>\n",
       "      <td>1.124817</td>\n",
       "      <td>0.758698</td>\n",
       "      <td>0.431213</td>\n",
       "      <td>0.460663</td>\n",
       "      <td>0.553925</td>\n",
       "      <td>0.225708</td>\n",
       "      <td>0.658020</td>\n",
       "      <td>1.142975</td>\n",
       "    </tr>\n",
       "    <tr>\n",
       "      <th>67</th>\n",
       "      <td>0.315643</td>\n",
       "      <td>0.499237</td>\n",
       "      <td>0.449036</td>\n",
       "      <td>0.386292</td>\n",
       "      <td>0.061859</td>\n",
       "      <td>-0.048584</td>\n",
       "      <td>-0.049133</td>\n",
       "      <td>-0.033112</td>\n",
       "      <td>-0.038879</td>\n",
       "      <td>-0.045929</td>\n",
       "      <td>...</td>\n",
       "      <td>0.130096</td>\n",
       "      <td>0.203522</td>\n",
       "      <td>0.436340</td>\n",
       "      <td>0.290924</td>\n",
       "      <td>0.131989</td>\n",
       "      <td>0.148163</td>\n",
       "      <td>0.529144</td>\n",
       "      <td>0.681244</td>\n",
       "      <td>1.655701</td>\n",
       "      <td>0.043060</td>\n",
       "    </tr>\n",
       "    <tr>\n",
       "      <th>68</th>\n",
       "      <td>-0.075043</td>\n",
       "      <td>-0.070312</td>\n",
       "      <td>0.004333</td>\n",
       "      <td>-0.146179</td>\n",
       "      <td>-0.123199</td>\n",
       "      <td>-0.009979</td>\n",
       "      <td>0.082214</td>\n",
       "      <td>0.116974</td>\n",
       "      <td>0.155670</td>\n",
       "      <td>0.150085</td>\n",
       "      <td>...</td>\n",
       "      <td>-0.118500</td>\n",
       "      <td>-0.175781</td>\n",
       "      <td>0.156921</td>\n",
       "      <td>0.239288</td>\n",
       "      <td>0.349304</td>\n",
       "      <td>0.569427</td>\n",
       "      <td>0.436615</td>\n",
       "      <td>0.436829</td>\n",
       "      <td>1.062714</td>\n",
       "      <td>1.606049</td>\n",
       "    </tr>\n",
       "    <tr>\n",
       "      <th>69</th>\n",
       "      <td>-0.852142</td>\n",
       "      <td>-0.236755</td>\n",
       "      <td>-0.247253</td>\n",
       "      <td>-0.549377</td>\n",
       "      <td>-0.512482</td>\n",
       "      <td>-0.415283</td>\n",
       "      <td>-0.237915</td>\n",
       "      <td>-0.366211</td>\n",
       "      <td>-0.457642</td>\n",
       "      <td>-0.516754</td>\n",
       "      <td>...</td>\n",
       "      <td>0.276337</td>\n",
       "      <td>0.236908</td>\n",
       "      <td>0.445374</td>\n",
       "      <td>0.317566</td>\n",
       "      <td>0.347809</td>\n",
       "      <td>0.445404</td>\n",
       "      <td>0.105347</td>\n",
       "      <td>0.323700</td>\n",
       "      <td>-0.266022</td>\n",
       "      <td>-0.018524</td>\n",
       "    </tr>\n",
       "    <tr>\n",
       "      <th>70</th>\n",
       "      <td>0.407867</td>\n",
       "      <td>0.244568</td>\n",
       "      <td>0.286652</td>\n",
       "      <td>0.186829</td>\n",
       "      <td>0.225037</td>\n",
       "      <td>0.261627</td>\n",
       "      <td>0.161743</td>\n",
       "      <td>0.114349</td>\n",
       "      <td>0.097595</td>\n",
       "      <td>0.059845</td>\n",
       "      <td>...</td>\n",
       "      <td>0.934387</td>\n",
       "      <td>0.800842</td>\n",
       "      <td>0.977539</td>\n",
       "      <td>1.005615</td>\n",
       "      <td>0.912018</td>\n",
       "      <td>0.942078</td>\n",
       "      <td>1.108368</td>\n",
       "      <td>0.884125</td>\n",
       "      <td>1.377075</td>\n",
       "      <td>0.998779</td>\n",
       "    </tr>\n",
       "  </tbody>\n",
       "</table>\n",
       "<p>71 rows × 5774 columns</p>\n",
       "</div>"
      ],
      "text/plain": [
       "        0         1         2         3         4         5         6     \\\n",
       "0   0.411591  0.157654  0.089264 -0.073944 -0.019226 -0.031738 -0.004822   \n",
       "1   0.601501  0.649902  0.670837  0.767914  0.668884  0.300964  0.097168   \n",
       "2  -0.649170 -0.531006 -0.351196 -0.485901 -0.470581 -0.647430 -0.420715   \n",
       "3  -0.291077 -0.292206 -0.247131 -0.161468 -0.111694 -0.043610 -0.023865   \n",
       "4  -0.600769 -0.592987 -0.509125 -0.447723 -0.391144 -0.290405 -0.225128   \n",
       "..       ...       ...       ...       ...       ...       ...       ...   \n",
       "66  1.568756  1.389984  1.385651  1.256775  0.890259  0.372406  0.238464   \n",
       "67  0.315643  0.499237  0.449036  0.386292  0.061859 -0.048584 -0.049133   \n",
       "68 -0.075043 -0.070312  0.004333 -0.146179 -0.123199 -0.009979  0.082214   \n",
       "69 -0.852142 -0.236755 -0.247253 -0.549377 -0.512482 -0.415283 -0.237915   \n",
       "70  0.407867  0.244568  0.286652  0.186829  0.225037  0.261627  0.161743   \n",
       "\n",
       "        7         8         9     ...      5764      5765      5766      5767  \\\n",
       "0   0.038910 -0.019714 -0.101685  ...  0.392609  0.168915  0.570709  0.597748   \n",
       "1   0.245819  0.298950  0.226532  ...  0.468079  0.520935  0.657745  0.342499   \n",
       "2  -0.299103 -0.310059 -0.350311  ...  0.291565  0.244598  0.477020  0.241272   \n",
       "3  -0.013428 -0.009125 -0.009796  ... -0.348907 -0.287323 -0.204254  0.090363   \n",
       "4  -0.199341 -0.189880 -0.166657  ...  0.117249  0.126831  0.372681  0.431305   \n",
       "..       ...       ...       ...  ...       ...       ...       ...       ...   \n",
       "66  0.220154  0.179291  0.134735  ...  0.946747  0.784760  1.124817  0.758698   \n",
       "67 -0.033112 -0.038879 -0.045929  ...  0.130096  0.203522  0.436340  0.290924   \n",
       "68  0.116974  0.155670  0.150085  ... -0.118500 -0.175781  0.156921  0.239288   \n",
       "69 -0.366211 -0.457642 -0.516754  ...  0.276337  0.236908  0.445374  0.317566   \n",
       "70  0.114349  0.097595  0.059845  ...  0.934387  0.800842  0.977539  1.005615   \n",
       "\n",
       "        5768      5769      5770      5771      5772      5773  \n",
       "0   0.655182  0.762756  0.701508  0.310120  0.853088  0.745392  \n",
       "1   0.155609  0.258484  0.816315  0.801208  1.828857  4.267487  \n",
       "2   0.143097  0.267090 -0.059967  0.206848  0.110291  0.404633  \n",
       "3   0.299225  0.359802  0.341278  0.167450  0.164032  0.494781  \n",
       "4   0.371765  0.497284  0.329620  0.054565  0.705811  1.399475  \n",
       "..       ...       ...       ...       ...       ...       ...  \n",
       "66  0.431213  0.460663  0.553925  0.225708  0.658020  1.142975  \n",
       "67  0.131989  0.148163  0.529144  0.681244  1.655701  0.043060  \n",
       "68  0.349304  0.569427  0.436615  0.436829  1.062714  1.606049  \n",
       "69  0.347809  0.445404  0.105347  0.323700 -0.266022 -0.018524  \n",
       "70  0.912018  0.942078  1.108368  0.884125  1.377075  0.998779  \n",
       "\n",
       "[71 rows x 5774 columns]"
      ]
     },
     "execution_count": 41,
     "metadata": {},
     "output_type": "execute_result"
    }
   ],
   "source": [
    "target"
   ]
  },
  {
   "cell_type": "code",
   "execution_count": 42,
   "id": "attractive-intermediate",
   "metadata": {},
   "outputs": [],
   "source": [
    "import matplotlib.pyplot as plt"
   ]
  },
  {
   "cell_type": "code",
   "execution_count": 43,
   "id": "useful-baker",
   "metadata": {},
   "outputs": [],
   "source": [
    "cols = [0, 1003, 273]"
   ]
  },
  {
   "cell_type": "code",
   "execution_count": 44,
   "id": "surgical-german",
   "metadata": {},
   "outputs": [
    {
     "data": {
      "image/png": "[encoded data removed]",
      "text/plain": [
       "<Figure size 640x480 with 1 Axes>"
      ]
     },
     "metadata": {},
     "output_type": "display_data"
    }
   ],
   "source": [
    "plt.plot(target[cols[0]])\n",
    "plt.plot(pred_df[cols[0]])\n",
    "\n",
    "plt.legend([f\"target_{cols[0]}\", f\"pred_{cols[0]}\"])\n",
    "plt.show()"
   ]
  },
  {
   "cell_type": "code",
   "execution_count": 45,
   "id": "happy-status",
   "metadata": {},
   "outputs": [
    {
     "data": {
      "image/png": "[encoded data removed]",
      "text/plain": [
       "<Figure size 640x480 with 1 Axes>"
      ]
     },
     "metadata": {},
     "output_type": "display_data"
    }
   ],
   "source": [
    "plt.plot(target[cols[1]])\n",
    "plt.plot(pred_df[cols[1]])\n",
    "\n",
    "plt.legend([f\"target_{cols[1]}\", f\"pred_{cols[1]}\"])\n",
    "plt.show()"
   ]
  },
  {
   "cell_type": "code",
   "execution_count": 46,
   "id": "eight-nirvana",
   "metadata": {},
   "outputs": [
    {
     "data": {
      "image/png": "[encoded data removed]",
      "text/plain": [
       "<Figure size 640x480 with 1 Axes>"
      ]
     },
     "metadata": {},
     "output_type": "display_data"
    }
   ],
   "source": [
    "plt.plot(target[cols[2]])\n",
    "plt.plot(pred_df[cols[2]])\n",
    "\n",
    "plt.legend([f\"target_{cols[2]}\", f\"pred_{cols[2]}\"])\n",
    "plt.show()"
   ]
  },
  {
   "cell_type": "code",
   "execution_count": 47,
   "id": "collective-cooking",
   "metadata": {},
   "outputs": [],
   "source": [
    "from starting_kit_phase_one.evaluation import evaluate"
   ]
  },
  {
   "cell_type": "code",
   "execution_count": 48,
   "id": "blank-grass",
   "metadata": {},
   "outputs": [
    {
     "name": "stdout",
     "output_type": "stream",
     "text": [
      "Phase One...\n",
      "Average RMSE (Baseline): 0.649344200427837\n",
      "Average RMSE (Model): 0.5502102328489467\n",
      "Final Result (Baseline RMSE - Model RMSE): 0.09913396757889037\n",
      "\n",
      "\n",
      "\n",
      "Phase Two\n",
      "Average RMSE (Baseline): 0.6561923737328125\n",
      "Average RMSE (Model): 0.5689849078876463\n",
      "Final Result (Baseline RMSE - Model RMSE): 0.08720746584516614\n"
     ]
    },
    {
     "data": {
      "text/plain": [
       "0.08720746584516614"
      ]
     },
     "execution_count": 48,
     "metadata": {},
     "output_type": "execute_result"
    }
   ],
   "source": [
    "print(\"Phase One...\")\n",
    "test_y_file = './target/data_test_output/test_output_phase_one.csv'\n",
    "baseline_file = './starting_kit_phase_one/out/test_output_pred_persist_phase_one.csv'\n",
    "prediction_file = './predictions_phase_one.csv'\n",
    "evaluate(test_y_file, baseline_file, prediction_file)\n",
    "print(\"\\n\\n\")\n",
    "print(\"Phase Two\")\n",
    "test_y_file = './target/data_test_output/test_output_phase_two.csv'\n",
    "baseline_file = './test_output_pred_persist_phase_two.csv'\n",
    "prediction_file = './predictions_phase_two.csv'\n",
    "evaluate(test_y_file, baseline_file, prediction_file)"
   ]
  },
  {
   "cell_type": "code",
   "execution_count": 49,
   "id": "hollywood-illness",
   "metadata": {},
   "outputs": [],
   "source": [
    "# KFold\n",
    "\n",
    "# catb 500 estimators, lgbm 1000 estimators\n",
    "# [0.05, 0.15, 0.05, 0.15, 0.05, 0.15, 0.05, 0.15, 0.05, 0.15] ==> 0.093\n",
    "\n",
    "# catb and lgb 1000 estimators\n",
    "# [0.1, 0.1, 0.1, 0.1, 0.1, 0.1, 0.1, 0.1, 0.1, 0.1] ==> 0.094\n",
    "\n",
    "# catb and lgb 1000 estimators\n",
    "# ([0.08, 0.12, 0.08, 0.12, 0.1, 0.1, 0.1, 0.1, 0.06, 0.14])*0.91 + 0.01*gru + 0.09*lstm ==> 0.0951\n",
    "# y_pred = 0.25*y_pred_add_feat + 0.90*(0.91*y_pred_boost + 0.02*y_pred_gru.squeeze() + 0.10*y_pred_lstm.squeeze()) ==> 0.0985\n",
    "# y_pred = 0.28*y_pred_add_feat + 0.95*(0.92*y_pred_boost + 0.01*y_pred_gru.squeeze() + 0.09*y_pred_lstm.squeeze()) ==> 0.09862\n",
    "# linear comb catb lgb and newly trained gru + lstm: y_pred = 0.28*y_pred_add_feat + 0.95*(0.92*y_pred_boost + 0.01*y_pred_gru.squeeze() + 0.09*y_pred_lstm.squeeze()) ==> 0.0989\n",
    "# linear catb and lgb + newly trained lstm and gru: y_pred = 0.28*y_pred_add_feat + 0.94*(0.92*y_pred_boost + 0.01*y_pred_gru.squeeze() + 0.10*y_pred_lstm.squeeze()) ==> 0.0991\n",
    "# even better: y_pred = 0.28*y_pred_add_feat + 0.92*(0.92*y_pred_boost + 0.01*y_pred_gru.squeeze() + 0.10*y_pred_lstm.squeeze()) ==> 0.09913\n",
    "# y_pred = 0.91*y_pred_boost + 0.01*y_pred_gru.squeeze() + 0.09*y_pred_lstm.squeeze()"
   ]
  },
  {
   "cell_type": "code",
   "execution_count": null,
   "id": "dietary-transsexual",
   "metadata": {},
   "outputs": [],
   "source": []
  }
 ],
 "metadata": {
  "kernelspec": {
   "display_name": "ecmldeep",
   "language": "python",
   "name": "ecmldeep"
  },
  "language_info": {
   "codemirror_mode": {
    "name": "ipython",
    "version": 3
   },
   "file_extension": ".py",
   "mimetype": "text/x-python",
   "name": "python",
   "nbconvert_exporter": "python",
   "pygments_lexer": "ipython3",
   "version": "3.10.14"
  }
 },
 "nbformat": 4,
 "nbformat_minor": 5
}
