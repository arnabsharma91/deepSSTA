{
 "cells": [
  {
   "cell_type": "code",
   "execution_count": 1,
   "id": "devoted-smell",
   "metadata": {},
   "outputs": [],
   "source": [
    "import pandas as pd"
   ]
  },
  {
   "cell_type": "code",
   "execution_count": 2,
   "id": "smart-jerusalem",
   "metadata": {},
   "outputs": [],
   "source": [
    "import numpy as np\n",
    "import warnings\n",
    "warnings.filterwarnings('ignore')"
   ]
  },
  {
   "cell_type": "code",
   "execution_count": 3,
   "id": "liquid-boxing",
   "metadata": {},
   "outputs": [],
   "source": [
    "coords = pd.read_csv(\"./coords.csv\", header=None)#.values\n",
    "baltic_coords = np.array([[56.0000, 19.6875],\n",
    "                             [58.0000, 19.6875],\n",
    "                             [62.0000, 19.6875]]).T"
   ]
  },
  {
   "cell_type": "code",
   "execution_count": 4,
   "id": "accepting-arlington",
   "metadata": {},
   "outputs": [
    {
     "data": {
      "text/html": [
       "<div>\n",
       "<style scoped>\n",
       "    .dataframe tbody tr th:only-of-type {\n",
       "        vertical-align: middle;\n",
       "    }\n",
       "\n",
       "    .dataframe tbody tr th {\n",
       "        vertical-align: top;\n",
       "    }\n",
       "\n",
       "    .dataframe thead th {\n",
       "        text-align: right;\n",
       "    }\n",
       "</style>\n",
       "<table border=\"1\" class=\"dataframe\">\n",
       "  <thead>\n",
       "    <tr style=\"text-align: right;\">\n",
       "      <th></th>\n",
       "      <th>0</th>\n",
       "      <th>1</th>\n",
       "      <th>2</th>\n",
       "      <th>3</th>\n",
       "      <th>4</th>\n",
       "      <th>5</th>\n",
       "      <th>6</th>\n",
       "      <th>7</th>\n",
       "      <th>8</th>\n",
       "      <th>9</th>\n",
       "      <th>...</th>\n",
       "      <th>5764</th>\n",
       "      <th>5765</th>\n",
       "      <th>5766</th>\n",
       "      <th>5767</th>\n",
       "      <th>5768</th>\n",
       "      <th>5769</th>\n",
       "      <th>5770</th>\n",
       "      <th>5771</th>\n",
       "      <th>5772</th>\n",
       "      <th>5773</th>\n",
       "    </tr>\n",
       "  </thead>\n",
       "  <tbody>\n",
       "    <tr>\n",
       "      <th>0</th>\n",
       "      <td>-64.0</td>\n",
       "      <td>-64.0000</td>\n",
       "      <td>-64.000</td>\n",
       "      <td>-64.0000</td>\n",
       "      <td>-64.00</td>\n",
       "      <td>-64.0000</td>\n",
       "      <td>-64.000</td>\n",
       "      <td>-64.0000</td>\n",
       "      <td>-64.0</td>\n",
       "      <td>-64.0000</td>\n",
       "      <td>...</td>\n",
       "      <td>62.0000</td>\n",
       "      <td>62.000</td>\n",
       "      <td>62.0000</td>\n",
       "      <td>62.00</td>\n",
       "      <td>62.0000</td>\n",
       "      <td>62.000</td>\n",
       "      <td>62.0000</td>\n",
       "      <td>62.0</td>\n",
       "      <td>62.0000</td>\n",
       "      <td>62.0000</td>\n",
       "    </tr>\n",
       "    <tr>\n",
       "      <th>1</th>\n",
       "      <td>-180.0</td>\n",
       "      <td>-177.1875</td>\n",
       "      <td>-174.375</td>\n",
       "      <td>-171.5625</td>\n",
       "      <td>-168.75</td>\n",
       "      <td>-165.9375</td>\n",
       "      <td>-163.125</td>\n",
       "      <td>-160.3125</td>\n",
       "      <td>-157.5</td>\n",
       "      <td>-154.6875</td>\n",
       "      <td>...</td>\n",
       "      <td>-19.6875</td>\n",
       "      <td>-16.875</td>\n",
       "      <td>-14.0625</td>\n",
       "      <td>-11.25</td>\n",
       "      <td>-8.4375</td>\n",
       "      <td>-5.625</td>\n",
       "      <td>-2.8125</td>\n",
       "      <td>0.0</td>\n",
       "      <td>2.8125</td>\n",
       "      <td>19.6875</td>\n",
       "    </tr>\n",
       "  </tbody>\n",
       "</table>\n",
       "<p>2 rows × 5774 columns</p>\n",
       "</div>"
      ],
      "text/plain": [
       "    0         1        2         3       4         5        6         7     \\\n",
       "0  -64.0  -64.0000  -64.000  -64.0000  -64.00  -64.0000  -64.000  -64.0000   \n",
       "1 -180.0 -177.1875 -174.375 -171.5625 -168.75 -165.9375 -163.125 -160.3125   \n",
       "\n",
       "    8         9     ...     5764    5765     5766   5767     5768    5769  \\\n",
       "0  -64.0  -64.0000  ...  62.0000  62.000  62.0000  62.00  62.0000  62.000   \n",
       "1 -157.5 -154.6875  ... -19.6875 -16.875 -14.0625 -11.25  -8.4375  -5.625   \n",
       "\n",
       "      5770  5771     5772     5773  \n",
       "0  62.0000  62.0  62.0000  62.0000  \n",
       "1  -2.8125   0.0   2.8125  19.6875  \n",
       "\n",
       "[2 rows x 5774 columns]"
      ]
     },
     "execution_count": 4,
     "metadata": {},
     "output_type": "execute_result"
    }
   ],
   "source": [
    "coords"
   ]
  },
  {
   "cell_type": "code",
   "execution_count": 5,
   "id": "renewable-gauge",
   "metadata": {},
   "outputs": [],
   "source": [
    "baltic_ids = []\n",
    "for i in range(3):\n",
    "    for j in range(coords.shape[1]):\n",
    "        if all(coords.values[:,j] == baltic_coords[:,i]):\n",
    "            baltic_ids.append(j)"
   ]
  },
  {
   "cell_type": "code",
   "execution_count": 6,
   "id": "going-effects",
   "metadata": {},
   "outputs": [
    {
     "data": {
      "text/html": [
       "<div>\n",
       "<style scoped>\n",
       "    .dataframe tbody tr th:only-of-type {\n",
       "        vertical-align: middle;\n",
       "    }\n",
       "\n",
       "    .dataframe tbody tr th {\n",
       "        vertical-align: top;\n",
       "    }\n",
       "\n",
       "    .dataframe thead th {\n",
       "        text-align: right;\n",
       "    }\n",
       "</style>\n",
       "<table border=\"1\" class=\"dataframe\">\n",
       "  <thead>\n",
       "    <tr style=\"text-align: right;\">\n",
       "      <th></th>\n",
       "      <th>5640</th>\n",
       "      <th>5690</th>\n",
       "      <th>5773</th>\n",
       "    </tr>\n",
       "  </thead>\n",
       "  <tbody>\n",
       "    <tr>\n",
       "      <th>0</th>\n",
       "      <td>56.0000</td>\n",
       "      <td>58.0000</td>\n",
       "      <td>62.0000</td>\n",
       "    </tr>\n",
       "    <tr>\n",
       "      <th>1</th>\n",
       "      <td>19.6875</td>\n",
       "      <td>19.6875</td>\n",
       "      <td>19.6875</td>\n",
       "    </tr>\n",
       "  </tbody>\n",
       "</table>\n",
       "</div>"
      ],
      "text/plain": [
       "      5640     5690     5773\n",
       "0  56.0000  58.0000  62.0000\n",
       "1  19.6875  19.6875  19.6875"
      ]
     },
     "execution_count": 6,
     "metadata": {},
     "output_type": "execute_result"
    }
   ],
   "source": [
    "pd.DataFrame(baltic_coords, columns=baltic_ids)"
   ]
  },
  {
   "cell_type": "code",
   "execution_count": 7,
   "id": "substantial-uniform",
   "metadata": {},
   "outputs": [
    {
     "data": {
      "text/plain": [
       "[5640, 5690, 5773]"
      ]
     },
     "execution_count": 7,
     "metadata": {},
     "output_type": "execute_result"
    }
   ],
   "source": [
    "baltic_ids"
   ]
  },
  {
   "cell_type": "code",
   "execution_count": 8,
   "id": "entertaining-piano",
   "metadata": {},
   "outputs": [],
   "source": [
    "def read_test_data(start_id=-14):\n",
    "    Dfs = []\n",
    "    test_df = []\n",
    "    coords = pd.DataFrame(baltic_coords, columns=baltic_ids)\n",
    "    for name in [\"mslp\", \"sst\", \"ssta\", \"t2m\"]:\n",
    "        df = pd.read_csv(f\"./target/data_1940_2023/{name}_1940_2023.csv\", header=None)\n",
    "        Dfs.append(df)\n",
    "        #Dfs.append(df.T.reset_index(drop=True))\n",
    "    if start_id < -12:\n",
    "        feat = pd.concat([coords, Dfs[0].iloc[start_id:start_id+12, baltic_ids], Dfs[1].iloc[start_id:start_id+12, baltic_ids], Dfs[2].iloc[start_id:start_id+12, baltic_ids], Dfs[3].iloc[start_id:start_id+12, baltic_ids]], axis=0).reset_index(drop=True)\n",
    "    else:\n",
    "        feat = pd.concat([coords, Dfs[0].iloc[start_id:, baltic_ids], Dfs[1].iloc[start_id:, baltic_ids], Dfs[2].iloc[start_id:, baltic_ids], Dfs[3].iloc[start_id:, baltic_ids]], axis=0).reset_index(drop=True)\n",
    "    feat = feat.T.reset_index(drop=True)\n",
    "    feat.columns = [f\"feat_{k}\" for k in range(feat.shape[1])]\n",
    "    #print(feat.columns)\n",
    "    return feat"
   ]
  },
  {
   "cell_type": "code",
   "execution_count": 32,
   "id": "grateful-logging",
   "metadata": {},
   "outputs": [],
   "source": [
    "test_data = read_test_data()"
   ]
  },
  {
   "cell_type": "code",
   "execution_count": 33,
   "id": "assigned-fifty",
   "metadata": {},
   "outputs": [
    {
     "data": {
      "text/html": [
       "<div>\n",
       "<style scoped>\n",
       "    .dataframe tbody tr th:only-of-type {\n",
       "        vertical-align: middle;\n",
       "    }\n",
       "\n",
       "    .dataframe tbody tr th {\n",
       "        vertical-align: top;\n",
       "    }\n",
       "\n",
       "    .dataframe thead th {\n",
       "        text-align: right;\n",
       "    }\n",
       "</style>\n",
       "<table border=\"1\" class=\"dataframe\">\n",
       "  <thead>\n",
       "    <tr style=\"text-align: right;\">\n",
       "      <th></th>\n",
       "      <th>feat_0</th>\n",
       "      <th>feat_1</th>\n",
       "      <th>feat_2</th>\n",
       "      <th>feat_3</th>\n",
       "      <th>feat_4</th>\n",
       "      <th>feat_5</th>\n",
       "      <th>feat_6</th>\n",
       "      <th>feat_7</th>\n",
       "      <th>feat_8</th>\n",
       "      <th>feat_9</th>\n",
       "      <th>...</th>\n",
       "      <th>feat_40</th>\n",
       "      <th>feat_41</th>\n",
       "      <th>feat_42</th>\n",
       "      <th>feat_43</th>\n",
       "      <th>feat_44</th>\n",
       "      <th>feat_45</th>\n",
       "      <th>feat_46</th>\n",
       "      <th>feat_47</th>\n",
       "      <th>feat_48</th>\n",
       "      <th>feat_49</th>\n",
       "    </tr>\n",
       "  </thead>\n",
       "  <tbody>\n",
       "    <tr>\n",
       "      <th>0</th>\n",
       "      <td>56.0</td>\n",
       "      <td>19.6875</td>\n",
       "      <td>101705.445</td>\n",
       "      <td>101270.770</td>\n",
       "      <td>101208.23</td>\n",
       "      <td>101790.530</td>\n",
       "      <td>100552.04</td>\n",
       "      <td>101821.305</td>\n",
       "      <td>102291.430</td>\n",
       "      <td>101757.340</td>\n",
       "      <td>...</td>\n",
       "      <td>276.93408</td>\n",
       "      <td>276.20554</td>\n",
       "      <td>276.24722</td>\n",
       "      <td>278.44556</td>\n",
       "      <td>282.93646</td>\n",
       "      <td>288.44046</td>\n",
       "      <td>290.28903</td>\n",
       "      <td>290.97590</td>\n",
       "      <td>290.67868</td>\n",
       "      <td>284.30115</td>\n",
       "    </tr>\n",
       "    <tr>\n",
       "      <th>1</th>\n",
       "      <td>58.0</td>\n",
       "      <td>19.6875</td>\n",
       "      <td>101684.590</td>\n",
       "      <td>101125.410</td>\n",
       "      <td>101025.28</td>\n",
       "      <td>101587.875</td>\n",
       "      <td>100332.65</td>\n",
       "      <td>101939.160</td>\n",
       "      <td>102279.805</td>\n",
       "      <td>101790.530</td>\n",
       "      <td>...</td>\n",
       "      <td>276.21640</td>\n",
       "      <td>275.42807</td>\n",
       "      <td>275.25590</td>\n",
       "      <td>277.51584</td>\n",
       "      <td>282.17530</td>\n",
       "      <td>288.25925</td>\n",
       "      <td>290.24370</td>\n",
       "      <td>290.25458</td>\n",
       "      <td>289.77795</td>\n",
       "      <td>283.07422</td>\n",
       "    </tr>\n",
       "    <tr>\n",
       "      <th>2</th>\n",
       "      <td>62.0</td>\n",
       "      <td>19.6875</td>\n",
       "      <td>101750.400</td>\n",
       "      <td>100919.914</td>\n",
       "      <td>100670.17</td>\n",
       "      <td>101230.780</td>\n",
       "      <td>100172.53</td>\n",
       "      <td>102125.650</td>\n",
       "      <td>102016.590</td>\n",
       "      <td>101739.336</td>\n",
       "      <td>...</td>\n",
       "      <td>274.09964</td>\n",
       "      <td>273.67374</td>\n",
       "      <td>272.60630</td>\n",
       "      <td>275.19790</td>\n",
       "      <td>279.21760</td>\n",
       "      <td>285.83618</td>\n",
       "      <td>289.50974</td>\n",
       "      <td>289.69458</td>\n",
       "      <td>287.90945</td>\n",
       "      <td>279.48944</td>\n",
       "    </tr>\n",
       "  </tbody>\n",
       "</table>\n",
       "<p>3 rows × 50 columns</p>\n",
       "</div>"
      ],
      "text/plain": [
       "   feat_0   feat_1      feat_2      feat_3     feat_4      feat_5     feat_6  \\\n",
       "0    56.0  19.6875  101705.445  101270.770  101208.23  101790.530  100552.04   \n",
       "1    58.0  19.6875  101684.590  101125.410  101025.28  101587.875  100332.65   \n",
       "2    62.0  19.6875  101750.400  100919.914  100670.17  101230.780  100172.53   \n",
       "\n",
       "       feat_7      feat_8      feat_9  ...    feat_40    feat_41    feat_42  \\\n",
       "0  101821.305  102291.430  101757.340  ...  276.93408  276.20554  276.24722   \n",
       "1  101939.160  102279.805  101790.530  ...  276.21640  275.42807  275.25590   \n",
       "2  102125.650  102016.590  101739.336  ...  274.09964  273.67374  272.60630   \n",
       "\n",
       "     feat_43    feat_44    feat_45    feat_46    feat_47    feat_48    feat_49  \n",
       "0  278.44556  282.93646  288.44046  290.28903  290.97590  290.67868  284.30115  \n",
       "1  277.51584  282.17530  288.25925  290.24370  290.25458  289.77795  283.07422  \n",
       "2  275.19790  279.21760  285.83618  289.50974  289.69458  287.90945  279.48944  \n",
       "\n",
       "[3 rows x 50 columns]"
      ]
     },
     "execution_count": 33,
     "metadata": {},
     "output_type": "execute_result"
    }
   ],
   "source": [
    "test_data"
   ]
  },
  {
   "cell_type": "code",
   "execution_count": 11,
   "id": "through-yesterday",
   "metadata": {},
   "outputs": [],
   "source": [
    "monthly_stats = np.load(\"monthly_stats.npy\")"
   ]
  },
  {
   "cell_type": "code",
   "execution_count": 12,
   "id": "worthy-fluid",
   "metadata": {},
   "outputs": [
    {
     "data": {
      "text/plain": [
       "(3, 24)"
      ]
     },
     "execution_count": 12,
     "metadata": {},
     "output_type": "execute_result"
    }
   ],
   "source": [
    "monthly_stats[baltic_ids].shape"
   ]
  },
  {
   "cell_type": "code",
   "execution_count": 13,
   "id": "motivated-nutrition",
   "metadata": {},
   "outputs": [],
   "source": [
    "monthly_stats_df = pd.DataFrame(monthly_stats[baltic_ids], columns=[f\"add_feat_{i}\" for i in range(24)])"
   ]
  },
  {
   "cell_type": "code",
   "execution_count": 14,
   "id": "lyric-diagnosis",
   "metadata": {},
   "outputs": [],
   "source": [
    "#data_rich = pd.concat([test_data.reset_index(drop=True), monthly_stats_df], axis=1)"
   ]
  },
  {
   "cell_type": "code",
   "execution_count": 15,
   "id": "radical-project",
   "metadata": {},
   "outputs": [],
   "source": [
    "import joblib"
   ]
  },
  {
   "cell_type": "code",
   "execution_count": null,
   "id": "satisfied-locator",
   "metadata": {},
   "outputs": [],
   "source": []
  },
  {
   "cell_type": "markdown",
   "id": "metallic-reynolds",
   "metadata": {},
   "source": [
    "## K-Fold Predictions"
   ]
  },
  {
   "cell_type": "code",
   "execution_count": 16,
   "id": "greater-craps",
   "metadata": {},
   "outputs": [],
   "source": [
    "import os\n",
    "from sklearn.base import BaseEstimator, RegressorMixin\n",
    "from sklearn.preprocessing import StandardScaler"
   ]
  },
  {
   "cell_type": "code",
   "execution_count": 17,
   "id": "celtic-exhibit",
   "metadata": {},
   "outputs": [],
   "source": [
    "class VotingModel(BaseEstimator, RegressorMixin):\n",
    "    def __init__(self, estimators, coeffs):\n",
    "        super().__init__()\n",
    "        self.estimators = estimators\n",
    "        self.coeffs = coeffs\n",
    "        \n",
    "    def fit(self, X, y=None):\n",
    "        return self\n",
    "    \n",
    "    def predict(self, X):\n",
    "        y_preds = [coeff*estimator.predict(X) for estimator, coeff in zip(self.estimators, self.coeffs)]\n",
    "        return np.sum(y_preds, axis=0)"
   ]
  },
  {
   "cell_type": "code",
   "execution_count": 18,
   "id": "social-maintenance",
   "metadata": {},
   "outputs": [],
   "source": [
    "def load_boosting_models(path, num_folds=5):\n",
    "    Models = []\n",
    "    for fold in range(num_folds):\n",
    "        for model_name in [\"catb\", \"lgb\"]:\n",
    "            for trained_model_path in os.listdir(path):\n",
    "                if trained_model_path.startswith(\".\"): continue\n",
    "                if model_name in trained_model_path and f'fold{fold}' in trained_model_path:\n",
    "                    model = joblib.load(f'{path}/{trained_model_path}')\n",
    "                    Models.append(model)\n",
    "    return Models"
   ]
  },
  {
   "cell_type": "code",
   "execution_count": 19,
   "id": "cathedral-sellers",
   "metadata": {},
   "outputs": [],
   "source": [
    "def load_xgb_models(path, num_folds=5):\n",
    "    Models = []\n",
    "    for fold in range(num_folds):\n",
    "        for model_name in [\"xgb\"]:\n",
    "            for trained_model_path in os.listdir(path):\n",
    "                if trained_model_path.startswith(\".\"): continue\n",
    "                if model_name in trained_model_path and f'fold{fold}' in trained_model_path:\n",
    "                    model = joblib.load(f'{path}/{trained_model_path}')\n",
    "                    Models.append(model)\n",
    "    return Models"
   ]
  },
  {
   "cell_type": "code",
   "execution_count": 20,
   "id": "broken-contamination",
   "metadata": {},
   "outputs": [],
   "source": [
    "boosting_models = load_boosting_models(\"./kfold_trained2/\", 5)\n",
    "coeffs = [0.1, 0.1, 0.1, 0.1, 0.1, 0.1, 0.1, 0.1, 0.1, 0.1]\n",
    "boosting_models = VotingModel(boosting_models, coeffs)"
   ]
  },
  {
   "cell_type": "code",
   "execution_count": 21,
   "id": "partial-alcohol",
   "metadata": {},
   "outputs": [],
   "source": [
    "add_feat_boosting_models = VotingModel(load_boosting_models(\"./trained3/\"), coeffs)"
   ]
  },
  {
   "cell_type": "code",
   "execution_count": 22,
   "id": "general-statement",
   "metadata": {},
   "outputs": [],
   "source": [
    "from pytorch_implementation.dataset import Dataset\n",
    "from pytorch_implementation.helper_funcs import *"
   ]
  },
  {
   "cell_type": "code",
   "execution_count": 23,
   "id": "becoming-allen",
   "metadata": {},
   "outputs": [],
   "source": [
    "trained_nn_models = load_trained(\"./trained_nn2\")"
   ]
  },
  {
   "cell_type": "code",
   "execution_count": 24,
   "id": "standard-wonder",
   "metadata": {},
   "outputs": [],
   "source": [
    "def predict_september2024():\n",
    "    def predict3monthsahead(input_data, data_rich):\n",
    "        y_pred_boost = boosting_models.predict(input_data.values)\n",
    "        y_pred_add_feat = add_feat_boosting_models.predict(data_rich.values)\n",
    "        y_pred_gru = average_prediction(data_rich.values, trained_nn_models[0::2])\n",
    "        y_pred_lstm = average_prediction(data_rich.values, trained_nn_models[1::2])\n",
    "        y_pred = 0.29*y_pred_add_feat + 0.925*(0.92*y_pred_boost + 0.01*y_pred_gru.squeeze() + 0.10*y_pred_lstm.squeeze())\n",
    "        return y_pred\n",
    "    ## First predict for Jan, Feb, March 2024    \n",
    "    jan_feb_march = []\n",
    "    print('Predicting for Jan, Feb, March 2024...')\n",
    "    for start_id in [-14, -13, -12]:\n",
    "        input_data = read_test_data(start_id)\n",
    "        data_rich = pd.concat([input_data.reset_index(drop=True), monthly_stats_df], axis=1)\n",
    "        y_pred = predict3monthsahead(input_data, data_rich)\n",
    "        jan_feb_march.append(y_pred)\n",
    "    \n",
    "    jan_feb_march = np.stack(jan_feb_march, axis=1)\n",
    "    \n",
    "    ## Now use the predicted values jan_feb_march together with data from Feb 2023 onwards to predict for April, May, June 2024\n",
    "    ## Note that only SSTA values will change, we keep the other variables unchanged as we do not predict new values for those\n",
    "    apr_may_jun = []\n",
    "    print('Predicting for April, May, June 2024...')\n",
    "    for i in range(3):\n",
    "        print('Before adding predicted data: ', input_data.iloc[:,35])\n",
    "        ## SSTA features are from column 24 till 36\n",
    "        input_data.loc[:, [f\"feat_{k}\" for k in range(24,36)]] = np.concatenate([input_data.iloc[:, 25:36].values, jan_feb_march[:,i].reshape(-1,1)], axis=1)\n",
    "        print('After adding predicted data: ', input_data.iloc[:,35])\n",
    "        data_rich = pd.concat([input_data.reset_index(drop=True), monthly_stats_df], axis=1)\n",
    "        y_pred = predict3monthsahead(input_data, data_rich)\n",
    "        apr_may_jun.append(y_pred)\n",
    "    apr_may_jun = np.stack(apr_may_jun, axis=1)\n",
    "    \n",
    "    print('Final prediction (September 2024)...')\n",
    "    ## Finally, we predict for September 2024 using data up to Jun 2024 (remember we predicted ssta from Jan 2024 to June 2024)\n",
    "    input_data.loc[:, [f\"feat_{k}\" for k in range(24,36)]] = np.concatenate([input_data.iloc[:, 27:36].values, apr_may_jun], axis=1)\n",
    "    data_rich = pd.concat([input_data.reset_index(drop=True), monthly_stats_df], axis=1)\n",
    "    pred_sept = predict3monthsahead(input_data, data_rich)\n",
    "    \n",
    "    return jan_feb_march, apr_may_jun, pred_sept"
   ]
  },
  {
   "cell_type": "code",
   "execution_count": 25,
   "id": "dried-mortgage",
   "metadata": {},
   "outputs": [
    {
     "name": "stdout",
     "output_type": "stream",
     "text": [
      "Predicting for Jan, Feb, March 2024...\n",
      "Predicting for April, May, June 2024...\n",
      "Before adding predicted data:  0    1.186523\n",
      "1    1.514099\n",
      "2    1.142975\n",
      "Name: feat_35, dtype: float64\n",
      "After adding predicted data:  0    0.870196\n",
      "1    0.787588\n",
      "2    0.443585\n",
      "Name: feat_35, dtype: float64\n",
      "Before adding predicted data:  0    0.870196\n",
      "1    0.787588\n",
      "2    0.443585\n",
      "Name: feat_35, dtype: float64\n",
      "After adding predicted data:  0    0.862272\n",
      "1    0.823358\n",
      "2    0.170854\n",
      "Name: feat_35, dtype: float64\n",
      "Before adding predicted data:  0    0.862272\n",
      "1    0.823358\n",
      "2    0.170854\n",
      "Name: feat_35, dtype: float64\n",
      "After adding predicted data:  0    0.736040\n",
      "1    0.470608\n",
      "2   -0.262733\n",
      "Name: feat_35, dtype: float64\n",
      "Final prediction (September 2024)...\n"
     ]
    }
   ],
   "source": [
    "jan_feb_march, apr_may_jun, pred_sept = predict_september2024()"
   ]
  },
  {
   "cell_type": "code",
   "execution_count": 26,
   "id": "proprietary-response",
   "metadata": {},
   "outputs": [
    {
     "data": {
      "text/plain": [
       "array([ 0.71619916,  0.45978862, -0.21562257])"
      ]
     },
     "execution_count": 26,
     "metadata": {},
     "output_type": "execute_result"
    }
   ],
   "source": [
    "pred_sept"
   ]
  },
  {
   "cell_type": "code",
   "execution_count": 27,
   "id": "architectural-exchange",
   "metadata": {},
   "outputs": [],
   "source": [
    "all_preds = np.concatenate([jan_feb_march, apr_may_jun, pred_sept.reshape(-1,1)], axis=1)"
   ]
  },
  {
   "cell_type": "code",
   "execution_count": 28,
   "id": "closed-slave",
   "metadata": {},
   "outputs": [],
   "source": [
    "import matplotlib.pyplot as plt"
   ]
  },
  {
   "cell_type": "code",
   "execution_count": 29,
   "id": "ultimate-offset",
   "metadata": {},
   "outputs": [
    {
     "data": {
      "image/png": "[encoded data removed]",
      "text/plain": [
       "<Figure size 640x480 with 1 Axes>"
      ]
     },
     "metadata": {},
     "output_type": "display_data"
    }
   ],
   "source": [
    "plt.plot(all_preds[0,:])\n",
    "plt.title(f'coords = {baltic_coords.T[0]}')\n",
    "plt.show()"
   ]
  },
  {
   "cell_type": "code",
   "execution_count": 30,
   "id": "falling-miniature",
   "metadata": {},
   "outputs": [
    {
     "data": {
      "image/png": "[encoded data removed]",
      "text/plain": [
       "<Figure size 640x480 with 1 Axes>"
      ]
     },
     "metadata": {},
     "output_type": "display_data"
    }
   ],
   "source": [
    "plt.plot(all_preds[1,:])\n",
    "plt.title(f'coords = {baltic_coords.T[1]}')\n",
    "plt.show()"
   ]
  },
  {
   "cell_type": "code",
   "execution_count": 31,
   "id": "failing-typing",
   "metadata": {},
   "outputs": [
    {
     "data": {
      "image/png": "[encoded data removed]",
      "text/plain": [
       "<Figure size 640x480 with 1 Axes>"
      ]
     },
     "metadata": {},
     "output_type": "display_data"
    }
   ],
   "source": [
    "plt.plot(all_preds[2,:])\n",
    "plt.title(f'coords = {baltic_coords.T[2]}')\n",
    "plt.show()"
   ]
  },
  {
   "cell_type": "code",
   "execution_count": null,
   "id": "three-logistics",
   "metadata": {},
   "outputs": [],
   "source": []
  }
 ],
 "metadata": {
  "kernelspec": {
   "display_name": "ecmldeep",
   "language": "python",
   "name": "ecmldeep"
  },
  "language_info": {
   "codemirror_mode": {
    "name": "ipython",
    "version": 3
   },
   "file_extension": ".py",
   "mimetype": "text/x-python",
   "name": "python",
   "nbconvert_exporter": "python",
   "pygments_lexer": "ipython3",
   "version": "3.10.14"
  }
 },
 "nbformat": 4,
 "nbformat_minor": 5
}
